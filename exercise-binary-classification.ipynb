{
 "cells": [
  {
   "cell_type": "markdown",
   "id": "91b08615",
   "metadata": {
    "papermill": {
     "duration": 0.003225,
     "end_time": "2025-06-06T06:31:17.908763",
     "exception": false,
     "start_time": "2025-06-06T06:31:17.905538",
     "status": "completed"
    },
    "tags": []
   },
   "source": [
    "**This notebook is an exercise in the [Intro to Deep Learning](https://www.kaggle.com/learn/intro-to-deep-learning) course.  You can reference the tutorial at [this link](https://www.kaggle.com/ryanholbrook/binary-classification).**\n",
    "\n",
    "---\n"
   ]
  },
  {
   "cell_type": "markdown",
   "id": "f0c80dc9",
   "metadata": {
    "papermill": {
     "duration": 0.002479,
     "end_time": "2025-06-06T06:31:17.914165",
     "exception": false,
     "start_time": "2025-06-06T06:31:17.911686",
     "status": "completed"
    },
    "tags": []
   },
   "source": [
    "# Introduction #\n",
    "\n",
    "In this exercise, you'll build a model to predict hotel cancellations with a binary classifier."
   ]
  },
  {
   "cell_type": "code",
   "execution_count": 1,
   "id": "bc98c81f",
   "metadata": {
    "execution": {
     "iopub.execute_input": "2025-06-06T06:31:17.920789Z",
     "iopub.status.busy": "2025-06-06T06:31:17.920466Z",
     "iopub.status.idle": "2025-06-06T06:31:18.841950Z",
     "shell.execute_reply": "2025-06-06T06:31:18.841025Z"
    },
    "lines_to_next_cell": 0,
    "papermill": {
     "duration": 0.927211,
     "end_time": "2025-06-06T06:31:18.844031",
     "exception": false,
     "start_time": "2025-06-06T06:31:17.916820",
     "status": "completed"
    },
    "tags": []
   },
   "outputs": [
    {
     "name": "stderr",
     "output_type": "stream",
     "text": [
      "/tmp/ipykernel_26/3338970720.py:3: MatplotlibDeprecationWarning: The seaborn styles shipped by Matplotlib are deprecated since 3.6, as they no longer correspond to the styles shipped by seaborn. However, they will remain available as 'seaborn-v0_8-<style>'. Alternatively, directly use the seaborn API instead.\n",
      "  plt.style.use('seaborn-whitegrid')\n"
     ]
    }
   ],
   "source": [
    "# Setup plotting\n",
    "import matplotlib.pyplot as plt\n",
    "plt.style.use('seaborn-whitegrid')\n",
    "# Set Matplotlib defaults\n",
    "plt.rc('figure', autolayout=True)\n",
    "plt.rc('axes', labelweight='bold', labelsize='large',\n",
    "       titleweight='bold', titlesize=18, titlepad=10)\n",
    "plt.rc('animation', html='html5')\n",
    "\n",
    "# Setup feedback system\n",
    "from learntools.core import binder\n",
    "binder.bind(globals())\n",
    "from learntools.deep_learning_intro.ex6 import *"
   ]
  },
  {
   "cell_type": "markdown",
   "id": "05b6f33c",
   "metadata": {
    "papermill": {
     "duration": 0.002552,
     "end_time": "2025-06-06T06:31:18.849782",
     "exception": false,
     "start_time": "2025-06-06T06:31:18.847230",
     "status": "completed"
    },
    "tags": []
   },
   "source": [
    "First, load the *Hotel Cancellations* dataset."
   ]
  },
  {
   "cell_type": "code",
   "execution_count": 2,
   "id": "e565606f",
   "metadata": {
    "execution": {
     "iopub.execute_input": "2025-06-06T06:31:18.856585Z",
     "iopub.status.busy": "2025-06-06T06:31:18.856183Z",
     "iopub.status.idle": "2025-06-06T06:31:21.108767Z",
     "shell.execute_reply": "2025-06-06T06:31:21.107700Z"
    },
    "lines_to_next_cell": 2,
    "papermill": {
     "duration": 2.258558,
     "end_time": "2025-06-06T06:31:21.111028",
     "exception": false,
     "start_time": "2025-06-06T06:31:18.852470",
     "status": "completed"
    },
    "tags": []
   },
   "outputs": [],
   "source": [
    "import pandas as pd\n",
    "\n",
    "from sklearn.model_selection import train_test_split\n",
    "from sklearn.preprocessing import StandardScaler, OneHotEncoder\n",
    "from sklearn.impute import SimpleImputer\n",
    "from sklearn.pipeline import make_pipeline\n",
    "from sklearn.compose import make_column_transformer\n",
    "\n",
    "hotel = pd.read_csv('../input/dl-course-data/hotel.csv')\n",
    "\n",
    "X = hotel.copy()\n",
    "y = X.pop('is_canceled')\n",
    "\n",
    "X['arrival_date_month'] = \\\n",
    "    X['arrival_date_month'].map(\n",
    "        {'January':1, 'February': 2, 'March':3,\n",
    "         'April':4, 'May':5, 'June':6, 'July':7,\n",
    "         'August':8, 'September':9, 'October':10,\n",
    "         'November':11, 'December':12}\n",
    "    )\n",
    "\n",
    "features_num = [\n",
    "    \"lead_time\", \"arrival_date_week_number\",\n",
    "    \"arrival_date_day_of_month\", \"stays_in_weekend_nights\",\n",
    "    \"stays_in_week_nights\", \"adults\", \"children\", \"babies\",\n",
    "    \"is_repeated_guest\", \"previous_cancellations\",\n",
    "    \"previous_bookings_not_canceled\", \"required_car_parking_spaces\",\n",
    "    \"total_of_special_requests\", \"adr\",\n",
    "]\n",
    "features_cat = [\n",
    "    \"hotel\", \"arrival_date_month\", \"meal\",\n",
    "    \"market_segment\", \"distribution_channel\",\n",
    "    \"reserved_room_type\", \"deposit_type\", \"customer_type\",\n",
    "]\n",
    "\n",
    "transformer_num = make_pipeline(\n",
    "    SimpleImputer(strategy=\"constant\"), # there are a few missing values\n",
    "    StandardScaler(),\n",
    ")\n",
    "transformer_cat = make_pipeline(\n",
    "    SimpleImputer(strategy=\"constant\", fill_value=\"NA\"),\n",
    "    OneHotEncoder(handle_unknown='ignore'),\n",
    ")\n",
    "\n",
    "preprocessor = make_column_transformer(\n",
    "    (transformer_num, features_num),\n",
    "    (transformer_cat, features_cat),\n",
    ")\n",
    "\n",
    "# stratify - make sure classes are evenlly represented across splits\n",
    "X_train, X_valid, y_train, y_valid = \\\n",
    "    train_test_split(X, y, stratify=y, train_size=0.75)\n",
    "\n",
    "X_train = preprocessor.fit_transform(X_train)\n",
    "X_valid = preprocessor.transform(X_valid)\n",
    "\n",
    "input_shape = [X_train.shape[1]]"
   ]
  },
  {
   "cell_type": "markdown",
   "id": "8b5de3d4",
   "metadata": {
    "papermill": {
     "duration": 0.003347,
     "end_time": "2025-06-06T06:31:21.118390",
     "exception": false,
     "start_time": "2025-06-06T06:31:21.115043",
     "status": "completed"
    },
    "tags": []
   },
   "source": [
    "# 1) Define Model #\n",
    "\n",
    "The model we'll use this time will have both batch normalization and dropout layers. To ease reading we've broken the diagram into blocks, but you can define it layer by layer as usual.\n",
    "\n",
    "Define a model with an architecture given by this diagram:\n",
    "\n",
    "<figure style=\"padding: 1em;\">\n",
    "<img src=\"https://storage.googleapis.com/kaggle-media/learn/images/V04o59Z.png\" width=\"400\" alt=\"Diagram of network architecture: BatchNorm, Dense, BatchNorm, Dropout, Dense, BatchNorm, Dropout, Dense.\">\n",
    "<figcaption style=\"textalign: center; font-style: italic\"><center>Diagram of a binary classifier.</center></figcaption>\n",
    "</figure>\n"
   ]
  },
  {
   "cell_type": "code",
   "execution_count": 3,
   "id": "b9f9a2b7",
   "metadata": {
    "execution": {
     "iopub.execute_input": "2025-06-06T06:31:21.125762Z",
     "iopub.status.busy": "2025-06-06T06:31:21.125485Z",
     "iopub.status.idle": "2025-06-06T06:31:33.391074Z",
     "shell.execute_reply": "2025-06-06T06:31:33.390319Z"
    },
    "lines_to_next_cell": 2,
    "papermill": {
     "duration": 12.271673,
     "end_time": "2025-06-06T06:31:33.393117",
     "exception": false,
     "start_time": "2025-06-06T06:31:21.121444",
     "status": "completed"
    },
    "tags": []
   },
   "outputs": [
    {
     "name": "stderr",
     "output_type": "stream",
     "text": [
      "2025-06-06 06:31:22.874906: E external/local_xla/xla/stream_executor/cuda/cuda_dnn.cc:9261] Unable to register cuDNN factory: Attempting to register factory for plugin cuDNN when one has already been registered\n",
      "2025-06-06 06:31:22.875059: E external/local_xla/xla/stream_executor/cuda/cuda_fft.cc:607] Unable to register cuFFT factory: Attempting to register factory for plugin cuFFT when one has already been registered\n",
      "2025-06-06 06:31:23.000929: E external/local_xla/xla/stream_executor/cuda/cuda_blas.cc:1515] Unable to register cuBLAS factory: Attempting to register factory for plugin cuBLAS when one has already been registered\n"
     ]
    },
    {
     "data": {
      "application/javascript": [
       "parent.postMessage({\"jupyterEvent\": \"custom.exercise_interaction\", \"data\": {\"outcomeType\": 1, \"valueTowardsCompletion\": 0.3333333333333333, \"interactionType\": 1, \"questionType\": 2, \"questionId\": \"1_Q1\", \"learnToolsVersion\": \"0.3.4\", \"failureMessage\": \"\", \"exceptionClass\": \"\", \"trace\": \"\"}}, \"*\")"
      ],
      "text/plain": [
       "<IPython.core.display.Javascript object>"
      ]
     },
     "metadata": {},
     "output_type": "display_data"
    },
    {
     "data": {
      "text/markdown": [
       "<span style=\"color:#33cc33\">Correct</span>"
      ],
      "text/plain": [
       "Correct"
      ]
     },
     "metadata": {},
     "output_type": "display_data"
    }
   ],
   "source": [
    "from tensorflow import keras\n",
    "from tensorflow.keras import layers\n",
    "\n",
    "# YOUR CODE HERE: define the model given in the diagram\n",
    "model = keras.Sequential([\n",
    "    layers.BatchNormalization(input_shape = input_shape),\n",
    "    layers.Dense(256, activation='relu'),\n",
    "    layers.BatchNormalization(),\n",
    "    layers.Dropout(0.3),\n",
    "    layers.Dense(256, activation='relu'),\n",
    "    layers.BatchNormalization(),\n",
    "    layers.Dropout(0.3),\n",
    "    layers.Dense(1, activation='sigmoid'),\n",
    "])\n",
    "\n",
    "# Check your answer\n",
    "q_1.check()"
   ]
  },
  {
   "cell_type": "markdown",
   "id": "42258c66",
   "metadata": {
    "papermill": {
     "duration": 0.002886,
     "end_time": "2025-06-06T06:31:33.399118",
     "exception": false,
     "start_time": "2025-06-06T06:31:33.396232",
     "status": "completed"
    },
    "tags": []
   },
   "source": [
    "# 2) Add Optimizer, Loss, and Metric #\n",
    "\n",
    "Now compile the model with the Adam optimizer and binary versions of the cross-entropy loss and accuracy metric."
   ]
  },
  {
   "cell_type": "code",
   "execution_count": 4,
   "id": "a3c75724",
   "metadata": {
    "execution": {
     "iopub.execute_input": "2025-06-06T06:31:33.406349Z",
     "iopub.status.busy": "2025-06-06T06:31:33.405761Z",
     "iopub.status.idle": "2025-06-06T06:31:33.426045Z",
     "shell.execute_reply": "2025-06-06T06:31:33.425191Z"
    },
    "lines_to_next_cell": 0,
    "papermill": {
     "duration": 0.025714,
     "end_time": "2025-06-06T06:31:33.427716",
     "exception": false,
     "start_time": "2025-06-06T06:31:33.402002",
     "status": "completed"
    },
    "tags": []
   },
   "outputs": [
    {
     "data": {
      "application/javascript": [
       "parent.postMessage({\"jupyterEvent\": \"custom.exercise_interaction\", \"data\": {\"outcomeType\": 1, \"valueTowardsCompletion\": 0.3333333333333333, \"interactionType\": 1, \"questionType\": 2, \"questionId\": \"2_Q2\", \"learnToolsVersion\": \"0.3.4\", \"failureMessage\": \"\", \"exceptionClass\": \"\", \"trace\": \"\"}}, \"*\")"
      ],
      "text/plain": [
       "<IPython.core.display.Javascript object>"
      ]
     },
     "metadata": {},
     "output_type": "display_data"
    },
    {
     "data": {
      "text/markdown": [
       "<span style=\"color:#33cc33\">Correct</span>"
      ],
      "text/plain": [
       "Correct"
      ]
     },
     "metadata": {},
     "output_type": "display_data"
    }
   ],
   "source": [
    "# YOUR CODE HERE\n",
    "model.compile(\n",
    "    optimizer='adam',\n",
    "    loss='binary_crossentropy',\n",
    "    metrics=['binary_accuracy'],\n",
    ")\n",
    "\n",
    "# Check your answer\n",
    "q_2.check()"
   ]
  },
  {
   "cell_type": "code",
   "execution_count": 5,
   "id": "ad3c5d8b",
   "metadata": {
    "execution": {
     "iopub.execute_input": "2025-06-06T06:31:33.435474Z",
     "iopub.status.busy": "2025-06-06T06:31:33.434963Z",
     "iopub.status.idle": "2025-06-06T06:31:33.438301Z",
     "shell.execute_reply": "2025-06-06T06:31:33.437605Z"
    },
    "lines_to_next_cell": 0,
    "papermill": {
     "duration": 0.008891,
     "end_time": "2025-06-06T06:31:33.439835",
     "exception": false,
     "start_time": "2025-06-06T06:31:33.430944",
     "status": "completed"
    },
    "tags": []
   },
   "outputs": [],
   "source": [
    "# Lines below will give you a hint or solution code\n",
    "#q_2.hint()\n",
    "#q_2.solution()"
   ]
  },
  {
   "cell_type": "markdown",
   "id": "6a6deb9a",
   "metadata": {
    "papermill": {
     "duration": 0.002878,
     "end_time": "2025-06-06T06:31:33.445898",
     "exception": false,
     "start_time": "2025-06-06T06:31:33.443020",
     "status": "completed"
    },
    "tags": []
   },
   "source": [
    "Finally, run this cell to train the model and view the learning curves. It may run for around 60 to 70 epochs, which could take a minute or two."
   ]
  },
  {
   "cell_type": "code",
   "execution_count": 6,
   "id": "6fb51f58",
   "metadata": {
    "execution": {
     "iopub.execute_input": "2025-06-06T06:31:33.453314Z",
     "iopub.status.busy": "2025-06-06T06:31:33.452767Z",
     "iopub.status.idle": "2025-06-06T06:32:19.640366Z",
     "shell.execute_reply": "2025-06-06T06:32:19.639496Z"
    },
    "papermill": {
     "duration": 46.193274,
     "end_time": "2025-06-06T06:32:19.642199",
     "exception": false,
     "start_time": "2025-06-06T06:31:33.448925",
     "status": "completed"
    },
    "tags": []
   },
   "outputs": [
    {
     "name": "stdout",
     "output_type": "stream",
     "text": [
      "Epoch 1/200\n"
     ]
    },
    {
     "name": "stderr",
     "output_type": "stream",
     "text": [
      "WARNING: All log messages before absl::InitializeLog() is called are written to STDERR\n",
      "I0000 00:00:1749191497.396184      68 device_compiler.h:186] Compiled cluster using XLA!  This line is logged at most once for the lifetime of the process.\n"
     ]
    },
    {
     "name": "stdout",
     "output_type": "stream",
     "text": [
      "175/175 [==============================] - 6s 7ms/step - loss: 0.4822 - binary_accuracy: 0.7729 - val_loss: 0.4343 - val_binary_accuracy: 0.7911\n",
      "Epoch 2/200\n",
      "175/175 [==============================] - 1s 5ms/step - loss: 0.4224 - binary_accuracy: 0.8014 - val_loss: 0.4081 - val_binary_accuracy: 0.8079\n",
      "Epoch 3/200\n",
      "175/175 [==============================] - 1s 5ms/step - loss: 0.4088 - binary_accuracy: 0.8089 - val_loss: 0.4001 - val_binary_accuracy: 0.8135\n",
      "Epoch 4/200\n",
      "175/175 [==============================] - 1s 6ms/step - loss: 0.4007 - binary_accuracy: 0.8128 - val_loss: 0.3962 - val_binary_accuracy: 0.8169\n",
      "Epoch 5/200\n",
      "175/175 [==============================] - 1s 5ms/step - loss: 0.3956 - binary_accuracy: 0.8154 - val_loss: 0.3928 - val_binary_accuracy: 0.8186\n",
      "Epoch 6/200\n",
      "175/175 [==============================] - 1s 5ms/step - loss: 0.3908 - binary_accuracy: 0.8182 - val_loss: 0.3880 - val_binary_accuracy: 0.8190\n",
      "Epoch 7/200\n",
      "175/175 [==============================] - 1s 5ms/step - loss: 0.3870 - binary_accuracy: 0.8194 - val_loss: 0.3869 - val_binary_accuracy: 0.8208\n",
      "Epoch 8/200\n",
      "175/175 [==============================] - 1s 5ms/step - loss: 0.3835 - binary_accuracy: 0.8216 - val_loss: 0.3831 - val_binary_accuracy: 0.8241\n",
      "Epoch 9/200\n",
      "175/175 [==============================] - 1s 5ms/step - loss: 0.3791 - binary_accuracy: 0.8253 - val_loss: 0.3811 - val_binary_accuracy: 0.8241\n",
      "Epoch 10/200\n",
      "175/175 [==============================] - 1s 5ms/step - loss: 0.3769 - binary_accuracy: 0.8245 - val_loss: 0.3770 - val_binary_accuracy: 0.8274\n",
      "Epoch 11/200\n",
      "175/175 [==============================] - 1s 5ms/step - loss: 0.3751 - binary_accuracy: 0.8264 - val_loss: 0.3783 - val_binary_accuracy: 0.8262\n",
      "Epoch 12/200\n",
      "175/175 [==============================] - 1s 5ms/step - loss: 0.3726 - binary_accuracy: 0.8271 - val_loss: 0.3752 - val_binary_accuracy: 0.8286\n",
      "Epoch 13/200\n",
      "175/175 [==============================] - 1s 5ms/step - loss: 0.3702 - binary_accuracy: 0.8289 - val_loss: 0.3739 - val_binary_accuracy: 0.8287\n",
      "Epoch 14/200\n",
      "175/175 [==============================] - 1s 5ms/step - loss: 0.3681 - binary_accuracy: 0.8293 - val_loss: 0.3738 - val_binary_accuracy: 0.8289\n",
      "Epoch 15/200\n",
      "175/175 [==============================] - 1s 5ms/step - loss: 0.3659 - binary_accuracy: 0.8299 - val_loss: 0.3705 - val_binary_accuracy: 0.8300\n",
      "Epoch 16/200\n",
      "175/175 [==============================] - 1s 5ms/step - loss: 0.3640 - binary_accuracy: 0.8316 - val_loss: 0.3694 - val_binary_accuracy: 0.8298\n",
      "Epoch 17/200\n",
      "175/175 [==============================] - 1s 6ms/step - loss: 0.3610 - binary_accuracy: 0.8334 - val_loss: 0.3696 - val_binary_accuracy: 0.8311\n",
      "Epoch 18/200\n",
      "175/175 [==============================] - 1s 5ms/step - loss: 0.3618 - binary_accuracy: 0.8334 - val_loss: 0.3680 - val_binary_accuracy: 0.8313\n",
      "Epoch 19/200\n",
      "175/175 [==============================] - 1s 5ms/step - loss: 0.3593 - binary_accuracy: 0.8337 - val_loss: 0.3677 - val_binary_accuracy: 0.8326\n",
      "Epoch 20/200\n",
      "175/175 [==============================] - 1s 5ms/step - loss: 0.3590 - binary_accuracy: 0.8333 - val_loss: 0.3643 - val_binary_accuracy: 0.8339\n",
      "Epoch 21/200\n",
      "175/175 [==============================] - 1s 5ms/step - loss: 0.3563 - binary_accuracy: 0.8352 - val_loss: 0.3640 - val_binary_accuracy: 0.8339\n",
      "Epoch 22/200\n",
      "175/175 [==============================] - 1s 5ms/step - loss: 0.3551 - binary_accuracy: 0.8356 - val_loss: 0.3650 - val_binary_accuracy: 0.8317\n",
      "Epoch 23/200\n",
      "175/175 [==============================] - 1s 5ms/step - loss: 0.3531 - binary_accuracy: 0.8364 - val_loss: 0.3645 - val_binary_accuracy: 0.8328\n",
      "Epoch 24/200\n",
      "175/175 [==============================] - 1s 5ms/step - loss: 0.3532 - binary_accuracy: 0.8365 - val_loss: 0.3625 - val_binary_accuracy: 0.8329\n",
      "Epoch 25/200\n",
      "175/175 [==============================] - 1s 5ms/step - loss: 0.3520 - binary_accuracy: 0.8382 - val_loss: 0.3620 - val_binary_accuracy: 0.8329\n",
      "Epoch 26/200\n",
      "175/175 [==============================] - 1s 5ms/step - loss: 0.3509 - binary_accuracy: 0.8372 - val_loss: 0.3619 - val_binary_accuracy: 0.8318\n",
      "Epoch 27/200\n",
      "175/175 [==============================] - 1s 5ms/step - loss: 0.3496 - binary_accuracy: 0.8387 - val_loss: 0.3618 - val_binary_accuracy: 0.8353\n",
      "Epoch 28/200\n",
      "175/175 [==============================] - 1s 5ms/step - loss: 0.3482 - binary_accuracy: 0.8401 - val_loss: 0.3603 - val_binary_accuracy: 0.8346\n",
      "Epoch 29/200\n",
      "175/175 [==============================] - 1s 5ms/step - loss: 0.3471 - binary_accuracy: 0.8401 - val_loss: 0.3609 - val_binary_accuracy: 0.8350\n",
      "Epoch 30/200\n",
      "175/175 [==============================] - 1s 5ms/step - loss: 0.3463 - binary_accuracy: 0.8397 - val_loss: 0.3586 - val_binary_accuracy: 0.8367\n",
      "Epoch 31/200\n",
      "175/175 [==============================] - 1s 5ms/step - loss: 0.3447 - binary_accuracy: 0.8399 - val_loss: 0.3606 - val_binary_accuracy: 0.8361\n",
      "Epoch 32/200\n",
      "175/175 [==============================] - 1s 5ms/step - loss: 0.3437 - binary_accuracy: 0.8414 - val_loss: 0.3597 - val_binary_accuracy: 0.8358\n",
      "Epoch 33/200\n",
      "175/175 [==============================] - 1s 5ms/step - loss: 0.3439 - binary_accuracy: 0.8405 - val_loss: 0.3599 - val_binary_accuracy: 0.8358\n",
      "Epoch 34/200\n",
      "175/175 [==============================] - 1s 5ms/step - loss: 0.3418 - binary_accuracy: 0.8421 - val_loss: 0.3585 - val_binary_accuracy: 0.8360\n",
      "Epoch 35/200\n",
      "175/175 [==============================] - 1s 5ms/step - loss: 0.3405 - binary_accuracy: 0.8431 - val_loss: 0.3570 - val_binary_accuracy: 0.8383\n",
      "Epoch 36/200\n",
      "175/175 [==============================] - 1s 5ms/step - loss: 0.3416 - binary_accuracy: 0.8427 - val_loss: 0.3586 - val_binary_accuracy: 0.8371\n",
      "Epoch 37/200\n",
      "175/175 [==============================] - 1s 5ms/step - loss: 0.3423 - binary_accuracy: 0.8424 - val_loss: 0.3594 - val_binary_accuracy: 0.8369\n",
      "Epoch 38/200\n",
      "175/175 [==============================] - 1s 5ms/step - loss: 0.3401 - binary_accuracy: 0.8427 - val_loss: 0.3564 - val_binary_accuracy: 0.8384\n",
      "Epoch 39/200\n",
      "175/175 [==============================] - 1s 5ms/step - loss: 0.3404 - binary_accuracy: 0.8425 - val_loss: 0.3546 - val_binary_accuracy: 0.8390\n",
      "Epoch 40/200\n",
      "175/175 [==============================] - 1s 5ms/step - loss: 0.3371 - binary_accuracy: 0.8441 - val_loss: 0.3559 - val_binary_accuracy: 0.8369\n",
      "Epoch 41/200\n",
      "175/175 [==============================] - 1s 5ms/step - loss: 0.3370 - binary_accuracy: 0.8439 - val_loss: 0.3561 - val_binary_accuracy: 0.8378\n",
      "Epoch 42/200\n",
      "175/175 [==============================] - 1s 5ms/step - loss: 0.3364 - binary_accuracy: 0.8436 - val_loss: 0.3575 - val_binary_accuracy: 0.8372\n",
      "Epoch 43/200\n",
      "175/175 [==============================] - 1s 5ms/step - loss: 0.3353 - binary_accuracy: 0.8457 - val_loss: 0.3588 - val_binary_accuracy: 0.8357\n",
      "Epoch 44/200\n",
      "175/175 [==============================] - 1s 5ms/step - loss: 0.3356 - binary_accuracy: 0.8455 - val_loss: 0.3553 - val_binary_accuracy: 0.8398\n"
     ]
    },
    {
     "data": {
      "text/plain": [
       "<Axes: title={'center': 'Accuracy'}>"
      ]
     },
     "execution_count": 6,
     "metadata": {},
     "output_type": "execute_result"
    },
    {
     "data": {
      "image/png": "[encoded data removed]",
      "text/plain": [
       "<Figure size 640x480 with 1 Axes>"
      ]
     },
     "metadata": {},
     "output_type": "display_data"
    },
    {
     "data": {
      "image/png": "[encoded data removed]",
      "text/plain": [
       "<Figure size 640x480 with 1 Axes>"
      ]
     },
     "metadata": {},
     "output_type": "display_data"
    }
   ],
   "source": [
    "early_stopping = keras.callbacks.EarlyStopping(\n",
    "    patience=5,\n",
    "    min_delta=0.001,\n",
    "    restore_best_weights=True,\n",
    ")\n",
    "history = model.fit(\n",
    "    X_train, y_train,\n",
    "    validation_data=(X_valid, y_valid),\n",
    "    batch_size=512,\n",
    "    epochs=200,\n",
    "    callbacks=[early_stopping],\n",
    ")\n",
    "\n",
    "history_df = pd.DataFrame(history.history)\n",
    "history_df.loc[:, ['loss', 'val_loss']].plot(title=\"Cross-entropy\")\n",
    "history_df.loc[:, ['binary_accuracy', 'val_binary_accuracy']].plot(title=\"Accuracy\")"
   ]
  },
  {
   "cell_type": "markdown",
   "id": "84d0f0fe",
   "metadata": {
    "papermill": {
     "duration": 0.039264,
     "end_time": "2025-06-06T06:32:19.720672",
     "exception": false,
     "start_time": "2025-06-06T06:32:19.681408",
     "status": "completed"
    },
    "tags": []
   },
   "source": [
    "# 3) Train and Evaluate #\n",
    "\n",
    "\n",
    "What do you think about the learning curves? Does it look like the model underfit or overfit? Was the cross-entropy loss a good stand-in for accuracy?"
   ]
  },
  {
   "cell_type": "code",
   "execution_count": 7,
   "id": "f69f99a3",
   "metadata": {
    "execution": {
     "iopub.execute_input": "2025-06-06T06:32:19.804025Z",
     "iopub.status.busy": "2025-06-06T06:32:19.803442Z",
     "iopub.status.idle": "2025-06-06T06:32:19.810048Z",
     "shell.execute_reply": "2025-06-06T06:32:19.809324Z"
    },
    "papermill": {
     "duration": 0.046546,
     "end_time": "2025-06-06T06:32:19.811653",
     "exception": false,
     "start_time": "2025-06-06T06:32:19.765107",
     "status": "completed"
    },
    "tags": []
   },
   "outputs": [
    {
     "data": {
      "application/javascript": [
       "parent.postMessage({\"jupyterEvent\": \"custom.exercise_interaction\", \"data\": {\"outcomeType\": 1, \"valueTowardsCompletion\": 0.3333333333333333, \"interactionType\": 1, \"questionType\": 4, \"questionId\": \"3_Q3\", \"learnToolsVersion\": \"0.3.4\", \"failureMessage\": \"\", \"exceptionClass\": \"\", \"trace\": \"\"}}, \"*\")"
      ],
      "text/plain": [
       "<IPython.core.display.Javascript object>"
      ]
     },
     "metadata": {},
     "output_type": "display_data"
    },
    {
     "data": {
      "text/markdown": [
       "<span style=\"color:#33cc33\">Correct:</span> \n",
       "\n",
       "Though we can see the training loss continuing to fall, the early stopping callback prevented any overfitting. Moreover, the accuracy rose at the same rate as the cross-entropy fell, so it appears that minimizing cross-entropy was a good stand-in. All in all, it looks like this training was a success!"
      ],
      "text/plain": [
       "Correct: \n",
       "\n",
       "Though we can see the training loss continuing to fall, the early stopping callback prevented any overfitting. Moreover, the accuracy rose at the same rate as the cross-entropy fell, so it appears that minimizing cross-entropy was a good stand-in. All in all, it looks like this training was a success!"
      ]
     },
     "metadata": {},
     "output_type": "display_data"
    }
   ],
   "source": [
    "# View the solution (Run this cell to receive credit!)\n",
    "q_3.check()"
   ]
  },
  {
   "cell_type": "markdown",
   "id": "8aa639f9",
   "metadata": {
    "papermill": {
     "duration": 0.037128,
     "end_time": "2025-06-06T06:32:19.886076",
     "exception": false,
     "start_time": "2025-06-06T06:32:19.848948",
     "status": "completed"
    },
    "tags": []
   },
   "source": [
    "# Conclusion #\n",
    "\n",
    "Congratulations! You've completed Kaggle's *Introduction to Deep Learning* course!\n",
    "\n",
    "With your new skills you're ready to take on more advanced applications like computer vision and sentiment classification. What would you like to do next?\n",
    "\n",
    "Why not try one of our *Getting Started* competitions?\n",
    "\n",
    "- Classify images with TPUs in [**Petals to the Metal**](https://www.kaggle.com/c/tpu-getting-started)\n",
    "- Create art with GANs in [**I'm Something of a Painter Myself**](https://www.kaggle.com/c/gan-getting-started)\n",
    "- Classify Tweets in [**Real or Not? NLP with Disaster Tweets**](https://www.kaggle.com/c/nlp-getting-started)\n",
    "- Detect contradiction and entailment in [**Contradictory, My Dear Watson**](https://www.kaggle.com/c/contradictory-my-dear-watson)\n",
    "\n",
    "Until next time, Kagglers!"
   ]
  },
  {
   "cell_type": "markdown",
   "id": "30865950",
   "metadata": {
    "papermill": {
     "duration": 0.036758,
     "end_time": "2025-06-06T06:32:19.960151",
     "exception": false,
     "start_time": "2025-06-06T06:32:19.923393",
     "status": "completed"
    },
    "tags": []
   },
   "source": [
    "---\n",
    "\n",
    "\n",
    "\n",
    "\n",
    "*Have questions or comments? Visit the [course discussion forum](https://www.kaggle.com/learn/intro-to-deep-learning/discussion) to chat with other learners.*"
   ]
  }
 ],
 "metadata": {
  "jupytext": {
   "cell_metadata_filter": "-all",
   "formats": "ipynb"
  },
  "kaggle": {
   "accelerator": "gpu",
   "dataSources": [
    {
     "datasetId": 829369,
     "sourceId": 1480608,
     "sourceType": "datasetVersion"
    }
   ],
   "dockerImageVersionId": 30648,
   "isGpuEnabled": true,
   "isInternetEnabled": false,
   "language": "python",
   "sourceType": "notebook"
  },
  "kernelspec": {
   "display_name": "Python 3",
   "language": "python",
   "name": "python3"
  },
  "language_info": {
   "codemirror_mode": {
    "name": "ipython",
    "version": 3
   },
   "file_extension": ".py",
   "mimetype": "text/x-python",
   "name": "python",
   "nbconvert_exporter": "python",
   "pygments_lexer": "ipython3",
   "version": "3.10.13"
  },
  "papermill": {
   "default_parameters": {},
   "duration": 67.153591,
   "end_time": "2025-06-06T06:32:22.534138",
   "environment_variables": {},
   "exception": null,
   "input_path": "__notebook__.ipynb",
   "output_path": "__notebook__.ipynb",
   "parameters": {},
   "start_time": "2025-06-06T06:31:15.380547",
   "version": "2.5.0"
  }
 },
 "nbformat": 4,
 "nbformat_minor": 5
}
