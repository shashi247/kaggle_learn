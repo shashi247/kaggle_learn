{
 "cells": [
  {
   "cell_type": "markdown",
   "id": "9707f3e6",
   "metadata": {
    "papermill": {
     "duration": 0.003717,
     "end_time": "2025-05-12T05:36:41.627712",
     "exception": false,
     "start_time": "2025-05-12T05:36:41.623995",
     "status": "completed"
    },
    "tags": []
   },
   "source": [
    "**This notebook is an exercise in the [SQL](https://www.kaggle.com/learn/intro-to-sql) course.  You can reference the tutorial at [this link](https://www.kaggle.com/dansbecker/group-by-having-count).**\n",
    "\n",
    "---\n"
   ]
  },
  {
   "cell_type": "markdown",
   "id": "fffb376e",
   "metadata": {
    "papermill": {
     "duration": 0.002924,
     "end_time": "2025-05-12T05:36:41.634099",
     "exception": false,
     "start_time": "2025-05-12T05:36:41.631175",
     "status": "completed"
    },
    "tags": []
   },
   "source": [
    "# Introduction\n",
    "\n",
    "Queries with **GROUP BY** can be powerful. There are many small things that can trip you up (like the order of the clauses), but it will start to feel natural once you've done it a few times. Here, you'll write queries using **GROUP BY** to answer questions from the Hacker News dataset.\n",
    "\n",
    "Before you get started, run the following cell to set everything up:"
   ]
  },
  {
   "cell_type": "code",
   "execution_count": 1,
   "id": "7b7dd5c1",
   "metadata": {
    "execution": {
     "iopub.execute_input": "2025-05-12T05:36:41.641885Z",
     "iopub.status.busy": "2025-05-12T05:36:41.641521Z",
     "iopub.status.idle": "2025-05-12T05:37:03.907031Z",
     "shell.execute_reply": "2025-05-12T05:37:03.905562Z"
    },
    "papermill": {
     "duration": 22.271715,
     "end_time": "2025-05-12T05:37:03.909115",
     "exception": false,
     "start_time": "2025-05-12T05:36:41.637400",
     "status": "completed"
    },
    "tags": []
   },
   "outputs": [
    {
     "name": "stdout",
     "output_type": "stream",
     "text": [
      "Using Kaggle's public dataset BigQuery integration.\n"
     ]
    },
    {
     "name": "stderr",
     "output_type": "stream",
     "text": [
      "/usr/local/lib/python3.11/dist-packages/google/cloud/bigquery/table.py:1727: UserWarning: BigQuery Storage module not found, fetch data with the REST endpoint instead.\n",
      "  warnings.warn(\n"
     ]
    },
    {
     "name": "stdout",
     "output_type": "stream",
     "text": [
      "Setup Complete\n"
     ]
    }
   ],
   "source": [
    "# Set up feedback system\n",
    "from learntools.core import binder\n",
    "binder.bind(globals())\n",
    "from learntools.sql.ex3 import *\n",
    "print(\"Setup Complete\")"
   ]
  },
  {
   "cell_type": "markdown",
   "id": "c474429a",
   "metadata": {
    "papermill": {
     "duration": 0.003677,
     "end_time": "2025-05-12T05:37:03.916340",
     "exception": false,
     "start_time": "2025-05-12T05:37:03.912663",
     "status": "completed"
    },
    "tags": []
   },
   "source": [
    "The code cell below fetches the `full` table from the `hacker_news` dataset.  We also preview the first five rows of the table."
   ]
  },
  {
   "cell_type": "code",
   "execution_count": 2,
   "id": "45f4d750",
   "metadata": {
    "execution": {
     "iopub.execute_input": "2025-05-12T05:37:03.924481Z",
     "iopub.status.busy": "2025-05-12T05:37:03.923966Z",
     "iopub.status.idle": "2025-05-12T05:37:05.307384Z",
     "shell.execute_reply": "2025-05-12T05:37:05.306284Z"
    },
    "papermill": {
     "duration": 1.389548,
     "end_time": "2025-05-12T05:37:05.309142",
     "exception": false,
     "start_time": "2025-05-12T05:37:03.919594",
     "status": "completed"
    },
    "tags": []
   },
   "outputs": [
    {
     "name": "stdout",
     "output_type": "stream",
     "text": [
      "Using Kaggle's public dataset BigQuery integration.\n"
     ]
    },
    {
     "data": {
      "text/html": [
       "<div>\n",
       "<style scoped>\n",
       "    .dataframe tbody tr th:only-of-type {\n",
       "        vertical-align: middle;\n",
       "    }\n",
       "\n",
       "    .dataframe tbody tr th {\n",
       "        vertical-align: top;\n",
       "    }\n",
       "\n",
       "    .dataframe thead th {\n",
       "        text-align: right;\n",
       "    }\n",
       "</style>\n",
       "<table border=\"1\" class=\"dataframe\">\n",
       "  <thead>\n",
       "    <tr style=\"text-align: right;\">\n",
       "      <th></th>\n",
       "      <th>title</th>\n",
       "      <th>url</th>\n",
       "      <th>text</th>\n",
       "      <th>dead</th>\n",
       "      <th>by</th>\n",
       "      <th>score</th>\n",
       "      <th>time</th>\n",
       "      <th>timestamp</th>\n",
       "      <th>type</th>\n",
       "      <th>id</th>\n",
       "      <th>parent</th>\n",
       "      <th>descendants</th>\n",
       "      <th>ranking</th>\n",
       "      <th>deleted</th>\n",
       "    </tr>\n",
       "  </thead>\n",
       "  <tbody>\n",
       "    <tr>\n",
       "      <th>0</th>\n",
       "      <td>None</td>\n",
       "      <td>None</td>\n",
       "      <td>None</td>\n",
       "      <td>&lt;NA&gt;</td>\n",
       "      <td>None</td>\n",
       "      <td>&lt;NA&gt;</td>\n",
       "      <td>1437390873</td>\n",
       "      <td>2015-07-20 11:14:33+00:00</td>\n",
       "      <td>story</td>\n",
       "      <td>9915218</td>\n",
       "      <td>&lt;NA&gt;</td>\n",
       "      <td>&lt;NA&gt;</td>\n",
       "      <td>&lt;NA&gt;</td>\n",
       "      <td>&lt;NA&gt;</td>\n",
       "    </tr>\n",
       "    <tr>\n",
       "      <th>1</th>\n",
       "      <td>None</td>\n",
       "      <td>None</td>\n",
       "      <td>None</td>\n",
       "      <td>&lt;NA&gt;</td>\n",
       "      <td>None</td>\n",
       "      <td>&lt;NA&gt;</td>\n",
       "      <td>1437392115</td>\n",
       "      <td>2015-07-20 11:35:15+00:00</td>\n",
       "      <td>story</td>\n",
       "      <td>9915286</td>\n",
       "      <td>&lt;NA&gt;</td>\n",
       "      <td>&lt;NA&gt;</td>\n",
       "      <td>&lt;NA&gt;</td>\n",
       "      <td>&lt;NA&gt;</td>\n",
       "    </tr>\n",
       "    <tr>\n",
       "      <th>2</th>\n",
       "      <td>None</td>\n",
       "      <td>None</td>\n",
       "      <td>None</td>\n",
       "      <td>&lt;NA&gt;</td>\n",
       "      <td>None</td>\n",
       "      <td>&lt;NA&gt;</td>\n",
       "      <td>1437392132</td>\n",
       "      <td>2015-07-20 11:35:32+00:00</td>\n",
       "      <td>story</td>\n",
       "      <td>9915290</td>\n",
       "      <td>&lt;NA&gt;</td>\n",
       "      <td>&lt;NA&gt;</td>\n",
       "      <td>&lt;NA&gt;</td>\n",
       "      <td>&lt;NA&gt;</td>\n",
       "    </tr>\n",
       "    <tr>\n",
       "      <th>3</th>\n",
       "      <td>None</td>\n",
       "      <td>None</td>\n",
       "      <td>None</td>\n",
       "      <td>&lt;NA&gt;</td>\n",
       "      <td>None</td>\n",
       "      <td>&lt;NA&gt;</td>\n",
       "      <td>1437392476</td>\n",
       "      <td>2015-07-20 11:41:16+00:00</td>\n",
       "      <td>story</td>\n",
       "      <td>9915317</td>\n",
       "      <td>&lt;NA&gt;</td>\n",
       "      <td>&lt;NA&gt;</td>\n",
       "      <td>&lt;NA&gt;</td>\n",
       "      <td>&lt;NA&gt;</td>\n",
       "    </tr>\n",
       "    <tr>\n",
       "      <th>4</th>\n",
       "      <td>None</td>\n",
       "      <td>None</td>\n",
       "      <td>None</td>\n",
       "      <td>&lt;NA&gt;</td>\n",
       "      <td>None</td>\n",
       "      <td>&lt;NA&gt;</td>\n",
       "      <td>1437394245</td>\n",
       "      <td>2015-07-20 12:10:45+00:00</td>\n",
       "      <td>story</td>\n",
       "      <td>9915431</td>\n",
       "      <td>&lt;NA&gt;</td>\n",
       "      <td>&lt;NA&gt;</td>\n",
       "      <td>&lt;NA&gt;</td>\n",
       "      <td>&lt;NA&gt;</td>\n",
       "    </tr>\n",
       "  </tbody>\n",
       "</table>\n",
       "</div>"
      ],
      "text/plain": [
       "  title   url  text  dead    by  score        time                 timestamp  \\\n",
       "0  None  None  None  <NA>  None   <NA>  1437390873 2015-07-20 11:14:33+00:00   \n",
       "1  None  None  None  <NA>  None   <NA>  1437392115 2015-07-20 11:35:15+00:00   \n",
       "2  None  None  None  <NA>  None   <NA>  1437392132 2015-07-20 11:35:32+00:00   \n",
       "3  None  None  None  <NA>  None   <NA>  1437392476 2015-07-20 11:41:16+00:00   \n",
       "4  None  None  None  <NA>  None   <NA>  1437394245 2015-07-20 12:10:45+00:00   \n",
       "\n",
       "    type       id  parent  descendants  ranking  deleted  \n",
       "0  story  9915218    <NA>         <NA>     <NA>     <NA>  \n",
       "1  story  9915286    <NA>         <NA>     <NA>     <NA>  \n",
       "2  story  9915290    <NA>         <NA>     <NA>     <NA>  \n",
       "3  story  9915317    <NA>         <NA>     <NA>     <NA>  \n",
       "4  story  9915431    <NA>         <NA>     <NA>     <NA>  "
      ]
     },
     "execution_count": 2,
     "metadata": {},
     "output_type": "execute_result"
    }
   ],
   "source": [
    "from google.cloud import bigquery\n",
    "\n",
    "# Create a \"Client\" object\n",
    "client = bigquery.Client()\n",
    "\n",
    "# Construct a reference to the \"hacker_news\" dataset\n",
    "dataset_ref = client.dataset(\"hacker_news\", project=\"bigquery-public-data\")\n",
    "\n",
    "# API request - fetch the dataset\n",
    "dataset = client.get_dataset(dataset_ref)\n",
    "\n",
    "# Construct a reference to the \"full\" table\n",
    "table_ref = dataset_ref.table(\"full\")\n",
    "\n",
    "# API request - fetch the table\n",
    "table = client.get_table(table_ref)\n",
    "\n",
    "# Preview the first five lines of the table\n",
    "client.list_rows(table, max_results=5).to_dataframe()"
   ]
  },
  {
   "cell_type": "markdown",
   "id": "50d61a27",
   "metadata": {
    "papermill": {
     "duration": 0.003161,
     "end_time": "2025-05-12T05:37:05.317503",
     "exception": false,
     "start_time": "2025-05-12T05:37:05.314342",
     "status": "completed"
    },
    "tags": []
   },
   "source": [
    "# Exercises\n",
    "\n",
    "### 1) Prolific commenters\n",
    "\n",
    "Hacker News would like to send awards to everyone who has written more than 10,000 posts. Write a query that returns all authors with more than 10,000 posts as well as their post counts. Call the column with post counts `NumPosts`.\n",
    "\n",
    "In case sample query is helpful, here is a query you saw in the tutorial to answer a similar question:\n",
    "```\n",
    "query = \"\"\"\n",
    "        SELECT parent, COUNT(1) AS NumPosts\n",
    "        FROM `bigquery-public-data.hacker_news.full`\n",
    "        GROUP BY parent\n",
    "        HAVING COUNT(1) > 10\n",
    "        \"\"\"\n",
    "```"
   ]
  },
  {
   "cell_type": "code",
   "execution_count": 3,
   "id": "f81d8928",
   "metadata": {
    "execution": {
     "iopub.execute_input": "2025-05-12T05:37:05.325515Z",
     "iopub.status.busy": "2025-05-12T05:37:05.325184Z",
     "iopub.status.idle": "2025-05-12T05:37:06.399032Z",
     "shell.execute_reply": "2025-05-12T05:37:06.397933Z"
    },
    "papermill": {
     "duration": 1.079727,
     "end_time": "2025-05-12T05:37:06.400601",
     "exception": false,
     "start_time": "2025-05-12T05:37:05.320874",
     "status": "completed"
    },
    "tags": []
   },
   "outputs": [
    {
     "name": "stderr",
     "output_type": "stream",
     "text": [
      "/usr/local/lib/python3.11/dist-packages/google/cloud/bigquery/table.py:1727: UserWarning: BigQuery Storage module not found, fetch data with the REST endpoint instead.\n",
      "  warnings.warn(\n"
     ]
    },
    {
     "name": "stdout",
     "output_type": "stream",
     "text": [
      "      author  NumPosts\n",
      "0     Aeolun     11747\n",
      "1  kazinator     18384\n",
      "2     lisper     12142\n",
      "3  gus_massa     12756\n",
      "4     refurb     18355\n"
     ]
    },
    {
     "data": {
      "application/javascript": [
       "parent.postMessage({\"jupyterEvent\": \"custom.exercise_interaction\", \"data\": {\"outcomeType\": 1, \"valueTowardsCompletion\": 0.5, \"interactionType\": 1, \"questionType\": 2, \"questionId\": \"1_ProlificCommenters\", \"learnToolsVersion\": \"0.3.5\", \"failureMessage\": \"\", \"exceptionClass\": \"\", \"trace\": \"\"}}, \"*\")"
      ],
      "text/plain": [
       "<IPython.core.display.Javascript object>"
      ]
     },
     "metadata": {},
     "output_type": "display_data"
    },
    {
     "data": {
      "text/markdown": [
       "<span style=\"color:#33cc33\">Correct</span>"
      ],
      "text/plain": [
       "Correct"
      ]
     },
     "metadata": {},
     "output_type": "display_data"
    }
   ],
   "source": [
    "# Query to select prolific commenters and post counts\n",
    "prolific_commenters_query = \"\"\"\n",
    "                            SELECT `by` AS author, Count(1) AS NumPosts\n",
    "                            FROM `bigquery-public-data.hacker_news.full`\n",
    "                            GROUP BY author\n",
    "                            HAVING COUNT(1) > 10000\n",
    "                            \"\"\" # Your code goes here\n",
    "\n",
    "# Set up the query (cancel the query if it would use too much of \n",
    "# your quota, with the limit set to 1 GB)\n",
    "safe_config = bigquery.QueryJobConfig(maximum_bytes_billed=10**10)\n",
    "\n",
    "#Commenters query\n",
    "query_job = client.query(prolific_commenters_query, job_config=safe_config)\n",
    "\n",
    "#deletion query\n",
    "# query_job = client.query(query_del, job_config=safe_config)\n",
    "\n",
    "# API request - run the query, and return a pandas DataFrame\n",
    "prolific_commenters = query_job.to_dataframe()\n",
    "\n",
    "# View top few rows of results\n",
    "print(prolific_commenters.head())\n",
    "\n",
    "# Check your answer\n",
    "q_1.check()"
   ]
  },
  {
   "cell_type": "markdown",
   "id": "0dc3e9f5",
   "metadata": {
    "papermill": {
     "duration": 0.003403,
     "end_time": "2025-05-12T05:37:06.407898",
     "exception": false,
     "start_time": "2025-05-12T05:37:06.404495",
     "status": "completed"
    },
    "tags": []
   },
   "source": [
    "For the solution, uncomment the line below."
   ]
  },
  {
   "cell_type": "code",
   "execution_count": 4,
   "id": "2784b6e3",
   "metadata": {
    "execution": {
     "iopub.execute_input": "2025-05-12T05:37:06.417805Z",
     "iopub.status.busy": "2025-05-12T05:37:06.417488Z",
     "iopub.status.idle": "2025-05-12T05:37:06.422124Z",
     "shell.execute_reply": "2025-05-12T05:37:06.421120Z"
    },
    "papermill": {
     "duration": 0.011841,
     "end_time": "2025-05-12T05:37:06.423811",
     "exception": false,
     "start_time": "2025-05-12T05:37:06.411970",
     "status": "completed"
    },
    "tags": []
   },
   "outputs": [],
   "source": [
    "# q_1.solution()"
   ]
  },
  {
   "cell_type": "markdown",
   "id": "3b61d1ae",
   "metadata": {
    "papermill": {
     "duration": 0.003771,
     "end_time": "2025-05-12T05:37:06.432111",
     "exception": false,
     "start_time": "2025-05-12T05:37:06.428340",
     "status": "completed"
    },
    "tags": []
   },
   "source": [
    "### 2) Deleted comments\n",
    "\n",
    "How many comments have been deleted? (If a comment was deleted, the `deleted` column in the table will have the value `True`.)"
   ]
  },
  {
   "cell_type": "code",
   "execution_count": 5,
   "id": "f6927520",
   "metadata": {
    "execution": {
     "iopub.execute_input": "2025-05-12T05:37:06.441411Z",
     "iopub.status.busy": "2025-05-12T05:37:06.441062Z",
     "iopub.status.idle": "2025-05-12T05:37:07.465874Z",
     "shell.execute_reply": "2025-05-12T05:37:07.464415Z"
    },
    "papermill": {
     "duration": 1.031934,
     "end_time": "2025-05-12T05:37:07.467729",
     "exception": false,
     "start_time": "2025-05-12T05:37:06.435795",
     "status": "completed"
    },
    "tags": []
   },
   "outputs": [
    {
     "name": "stderr",
     "output_type": "stream",
     "text": [
      "/usr/local/lib/python3.11/dist-packages/google/cloud/bigquery/table.py:1727: UserWarning: BigQuery Storage module not found, fetch data with the REST endpoint instead.\n",
      "  warnings.warn(\n"
     ]
    },
    {
     "name": "stdout",
     "output_type": "stream",
     "text": [
      "   del_comm\n",
      "0         0\n"
     ]
    }
   ],
   "source": [
    "# Write your query here and figure out the answer\n",
    "query_del = \"\"\"\n",
    "            SELECT COUNT(1) AS del_comm\n",
    "            FROM `bigquery-public-data.hacker_news.full`\n",
    "            WHERE deleted is True\n",
    "            \"\"\"\n",
    "#set up the query\n",
    "query_job = client.query(query_del)\n",
    "\n",
    "# API request - run the query and return a panda dataframe\n",
    "delete_posts = query_job.to_dataframe()\n",
    "\n",
    "#print the result\n",
    "print(delete_posts)"
   ]
  },
  {
   "cell_type": "code",
   "execution_count": 6,
   "id": "caf3dc73",
   "metadata": {
    "execution": {
     "iopub.execute_input": "2025-05-12T05:37:07.476870Z",
     "iopub.status.busy": "2025-05-12T05:37:07.476559Z",
     "iopub.status.idle": "2025-05-12T05:37:07.481096Z",
     "shell.execute_reply": "2025-05-12T05:37:07.480141Z"
    },
    "papermill": {
     "duration": 0.010906,
     "end_time": "2025-05-12T05:37:07.482718",
     "exception": false,
     "start_time": "2025-05-12T05:37:07.471812",
     "status": "completed"
    },
    "tags": []
   },
   "outputs": [],
   "source": [
    "num_deleted_posts = 0 # Put your answer here\n",
    "\n",
    "# Check your answer\n",
    "# q_2.check()"
   ]
  },
  {
   "cell_type": "markdown",
   "id": "b242dc6d",
   "metadata": {
    "papermill": {
     "duration": 0.003631,
     "end_time": "2025-05-12T05:37:07.490632",
     "exception": false,
     "start_time": "2025-05-12T05:37:07.487001",
     "status": "completed"
    },
    "tags": []
   },
   "source": [
    "For the solution, uncomment the line below."
   ]
  },
  {
   "cell_type": "code",
   "execution_count": 7,
   "id": "aa80aaa7",
   "metadata": {
    "execution": {
     "iopub.execute_input": "2025-05-12T05:37:07.499630Z",
     "iopub.status.busy": "2025-05-12T05:37:07.499272Z",
     "iopub.status.idle": "2025-05-12T05:37:07.503802Z",
     "shell.execute_reply": "2025-05-12T05:37:07.502822Z"
    },
    "papermill": {
     "duration": 0.010868,
     "end_time": "2025-05-12T05:37:07.505411",
     "exception": false,
     "start_time": "2025-05-12T05:37:07.494543",
     "status": "completed"
    },
    "tags": []
   },
   "outputs": [],
   "source": [
    "# q_2.solution()"
   ]
  },
  {
   "cell_type": "markdown",
   "id": "1a70e843",
   "metadata": {
    "papermill": {
     "duration": 0.003501,
     "end_time": "2025-05-12T05:37:07.512962",
     "exception": false,
     "start_time": "2025-05-12T05:37:07.509461",
     "status": "completed"
    },
    "tags": []
   },
   "source": [
    "# Keep Going\n",
    "**[Click here](https://www.kaggle.com/dansbecker/order-by)** to move on and learn about the **ORDER BY** clause."
   ]
  },
  {
   "cell_type": "markdown",
   "id": "324a9396",
   "metadata": {
    "papermill": {
     "duration": 0.003986,
     "end_time": "2025-05-12T05:37:07.521321",
     "exception": false,
     "start_time": "2025-05-12T05:37:07.517335",
     "status": "completed"
    },
    "tags": []
   },
   "source": [
    "---\n",
    "\n",
    "\n",
    "\n",
    "\n",
    "*Have questions or comments? Visit the [course discussion forum](https://www.kaggle.com/learn/intro-to-sql/discussion) to chat with other learners.*"
   ]
  }
 ],
 "metadata": {
  "kaggle": {
   "accelerator": "none",
   "dataSources": [
    {
     "datasetId": 6057,
     "sourceId": 285982,
     "sourceType": "datasetVersion"
    }
   ],
   "isGpuEnabled": false,
   "isInternetEnabled": false,
   "language": "python",
   "sourceType": "notebook"
  },
  "kernelspec": {
   "display_name": "Python 3",
   "language": "python",
   "name": "python3"
  },
  "language_info": {
   "codemirror_mode": {
    "name": "ipython",
    "version": 3
   },
   "file_extension": ".py",
   "mimetype": "text/x-python",
   "name": "python",
   "nbconvert_exporter": "python",
   "pygments_lexer": "ipython3",
   "version": "3.11.11"
  },
  "papermill": {
   "default_parameters": {},
   "duration": 34.344979,
   "end_time": "2025-05-12T05:37:10.528954",
   "environment_variables": {},
   "exception": null,
   "input_path": "__notebook__.ipynb",
   "output_path": "__notebook__.ipynb",
   "parameters": {},
   "start_time": "2025-05-12T05:36:36.183975",
   "version": "2.6.0"
  }
 },
 "nbformat": 4,
 "nbformat_minor": 5
}
