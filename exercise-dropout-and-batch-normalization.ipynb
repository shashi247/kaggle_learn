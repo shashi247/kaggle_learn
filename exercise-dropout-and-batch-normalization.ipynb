{
 "cells": [
  {
   "cell_type": "markdown",
   "id": "7144dbf6",
   "metadata": {
    "papermill": {
     "duration": 0.004037,
     "end_time": "2025-06-06T05:42:16.163172",
     "exception": false,
     "start_time": "2025-06-06T05:42:16.159135",
     "status": "completed"
    },
    "tags": []
   },
   "source": [
    "**This notebook is an exercise in the [Intro to Deep Learning](https://www.kaggle.com/learn/intro-to-deep-learning) course.  You can reference the tutorial at [this link](https://www.kaggle.com/ryanholbrook/dropout-and-batch-normalization).**\n",
    "\n",
    "---\n"
   ]
  },
  {
   "cell_type": "markdown",
   "id": "305fcb55",
   "metadata": {
    "papermill": {
     "duration": 0.0033,
     "end_time": "2025-06-06T05:42:16.170438",
     "exception": false,
     "start_time": "2025-06-06T05:42:16.167138",
     "status": "completed"
    },
    "tags": []
   },
   "source": [
    "# Introduction #\n",
    "\n",
    "In this exercise, you'll add dropout to the *Spotify* model from Exercise 4 and see how batch normalization can let you successfully train models on difficult datasets.\n",
    "\n",
    "Run the next cell to get started!"
   ]
  },
  {
   "cell_type": "code",
   "execution_count": 1,
   "id": "0498f06c",
   "metadata": {
    "execution": {
     "iopub.execute_input": "2025-06-06T05:42:16.179015Z",
     "iopub.status.busy": "2025-06-06T05:42:16.178280Z",
     "iopub.status.idle": "2025-06-06T05:42:16.910439Z",
     "shell.execute_reply": "2025-06-06T05:42:16.909549Z"
    },
    "papermill": {
     "duration": 0.738601,
     "end_time": "2025-06-06T05:42:16.912505",
     "exception": false,
     "start_time": "2025-06-06T05:42:16.173904",
     "status": "completed"
    },
    "tags": []
   },
   "outputs": [
    {
     "name": "stderr",
     "output_type": "stream",
     "text": [
      "/tmp/ipykernel_26/195640296.py:3: MatplotlibDeprecationWarning: The seaborn styles shipped by Matplotlib are deprecated since 3.6, as they no longer correspond to the styles shipped by seaborn. However, they will remain available as 'seaborn-v0_8-<style>'. Alternatively, directly use the seaborn API instead.\n",
      "  plt.style.use('seaborn-whitegrid')\n"
     ]
    }
   ],
   "source": [
    "# Setup plotting\n",
    "import matplotlib.pyplot as plt\n",
    "plt.style.use('seaborn-whitegrid')\n",
    "# Set Matplotlib defaults\n",
    "plt.rc('figure', autolayout=True)\n",
    "plt.rc('axes', labelweight='bold', labelsize='large',\n",
    "       titleweight='bold', titlesize=18, titlepad=10)\n",
    "plt.rc('animation', html='html5')\n",
    "\n",
    "# Setup feedback system\n",
    "from learntools.core import binder\n",
    "binder.bind(globals())\n",
    "from learntools.deep_learning_intro.ex5 import *"
   ]
  },
  {
   "cell_type": "markdown",
   "id": "66e82090",
   "metadata": {
    "papermill": {
     "duration": 0.003599,
     "end_time": "2025-06-06T05:42:16.920185",
     "exception": false,
     "start_time": "2025-06-06T05:42:16.916586",
     "status": "completed"
    },
    "tags": []
   },
   "source": [
    "First load the *Spotify* dataset."
   ]
  },
  {
   "cell_type": "code",
   "execution_count": 2,
   "id": "bf3ecd47",
   "metadata": {
    "execution": {
     "iopub.execute_input": "2025-06-06T05:42:16.928448Z",
     "iopub.status.busy": "2025-06-06T05:42:16.928116Z",
     "iopub.status.idle": "2025-06-06T05:42:29.464797Z",
     "shell.execute_reply": "2025-06-06T05:42:29.463938Z"
    },
    "papermill": {
     "duration": 12.542917,
     "end_time": "2025-06-06T05:42:29.466677",
     "exception": false,
     "start_time": "2025-06-06T05:42:16.923760",
     "status": "completed"
    },
    "tags": []
   },
   "outputs": [
    {
     "name": "stderr",
     "output_type": "stream",
     "text": [
      "2025-06-06 05:42:19.677180: E external/local_xla/xla/stream_executor/cuda/cuda_dnn.cc:9261] Unable to register cuDNN factory: Attempting to register factory for plugin cuDNN when one has already been registered\n",
      "2025-06-06 05:42:19.677300: E external/local_xla/xla/stream_executor/cuda/cuda_fft.cc:607] Unable to register cuFFT factory: Attempting to register factory for plugin cuFFT when one has already been registered\n",
      "2025-06-06 05:42:19.799654: E external/local_xla/xla/stream_executor/cuda/cuda_blas.cc:1515] Unable to register cuBLAS factory: Attempting to register factory for plugin cuBLAS when one has already been registered\n"
     ]
    },
    {
     "name": "stdout",
     "output_type": "stream",
     "text": [
      "Input shape: [18]\n"
     ]
    }
   ],
   "source": [
    "import pandas as pd\n",
    "from sklearn.preprocessing import StandardScaler, OneHotEncoder\n",
    "from sklearn.compose import make_column_transformer\n",
    "from sklearn.model_selection import GroupShuffleSplit\n",
    "\n",
    "from tensorflow import keras\n",
    "from tensorflow.keras import layers\n",
    "from tensorflow.keras import callbacks\n",
    "\n",
    "spotify = pd.read_csv('../input/dl-course-data/spotify.csv')\n",
    "\n",
    "X = spotify.copy().dropna()\n",
    "y = X.pop('track_popularity')\n",
    "artists = X['track_artist']\n",
    "\n",
    "features_num = ['danceability', 'energy', 'key', 'loudness', 'mode',\n",
    "                'speechiness', 'acousticness', 'instrumentalness',\n",
    "                'liveness', 'valence', 'tempo', 'duration_ms']\n",
    "features_cat = ['playlist_genre']\n",
    "\n",
    "preprocessor = make_column_transformer(\n",
    "    (StandardScaler(), features_num),\n",
    "    (OneHotEncoder(), features_cat),\n",
    ")\n",
    "\n",
    "def group_split(X, y, group, train_size=0.75):\n",
    "    splitter = GroupShuffleSplit(train_size=train_size)\n",
    "    train, test = next(splitter.split(X, y, groups=group))\n",
    "    return (X.iloc[train], X.iloc[test], y.iloc[train], y.iloc[test])\n",
    "\n",
    "X_train, X_valid, y_train, y_valid = group_split(X, y, artists)\n",
    "\n",
    "X_train = preprocessor.fit_transform(X_train)\n",
    "X_valid = preprocessor.transform(X_valid)\n",
    "y_train = y_train / 100\n",
    "y_valid = y_valid / 100\n",
    "\n",
    "input_shape = [X_train.shape[1]]\n",
    "print(\"Input shape: {}\".format(input_shape))"
   ]
  },
  {
   "cell_type": "markdown",
   "id": "a7f15812",
   "metadata": {
    "papermill": {
     "duration": 0.003824,
     "end_time": "2025-06-06T05:42:29.474642",
     "exception": false,
     "start_time": "2025-06-06T05:42:29.470818",
     "status": "completed"
    },
    "tags": []
   },
   "source": [
    "# 1) Add Dropout to Spotify Model\n",
    "\n",
    "Here is the last model from Exercise 4. Add two dropout layers, one after the `Dense` layer with 128 units, and one after the `Dense` layer with 64 units. Set the dropout rate on both to `0.3`."
   ]
  },
  {
   "cell_type": "code",
   "execution_count": 3,
   "id": "4762619d",
   "metadata": {
    "execution": {
     "iopub.execute_input": "2025-06-06T05:42:29.483871Z",
     "iopub.status.busy": "2025-06-06T05:42:29.483207Z",
     "iopub.status.idle": "2025-06-06T05:42:30.465180Z",
     "shell.execute_reply": "2025-06-06T05:42:30.464084Z"
    },
    "lines_to_next_cell": 2,
    "papermill": {
     "duration": 0.998718,
     "end_time": "2025-06-06T05:42:30.477155",
     "exception": false,
     "start_time": "2025-06-06T05:42:29.478437",
     "status": "completed"
    },
    "tags": []
   },
   "outputs": [
    {
     "data": {
      "application/javascript": [
       "parent.postMessage({\"jupyterEvent\": \"custom.exercise_interaction\", \"data\": {\"outcomeType\": 1, \"valueTowardsCompletion\": 0.25, \"interactionType\": 1, \"questionType\": 2, \"questionId\": \"1_Q1\", \"learnToolsVersion\": \"0.3.4\", \"failureMessage\": \"\", \"exceptionClass\": \"\", \"trace\": \"\"}}, \"*\")"
      ],
      "text/plain": [
       "<IPython.core.display.Javascript object>"
      ]
     },
     "metadata": {},
     "output_type": "display_data"
    },
    {
     "data": {
      "text/markdown": [
       "<span style=\"color:#33cc33\">Correct</span>"
      ],
      "text/plain": [
       "Correct"
      ]
     },
     "metadata": {},
     "output_type": "display_data"
    }
   ],
   "source": [
    "# YOUR CODE HERE: Add two 30% dropout layers, one after 128 and one after 64\n",
    "model = keras.Sequential([\n",
    "    layers.Dense(128, activation='relu', input_shape=input_shape),\n",
    "     layers.Dropout(0.3),\n",
    "    layers.Dense(64, activation='relu'),\n",
    "     layers.Dropout(0.3),\n",
    "    layers.Dense(1)\n",
    "])\n",
    "\n",
    "# Check your answer\n",
    "q_1.check()"
   ]
  },
  {
   "cell_type": "code",
   "execution_count": 4,
   "id": "153fddae",
   "metadata": {
    "execution": {
     "iopub.execute_input": "2025-06-06T05:42:30.489221Z",
     "iopub.status.busy": "2025-06-06T05:42:30.488835Z",
     "iopub.status.idle": "2025-06-06T05:42:30.492475Z",
     "shell.execute_reply": "2025-06-06T05:42:30.491671Z"
    },
    "papermill": {
     "duration": 0.011537,
     "end_time": "2025-06-06T05:42:30.494129",
     "exception": false,
     "start_time": "2025-06-06T05:42:30.482592",
     "status": "completed"
    },
    "tags": []
   },
   "outputs": [],
   "source": [
    "# Lines below will give you a hint or solution code\n",
    "#q_1.hint()\n",
    "#q_1.solution()"
   ]
  },
  {
   "cell_type": "markdown",
   "id": "5de14222",
   "metadata": {
    "papermill": {
     "duration": 0.003636,
     "end_time": "2025-06-06T05:42:30.501742",
     "exception": false,
     "start_time": "2025-06-06T05:42:30.498106",
     "status": "completed"
    },
    "tags": []
   },
   "source": [
    "Now run this next cell to train the model see the effect of adding dropout."
   ]
  },
  {
   "cell_type": "code",
   "execution_count": 5,
   "id": "abade4b7",
   "metadata": {
    "execution": {
     "iopub.execute_input": "2025-06-06T05:42:30.511405Z",
     "iopub.status.busy": "2025-06-06T05:42:30.511172Z",
     "iopub.status.idle": "2025-06-06T05:42:41.297093Z",
     "shell.execute_reply": "2025-06-06T05:42:41.296213Z"
    },
    "papermill": {
     "duration": 10.793061,
     "end_time": "2025-06-06T05:42:41.298792",
     "exception": false,
     "start_time": "2025-06-06T05:42:30.505731",
     "status": "completed"
    },
    "tags": []
   },
   "outputs": [
    {
     "name": "stderr",
     "output_type": "stream",
     "text": [
      "WARNING: All log messages before absl::InitializeLog() is called are written to STDERR\n",
      "I0000 00:00:1749188552.828234      68 device_compiler.h:186] Compiled cluster using XLA!  This line is logged at most once for the lifetime of the process.\n"
     ]
    },
    {
     "name": "stdout",
     "output_type": "stream",
     "text": [
      "Minimum Validation Loss: 0.1941\n"
     ]
    },
    {
     "data": {
      "image/png": "[encoded data removed]",
      "text/plain": [
       "<Figure size 640x480 with 1 Axes>"
      ]
     },
     "metadata": {},
     "output_type": "display_data"
    }
   ],
   "source": [
    "model.compile(\n",
    "    optimizer='adam',\n",
    "    loss='mae',\n",
    ")\n",
    "history = model.fit(\n",
    "    X_train, y_train,\n",
    "    validation_data=(X_valid, y_valid),\n",
    "    batch_size=512,\n",
    "    epochs=50,\n",
    "    verbose=0,\n",
    ")\n",
    "history_df = pd.DataFrame(history.history)\n",
    "history_df.loc[:, ['loss', 'val_loss']].plot()\n",
    "print(\"Minimum Validation Loss: {:0.4f}\".format(history_df['val_loss'].min()))"
   ]
  },
  {
   "cell_type": "markdown",
   "id": "ab1bb4a0",
   "metadata": {
    "papermill": {
     "duration": 0.004298,
     "end_time": "2025-06-06T05:42:41.307867",
     "exception": false,
     "start_time": "2025-06-06T05:42:41.303569",
     "status": "completed"
    },
    "tags": []
   },
   "source": [
    "# 2) Evaluate Dropout\n",
    "\n",
    "Recall from Exercise 4 that this model tended to overfit the data around epoch 5. Did adding dropout seem to help prevent overfitting this time?"
   ]
  },
  {
   "cell_type": "code",
   "execution_count": 6,
   "id": "a5a10e22",
   "metadata": {
    "execution": {
     "iopub.execute_input": "2025-06-06T05:42:41.317761Z",
     "iopub.status.busy": "2025-06-06T05:42:41.317490Z",
     "iopub.status.idle": "2025-06-06T05:42:41.324163Z",
     "shell.execute_reply": "2025-06-06T05:42:41.323363Z"
    },
    "papermill": {
     "duration": 0.013406,
     "end_time": "2025-06-06T05:42:41.325716",
     "exception": false,
     "start_time": "2025-06-06T05:42:41.312310",
     "status": "completed"
    },
    "tags": []
   },
   "outputs": [
    {
     "data": {
      "application/javascript": [
       "parent.postMessage({\"jupyterEvent\": \"custom.exercise_interaction\", \"data\": {\"outcomeType\": 1, \"valueTowardsCompletion\": 0.25, \"interactionType\": 1, \"questionType\": 4, \"questionId\": \"2_Q2\", \"learnToolsVersion\": \"0.3.4\", \"failureMessage\": \"\", \"exceptionClass\": \"\", \"trace\": \"\"}}, \"*\")"
      ],
      "text/plain": [
       "<IPython.core.display.Javascript object>"
      ]
     },
     "metadata": {},
     "output_type": "display_data"
    },
    {
     "data": {
      "text/markdown": [
       "<span style=\"color:#33cc33\">Correct:</span> \n",
       "\n",
       "\n",
       "From the learning curves, you can see that the validation loss remains near a constant minimum even though the training loss continues to decrease. So we can see that adding dropout did prevent overfitting this time. Moreover, by making it harder for the network to fit spurious patterns, dropout may have encouraged the network to seek out more of the true patterns, possibly improving the validation loss some as well).\n"
      ],
      "text/plain": [
       "Correct: \n",
       "\n",
       "\n",
       "From the learning curves, you can see that the validation loss remains near a constant minimum even though the training loss continues to decrease. So we can see that adding dropout did prevent overfitting this time. Moreover, by making it harder for the network to fit spurious patterns, dropout may have encouraged the network to seek out more of the true patterns, possibly improving the validation loss some as well)."
      ]
     },
     "metadata": {},
     "output_type": "display_data"
    }
   ],
   "source": [
    "# View the solution (Run this cell to receive credit!)\n",
    "q_2.check()"
   ]
  },
  {
   "cell_type": "markdown",
   "id": "789b936a",
   "metadata": {
    "papermill": {
     "duration": 0.004488,
     "end_time": "2025-06-06T05:42:41.334697",
     "exception": false,
     "start_time": "2025-06-06T05:42:41.330209",
     "status": "completed"
    },
    "tags": []
   },
   "source": [
    "Now, we'll switch topics to explore how batch normalization can fix problems in training.\n",
    "\n",
    "Load the *Concrete* dataset. We won't do any standardization this time. This will make the effect of batch normalization much more apparent."
   ]
  },
  {
   "cell_type": "code",
   "execution_count": 7,
   "id": "3d53f4cc",
   "metadata": {
    "execution": {
     "iopub.execute_input": "2025-06-06T05:42:41.345285Z",
     "iopub.status.busy": "2025-06-06T05:42:41.344646Z",
     "iopub.status.idle": "2025-06-06T05:42:41.361476Z",
     "shell.execute_reply": "2025-06-06T05:42:41.360869Z"
    },
    "papermill": {
     "duration": 0.023717,
     "end_time": "2025-06-06T05:42:41.363054",
     "exception": false,
     "start_time": "2025-06-06T05:42:41.339337",
     "status": "completed"
    },
    "tags": []
   },
   "outputs": [],
   "source": [
    "import pandas as pd\n",
    "\n",
    "concrete = pd.read_csv('../input/dl-course-data/concrete.csv')\n",
    "df = concrete.copy()\n",
    "\n",
    "df_train = df.sample(frac=0.7, random_state=0)\n",
    "df_valid = df.drop(df_train.index)\n",
    "\n",
    "X_train = df_train.drop('CompressiveStrength', axis=1)\n",
    "X_valid = df_valid.drop('CompressiveStrength', axis=1)\n",
    "y_train = df_train['CompressiveStrength']\n",
    "y_valid = df_valid['CompressiveStrength']\n",
    "\n",
    "input_shape = [X_train.shape[1]]"
   ]
  },
  {
   "cell_type": "markdown",
   "id": "b607c187",
   "metadata": {
    "papermill": {
     "duration": 0.004384,
     "end_time": "2025-06-06T05:42:41.372047",
     "exception": false,
     "start_time": "2025-06-06T05:42:41.367663",
     "status": "completed"
    },
    "tags": []
   },
   "source": [
    "Run the following cell to train the network on the unstandardized *Concrete* data."
   ]
  },
  {
   "cell_type": "code",
   "execution_count": 8,
   "id": "fada246e",
   "metadata": {
    "execution": {
     "iopub.execute_input": "2025-06-06T05:42:41.382443Z",
     "iopub.status.busy": "2025-06-06T05:42:41.382202Z",
     "iopub.status.idle": "2025-06-06T05:42:48.344612Z",
     "shell.execute_reply": "2025-06-06T05:42:48.343772Z"
    },
    "papermill": {
     "duration": 6.969515,
     "end_time": "2025-06-06T05:42:48.346145",
     "exception": false,
     "start_time": "2025-06-06T05:42:41.376630",
     "status": "completed"
    },
    "tags": []
   },
   "outputs": [
    {
     "name": "stdout",
     "output_type": "stream",
     "text": [
      "Minimum Validation Loss: nan\n"
     ]
    },
    {
     "data": {
      "image/png": "[encoded data removed]",
      "text/plain": [
       "<Figure size 640x480 with 1 Axes>"
      ]
     },
     "metadata": {},
     "output_type": "display_data"
    }
   ],
   "source": [
    "model = keras.Sequential([\n",
    "    layers.Dense(512, activation='relu', input_shape=input_shape),\n",
    "    layers.Dense(512, activation='relu'),    \n",
    "    layers.Dense(512, activation='relu'),\n",
    "    layers.Dense(1),\n",
    "])\n",
    "model.compile(\n",
    "    optimizer='sgd', # SGD is more sensitive to differences of scale\n",
    "    loss='mae',\n",
    "    metrics=['mae'],\n",
    ")\n",
    "history = model.fit(\n",
    "    X_train, y_train,\n",
    "    validation_data=(X_valid, y_valid),\n",
    "    batch_size=64,\n",
    "    epochs=100,\n",
    "    verbose=0,\n",
    ")\n",
    "\n",
    "history_df = pd.DataFrame(history.history)\n",
    "history_df.loc[0:, ['loss', 'val_loss']].plot()\n",
    "print((\"Minimum Validation Loss: {:0.4f}\").format(history_df['val_loss'].min()))"
   ]
  },
  {
   "cell_type": "markdown",
   "id": "068b739a",
   "metadata": {
    "papermill": {
     "duration": 0.00477,
     "end_time": "2025-06-06T05:42:48.355963",
     "exception": false,
     "start_time": "2025-06-06T05:42:48.351193",
     "status": "completed"
    },
    "tags": []
   },
   "source": [
    "Did you end up with a blank graph? Trying to train this network on this dataset will usually fail. Even when it does converge (due to a lucky weight initialization), it tends to converge to a very large number.\n",
    "\n",
    "# 3) Add Batch Normalization Layers\n",
    "\n",
    "Batch normalization can help correct problems like this.\n",
    "\n",
    "Add four `BatchNormalization` layers, one before each of the dense layers. (Remember to move the `input_shape` argument to the new first layer.)"
   ]
  },
  {
   "cell_type": "code",
   "execution_count": 9,
   "id": "d2e65b49",
   "metadata": {
    "execution": {
     "iopub.execute_input": "2025-06-06T05:42:48.367077Z",
     "iopub.status.busy": "2025-06-06T05:42:48.366754Z",
     "iopub.status.idle": "2025-06-06T05:42:48.386640Z",
     "shell.execute_reply": "2025-06-06T05:42:48.385871Z"
    },
    "lines_to_next_cell": 0,
    "papermill": {
     "duration": 0.027456,
     "end_time": "2025-06-06T05:42:48.388303",
     "exception": false,
     "start_time": "2025-06-06T05:42:48.360847",
     "status": "completed"
    },
    "tags": []
   },
   "outputs": [
    {
     "data": {
      "application/javascript": [
       "parent.postMessage({\"jupyterEvent\": \"custom.exercise_interaction\", \"data\": {\"outcomeType\": 1, \"valueTowardsCompletion\": 0.25, \"interactionType\": 1, \"questionType\": 2, \"questionId\": \"3_Q3\", \"learnToolsVersion\": \"0.3.4\", \"failureMessage\": \"\", \"exceptionClass\": \"\", \"trace\": \"\"}}, \"*\")"
      ],
      "text/plain": [
       "<IPython.core.display.Javascript object>"
      ]
     },
     "metadata": {},
     "output_type": "display_data"
    },
    {
     "data": {
      "text/markdown": [
       "<span style=\"color:#33cc33\">Correct</span>"
      ],
      "text/plain": [
       "Correct"
      ]
     },
     "metadata": {},
     "output_type": "display_data"
    }
   ],
   "source": [
    "# YOUR CODE HERE: Add a BatchNormalization layer before each Dense layer\n",
    "model = keras.Sequential([\n",
    "    layers.BatchNormalization(),\n",
    "    layers.Dense(512, activation='relu', input_shape=input_shape),\n",
    "    layers.BatchNormalization(),\n",
    "    layers.Dense(512, activation='relu'),\n",
    "    layers.BatchNormalization(),\n",
    "    layers.Dense(512, activation='relu'),\n",
    "    layers.BatchNormalization(),\n",
    "    layers.Dense(1),\n",
    "])\n",
    "\n",
    "# Check your answer\n",
    "q_3.check()"
   ]
  },
  {
   "cell_type": "code",
   "execution_count": 10,
   "id": "6199884c",
   "metadata": {
    "execution": {
     "iopub.execute_input": "2025-06-06T05:42:48.399546Z",
     "iopub.status.busy": "2025-06-06T05:42:48.399061Z",
     "iopub.status.idle": "2025-06-06T05:42:48.402284Z",
     "shell.execute_reply": "2025-06-06T05:42:48.401633Z"
    },
    "papermill": {
     "duration": 0.010431,
     "end_time": "2025-06-06T05:42:48.403780",
     "exception": false,
     "start_time": "2025-06-06T05:42:48.393349",
     "status": "completed"
    },
    "tags": []
   },
   "outputs": [],
   "source": [
    "# Lines below will give you a hint or solution code\n",
    "#q_3.hint()\n",
    "#q_3.solution()"
   ]
  },
  {
   "cell_type": "markdown",
   "id": "b72bb72c",
   "metadata": {
    "papermill": {
     "duration": 0.00483,
     "end_time": "2025-06-06T05:42:48.413701",
     "exception": false,
     "start_time": "2025-06-06T05:42:48.408871",
     "status": "completed"
    },
    "tags": []
   },
   "source": [
    "Run the next cell to see if batch normalization will let us train the model."
   ]
  },
  {
   "cell_type": "code",
   "execution_count": 11,
   "id": "22dd4da9",
   "metadata": {
    "execution": {
     "iopub.execute_input": "2025-06-06T05:42:48.424814Z",
     "iopub.status.busy": "2025-06-06T05:42:48.424211Z",
     "iopub.status.idle": "2025-06-06T05:42:59.255304Z",
     "shell.execute_reply": "2025-06-06T05:42:59.254424Z"
    },
    "papermill": {
     "duration": 10.83833,
     "end_time": "2025-06-06T05:42:59.256948",
     "exception": false,
     "start_time": "2025-06-06T05:42:48.418618",
     "status": "completed"
    },
    "tags": []
   },
   "outputs": [
    {
     "name": "stdout",
     "output_type": "stream",
     "text": [
      "Minimum Validation Loss: 4.0515\n"
     ]
    },
    {
     "data": {
      "image/png": "[encoded data removed]",
      "text/plain": [
       "<Figure size 640x480 with 1 Axes>"
      ]
     },
     "metadata": {},
     "output_type": "display_data"
    }
   ],
   "source": [
    "model.compile(\n",
    "    optimizer='sgd',\n",
    "    loss='mae',\n",
    "    metrics=['mae'],\n",
    ")\n",
    "EPOCHS = 100\n",
    "history = model.fit(\n",
    "    X_train, y_train,\n",
    "    validation_data=(X_valid, y_valid),\n",
    "    batch_size=64,\n",
    "    epochs=EPOCHS,\n",
    "    verbose=0,\n",
    ")\n",
    "\n",
    "history_df = pd.DataFrame(history.history)\n",
    "history_df.loc[0:, ['loss', 'val_loss']].plot()\n",
    "print((\"Minimum Validation Loss: {:0.4f}\").format(history_df['val_loss'].min()))"
   ]
  },
  {
   "cell_type": "markdown",
   "id": "7f2395f0",
   "metadata": {
    "papermill": {
     "duration": 0.00565,
     "end_time": "2025-06-06T05:42:59.268567",
     "exception": false,
     "start_time": "2025-06-06T05:42:59.262917",
     "status": "completed"
    },
    "tags": []
   },
   "source": [
    "# 4) Evaluate Batch Normalization\n",
    "\n",
    "Did adding batch normalization help?"
   ]
  },
  {
   "cell_type": "code",
   "execution_count": 12,
   "id": "fe6d9b27",
   "metadata": {
    "execution": {
     "iopub.execute_input": "2025-06-06T05:42:59.281338Z",
     "iopub.status.busy": "2025-06-06T05:42:59.280777Z",
     "iopub.status.idle": "2025-06-06T05:42:59.287507Z",
     "shell.execute_reply": "2025-06-06T05:42:59.286740Z"
    },
    "lines_to_next_cell": 0,
    "papermill": {
     "duration": 0.014946,
     "end_time": "2025-06-06T05:42:59.289054",
     "exception": false,
     "start_time": "2025-06-06T05:42:59.274108",
     "status": "completed"
    },
    "tags": []
   },
   "outputs": [
    {
     "data": {
      "application/javascript": [
       "parent.postMessage({\"jupyterEvent\": \"custom.exercise_interaction\", \"data\": {\"outcomeType\": 1, \"valueTowardsCompletion\": 0.25, \"interactionType\": 1, \"questionType\": 4, \"questionId\": \"4_Q4\", \"learnToolsVersion\": \"0.3.4\", \"failureMessage\": \"\", \"exceptionClass\": \"\", \"trace\": \"\"}}, \"*\")"
      ],
      "text/plain": [
       "<IPython.core.display.Javascript object>"
      ]
     },
     "metadata": {},
     "output_type": "display_data"
    },
    {
     "data": {
      "text/markdown": [
       "<span style=\"color:#33cc33\">Correct:</span> \n",
       "\n",
       "\n",
       "You can see that adding batch normalization was a big improvement on the first attempt! By adaptively scaling the data as it passes through the network, batch normalization can let you train models on difficult datasets.\n"
      ],
      "text/plain": [
       "Correct: \n",
       "\n",
       "\n",
       "You can see that adding batch normalization was a big improvement on the first attempt! By adaptively scaling the data as it passes through the network, batch normalization can let you train models on difficult datasets."
      ]
     },
     "metadata": {},
     "output_type": "display_data"
    }
   ],
   "source": [
    "# View the solution (Run this cell to receive credit!)\n",
    "q_4.check()"
   ]
  },
  {
   "cell_type": "markdown",
   "id": "0335a298",
   "metadata": {
    "papermill": {
     "duration": 0.005469,
     "end_time": "2025-06-06T05:42:59.300220",
     "exception": false,
     "start_time": "2025-06-06T05:42:59.294751",
     "status": "completed"
    },
    "tags": []
   },
   "source": [
    "# Keep Going #\n",
    "\n",
    "[**Create neural networks**](https://www.kaggle.com/ryanholbrook/binary-classification) for binary classification."
   ]
  },
  {
   "cell_type": "markdown",
   "id": "6e1ae9fb",
   "metadata": {
    "papermill": {
     "duration": 0.005524,
     "end_time": "2025-06-06T05:42:59.311385",
     "exception": false,
     "start_time": "2025-06-06T05:42:59.305861",
     "status": "completed"
    },
    "tags": []
   },
   "source": [
    "---\n",
    "\n",
    "\n",
    "\n",
    "\n",
    "*Have questions or comments? Visit the [course discussion forum](https://www.kaggle.com/learn/intro-to-deep-learning/discussion) to chat with other learners.*"
   ]
  }
 ],
 "metadata": {
  "jupytext": {
   "cell_metadata_filter": "-all",
   "formats": "ipynb"
  },
  "kaggle": {
   "accelerator": "gpu",
   "dataSources": [
    {
     "datasetId": 829369,
     "sourceId": 1480608,
     "sourceType": "datasetVersion"
    }
   ],
   "dockerImageVersionId": 30648,
   "isGpuEnabled": true,
   "isInternetEnabled": false,
   "language": "python",
   "sourceType": "notebook"
  },
  "kernelspec": {
   "display_name": "Python 3",
   "language": "python",
   "name": "python3"
  },
  "language_info": {
   "codemirror_mode": {
    "name": "ipython",
    "version": 3
   },
   "file_extension": ".py",
   "mimetype": "text/x-python",
   "name": "python",
   "nbconvert_exporter": "python",
   "pygments_lexer": "ipython3",
   "version": "3.10.13"
  },
  "papermill": {
   "default_parameters": {},
   "duration": 48.174019,
   "end_time": "2025-06-06T05:43:01.773279",
   "environment_variables": {},
   "exception": null,
   "input_path": "__notebook__.ipynb",
   "output_path": "__notebook__.ipynb",
   "parameters": {},
   "start_time": "2025-06-06T05:42:13.599260",
   "version": "2.5.0"
  }
 },
 "nbformat": 4,
 "nbformat_minor": 5
}
