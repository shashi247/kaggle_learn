{
 "cells": [
  {
   "cell_type": "markdown",
   "id": "b0d58cc1",
   "metadata": {
    "papermill": {
     "duration": 0.005158,
     "end_time": "2025-05-12T08:31:05.673443",
     "exception": false,
     "start_time": "2025-05-12T08:31:05.668285",
     "status": "completed"
    },
    "tags": []
   },
   "source": [
    "**This notebook is an exercise in the [SQL](https://www.kaggle.com/learn/intro-to-sql) course.  You can reference the tutorial at [this link](https://www.kaggle.com/dansbecker/as-with).**\n",
    "\n",
    "---\n"
   ]
  },
  {
   "cell_type": "markdown",
   "id": "eaebc0a1",
   "metadata": {
    "papermill": {
     "duration": 0.004169,
     "end_time": "2025-05-12T08:31:05.682374",
     "exception": false,
     "start_time": "2025-05-12T08:31:05.678205",
     "status": "completed"
    },
    "tags": []
   },
   "source": [
    "# Introduction\n",
    "\n",
    "You are getting to the point where you can own an analysis from beginning to end. So you'll do more data exploration in this exercise than you've done before.  Before you get started, run the following set-up code as usual. "
   ]
  },
  {
   "cell_type": "code",
   "execution_count": 1,
   "id": "2f3885d8",
   "metadata": {
    "execution": {
     "iopub.execute_input": "2025-05-12T08:31:05.692469Z",
     "iopub.status.busy": "2025-05-12T08:31:05.692153Z",
     "iopub.status.idle": "2025-05-12T08:31:42.241187Z",
     "shell.execute_reply": "2025-05-12T08:31:42.239894Z"
    },
    "papermill": {
     "duration": 36.556393,
     "end_time": "2025-05-12T08:31:42.243143",
     "exception": false,
     "start_time": "2025-05-12T08:31:05.686750",
     "status": "completed"
    },
    "tags": []
   },
   "outputs": [
    {
     "name": "stdout",
     "output_type": "stream",
     "text": [
      "Collecting git+https://github.com/Kaggle/learntools.git\r\n",
      "  Cloning https://github.com/Kaggle/learntools.git to /tmp/pip-req-build-blfvu7dy\r\n",
      "  Running command git clone --filter=blob:none --quiet https://github.com/Kaggle/learntools.git /tmp/pip-req-build-blfvu7dy\r\n",
      "  Resolved https://github.com/Kaggle/learntools.git to commit 9188cafa2795c2cb720981631280853a7e55649c\r\n",
      "  Preparing metadata (setup.py) ... \u001b[?25l\u001b[?25hdone\r\n",
      "Building wheels for collected packages: learntools\r\n",
      "  Building wheel for learntools (setup.py) ... \u001b[?25l\u001b[?25hdone\r\n",
      "  Created wheel for learntools: filename=learntools-0.3.5-py3-none-any.whl size=269654 sha256=65f3f701c72dfe11e345275c3286bcc301564df98d908c22f5db25cb7b75f2da\r\n",
      "  Stored in directory: /tmp/pip-ephem-wheel-cache-heoxbe3j/wheels/50/16/ba/3e0ec276f3238de9e1c59751f34c7c3ea4a3f561af10c4fd0c\r\n",
      "Successfully built learntools\r\n",
      "Installing collected packages: learntools\r\n",
      "Successfully installed learntools-0.3.5\r\n",
      "Using Kaggle's public dataset BigQuery integration.\n"
     ]
    },
    {
     "name": "stderr",
     "output_type": "stream",
     "text": [
      "/usr/local/lib/python3.11/dist-packages/google/cloud/bigquery/table.py:1727: UserWarning: BigQuery Storage module not found, fetch data with the REST endpoint instead.\n",
      "  warnings.warn(\n"
     ]
    },
    {
     "name": "stdout",
     "output_type": "stream",
     "text": [
      "Setup Complete\n"
     ]
    }
   ],
   "source": [
    "# Get most recent checking code\n",
    "!pip install -U -t /kaggle/working/ git+https://github.com/Kaggle/learntools.git\n",
    "# Set up feedback system\n",
    "from learntools.core import binder\n",
    "binder.bind(globals())\n",
    "from learntools.sql.ex5 import *\n",
    "print(\"Setup Complete\")"
   ]
  },
  {
   "cell_type": "markdown",
   "id": "1d99ff82",
   "metadata": {
    "papermill": {
     "duration": 0.004984,
     "end_time": "2025-05-12T08:31:42.253430",
     "exception": false,
     "start_time": "2025-05-12T08:31:42.248446",
     "status": "completed"
    },
    "tags": []
   },
   "source": [
    "You'll work with a dataset about taxi trips in the city of Chicago. Run the cell below to fetch the `chicago_taxi_trips` dataset."
   ]
  },
  {
   "cell_type": "code",
   "execution_count": 2,
   "id": "df98c79e",
   "metadata": {
    "execution": {
     "iopub.execute_input": "2025-05-12T08:31:42.265253Z",
     "iopub.status.busy": "2025-05-12T08:31:42.264306Z",
     "iopub.status.idle": "2025-05-12T08:31:42.568467Z",
     "shell.execute_reply": "2025-05-12T08:31:42.567685Z"
    },
    "papermill": {
     "duration": 0.311831,
     "end_time": "2025-05-12T08:31:42.570199",
     "exception": false,
     "start_time": "2025-05-12T08:31:42.258368",
     "status": "completed"
    },
    "tags": []
   },
   "outputs": [
    {
     "name": "stdout",
     "output_type": "stream",
     "text": [
      "Using Kaggle's public dataset BigQuery integration.\n"
     ]
    }
   ],
   "source": [
    "from google.cloud import bigquery\n",
    "\n",
    "# Create a \"Client\" object\n",
    "client = bigquery.Client()\n",
    "\n",
    "# Construct a reference to the \"chicago_taxi_trips\" dataset\n",
    "dataset_ref = client.dataset(\"chicago_taxi_trips\", project=\"bigquery-public-data\")\n",
    "\n",
    "# API request - fetch the dataset\n",
    "dataset = client.get_dataset(dataset_ref)"
   ]
  },
  {
   "cell_type": "markdown",
   "id": "e21f7011",
   "metadata": {
    "papermill": {
     "duration": 0.00476,
     "end_time": "2025-05-12T08:31:42.580602",
     "exception": false,
     "start_time": "2025-05-12T08:31:42.575842",
     "status": "completed"
    },
    "tags": []
   },
   "source": [
    "# Exercises\n",
    "\n",
    "You are curious how much slower traffic moves when traffic volume is high. This involves a few steps.\n",
    "\n",
    "### 1) Find the data\n",
    "Before you can access the data, you need to find the table name with the data.\n",
    "\n",
    "*Hint*: Tab completion is helpful whenever you can't remember a command. Type `client.` and then hit the tab key. Don't forget the period before hitting tab."
   ]
  },
  {
   "cell_type": "code",
   "execution_count": 3,
   "id": "728662a2",
   "metadata": {
    "execution": {
     "iopub.execute_input": "2025-05-12T08:31:42.592073Z",
     "iopub.status.busy": "2025-05-12T08:31:42.591756Z",
     "iopub.status.idle": "2025-05-12T08:31:43.113470Z",
     "shell.execute_reply": "2025-05-12T08:31:43.112384Z"
    },
    "papermill": {
     "duration": 0.529139,
     "end_time": "2025-05-12T08:31:43.115000",
     "exception": false,
     "start_time": "2025-05-12T08:31:42.585861",
     "status": "completed"
    },
    "tags": []
   },
   "outputs": [
    {
     "name": "stdout",
     "output_type": "stream",
     "text": [
      "taxi_trips\n"
     ]
    }
   ],
   "source": [
    "# Your code here to find the table name\n",
    "tables = list(client.list_tables(dataset))\n",
    "# Print names of all tables in the dataset (there are four!)\n",
    "for table in tables:  \n",
    "    print(table.table_id)"
   ]
  },
  {
   "cell_type": "code",
   "execution_count": 4,
   "id": "701e2f80",
   "metadata": {
    "execution": {
     "iopub.execute_input": "2025-05-12T08:31:43.126589Z",
     "iopub.status.busy": "2025-05-12T08:31:43.126256Z",
     "iopub.status.idle": "2025-05-12T08:31:43.134339Z",
     "shell.execute_reply": "2025-05-12T08:31:43.133411Z"
    },
    "papermill": {
     "duration": 0.015749,
     "end_time": "2025-05-12T08:31:43.135877",
     "exception": false,
     "start_time": "2025-05-12T08:31:43.120128",
     "status": "completed"
    },
    "tags": []
   },
   "outputs": [
    {
     "data": {
      "application/javascript": [
       "parent.postMessage({\"jupyterEvent\": \"custom.exercise_interaction\", \"data\": {\"outcomeType\": 1, \"valueTowardsCompletion\": 0.16666666666666666, \"interactionType\": 1, \"questionType\": 1, \"questionId\": \"1_GetTableName\", \"learnToolsVersion\": \"0.3.5\", \"failureMessage\": \"\", \"exceptionClass\": \"\", \"trace\": \"\"}}, \"*\")"
      ],
      "text/plain": [
       "<IPython.core.display.Javascript object>"
      ]
     },
     "metadata": {},
     "output_type": "display_data"
    },
    {
     "data": {
      "text/markdown": [
       "<span style=\"color:#33cc33\">Correct</span>"
      ],
      "text/plain": [
       "Correct"
      ]
     },
     "metadata": {},
     "output_type": "display_data"
    }
   ],
   "source": [
    "# Write the table name as a string below\n",
    "table_name = 'taxi_trips'\n",
    "\n",
    "# Check your answer\n",
    "q_1.check()"
   ]
  },
  {
   "cell_type": "markdown",
   "id": "c91af78b",
   "metadata": {
    "papermill": {
     "duration": 0.005423,
     "end_time": "2025-05-12T08:31:43.146775",
     "exception": false,
     "start_time": "2025-05-12T08:31:43.141352",
     "status": "completed"
    },
    "tags": []
   },
   "source": [
    "For the solution, uncomment the line below."
   ]
  },
  {
   "cell_type": "code",
   "execution_count": 5,
   "id": "76b6780c",
   "metadata": {
    "execution": {
     "iopub.execute_input": "2025-05-12T08:31:43.159027Z",
     "iopub.status.busy": "2025-05-12T08:31:43.158695Z",
     "iopub.status.idle": "2025-05-12T08:31:43.162751Z",
     "shell.execute_reply": "2025-05-12T08:31:43.161985Z"
    },
    "papermill": {
     "duration": 0.012053,
     "end_time": "2025-05-12T08:31:43.164267",
     "exception": false,
     "start_time": "2025-05-12T08:31:43.152214",
     "status": "completed"
    },
    "tags": []
   },
   "outputs": [],
   "source": [
    "#q_1.solution()"
   ]
  },
  {
   "cell_type": "markdown",
   "id": "c3d879f0",
   "metadata": {
    "papermill": {
     "duration": 0.006769,
     "end_time": "2025-05-12T08:31:43.176559",
     "exception": false,
     "start_time": "2025-05-12T08:31:43.169790",
     "status": "completed"
    },
    "tags": []
   },
   "source": [
    "### 2) Peek at the data\n",
    "\n",
    "Use the next code cell to peek at the top few rows of the data. Inspect the data and see if any issues with data quality are immediately obvious. "
   ]
  },
  {
   "cell_type": "code",
   "execution_count": 6,
   "id": "17dde2c1",
   "metadata": {
    "execution": {
     "iopub.execute_input": "2025-05-12T08:31:43.188862Z",
     "iopub.status.busy": "2025-05-12T08:31:43.188522Z",
     "iopub.status.idle": "2025-05-12T08:31:44.112515Z",
     "shell.execute_reply": "2025-05-12T08:31:44.111595Z"
    },
    "papermill": {
     "duration": 0.931931,
     "end_time": "2025-05-12T08:31:44.114186",
     "exception": false,
     "start_time": "2025-05-12T08:31:43.182255",
     "status": "completed"
    },
    "tags": []
   },
   "outputs": [
    {
     "name": "stderr",
     "output_type": "stream",
     "text": [
      "/usr/local/lib/python3.11/dist-packages/pandas/io/formats/format.py:1458: RuntimeWarning: invalid value encountered in greater\n",
      "  has_large_values = (abs_vals > 1e6).any()\n",
      "/usr/local/lib/python3.11/dist-packages/pandas/io/formats/format.py:1459: RuntimeWarning: invalid value encountered in less\n",
      "  has_small_values = ((abs_vals < 10 ** (-self.digits)) & (abs_vals > 0)).any()\n",
      "/usr/local/lib/python3.11/dist-packages/pandas/io/formats/format.py:1459: RuntimeWarning: invalid value encountered in greater\n",
      "  has_small_values = ((abs_vals < 10 ** (-self.digits)) & (abs_vals > 0)).any()\n",
      "/usr/local/lib/python3.11/dist-packages/pandas/io/formats/format.py:1458: RuntimeWarning: invalid value encountered in greater\n",
      "  has_large_values = (abs_vals > 1e6).any()\n",
      "/usr/local/lib/python3.11/dist-packages/pandas/io/formats/format.py:1459: RuntimeWarning: invalid value encountered in less\n",
      "  has_small_values = ((abs_vals < 10 ** (-self.digits)) & (abs_vals > 0)).any()\n",
      "/usr/local/lib/python3.11/dist-packages/pandas/io/formats/format.py:1459: RuntimeWarning: invalid value encountered in greater\n",
      "  has_small_values = ((abs_vals < 10 ** (-self.digits)) & (abs_vals > 0)).any()\n"
     ]
    },
    {
     "data": {
      "text/html": [
       "<div>\n",
       "<style scoped>\n",
       "    .dataframe tbody tr th:only-of-type {\n",
       "        vertical-align: middle;\n",
       "    }\n",
       "\n",
       "    .dataframe tbody tr th {\n",
       "        vertical-align: top;\n",
       "    }\n",
       "\n",
       "    .dataframe thead th {\n",
       "        text-align: right;\n",
       "    }\n",
       "</style>\n",
       "<table border=\"1\" class=\"dataframe\">\n",
       "  <thead>\n",
       "    <tr style=\"text-align: right;\">\n",
       "      <th></th>\n",
       "      <th>unique_key</th>\n",
       "      <th>taxi_id</th>\n",
       "      <th>trip_start_timestamp</th>\n",
       "      <th>trip_end_timestamp</th>\n",
       "      <th>trip_seconds</th>\n",
       "      <th>trip_miles</th>\n",
       "      <th>pickup_census_tract</th>\n",
       "      <th>dropoff_census_tract</th>\n",
       "      <th>pickup_community_area</th>\n",
       "      <th>dropoff_community_area</th>\n",
       "      <th>...</th>\n",
       "      <th>extras</th>\n",
       "      <th>trip_total</th>\n",
       "      <th>payment_type</th>\n",
       "      <th>company</th>\n",
       "      <th>pickup_latitude</th>\n",
       "      <th>pickup_longitude</th>\n",
       "      <th>pickup_location</th>\n",
       "      <th>dropoff_latitude</th>\n",
       "      <th>dropoff_longitude</th>\n",
       "      <th>dropoff_location</th>\n",
       "    </tr>\n",
       "  </thead>\n",
       "  <tbody>\n",
       "    <tr>\n",
       "      <th>0</th>\n",
       "      <td>5003bdd51918a9b5a52134096663b4d7e02395c5</td>\n",
       "      <td>2130bc5fd239a4e3b304662424fb4cc7db0ca7abf78cc5...</td>\n",
       "      <td>2013-02-25 14:15:00+00:00</td>\n",
       "      <td>2013-02-25 14:15:00+00:00</td>\n",
       "      <td>120</td>\n",
       "      <td>0.00</td>\n",
       "      <td>&lt;NA&gt;</td>\n",
       "      <td>&lt;NA&gt;</td>\n",
       "      <td>&lt;NA&gt;</td>\n",
       "      <td>&lt;NA&gt;</td>\n",
       "      <td>...</td>\n",
       "      <td>NaN</td>\n",
       "      <td>NaN</td>\n",
       "      <td>Cash</td>\n",
       "      <td>None</td>\n",
       "      <td>NaN</td>\n",
       "      <td>NaN</td>\n",
       "      <td>None</td>\n",
       "      <td>NaN</td>\n",
       "      <td>NaN</td>\n",
       "      <td>None</td>\n",
       "    </tr>\n",
       "    <tr>\n",
       "      <th>1</th>\n",
       "      <td>720534d264001b2644f682755b294067fdf1da21</td>\n",
       "      <td>4bb55b69e710d1792f5fd4888001f4ff0ce34040f976f8...</td>\n",
       "      <td>2013-06-02 08:15:00+00:00</td>\n",
       "      <td>2013-06-02 08:15:00+00:00</td>\n",
       "      <td>60</td>\n",
       "      <td>0.02</td>\n",
       "      <td>&lt;NA&gt;</td>\n",
       "      <td>&lt;NA&gt;</td>\n",
       "      <td>&lt;NA&gt;</td>\n",
       "      <td>&lt;NA&gt;</td>\n",
       "      <td>...</td>\n",
       "      <td>NaN</td>\n",
       "      <td>NaN</td>\n",
       "      <td>Cash</td>\n",
       "      <td>None</td>\n",
       "      <td>NaN</td>\n",
       "      <td>NaN</td>\n",
       "      <td>None</td>\n",
       "      <td>NaN</td>\n",
       "      <td>NaN</td>\n",
       "      <td>None</td>\n",
       "    </tr>\n",
       "    <tr>\n",
       "      <th>2</th>\n",
       "      <td>515b9a6d5234a4d1fb559dca27b3e1cc541a342d</td>\n",
       "      <td>4bb55b69e710d1792f5fd4888001f4ff0ce34040f976f8...</td>\n",
       "      <td>2013-06-24 06:15:00+00:00</td>\n",
       "      <td>2013-06-24 06:15:00+00:00</td>\n",
       "      <td>60</td>\n",
       "      <td>0.04</td>\n",
       "      <td>&lt;NA&gt;</td>\n",
       "      <td>&lt;NA&gt;</td>\n",
       "      <td>1</td>\n",
       "      <td>77</td>\n",
       "      <td>...</td>\n",
       "      <td>NaN</td>\n",
       "      <td>NaN</td>\n",
       "      <td>Cash</td>\n",
       "      <td>None</td>\n",
       "      <td>42.009623</td>\n",
       "      <td>-87.670167</td>\n",
       "      <td>POINT (-87.67016685690001 42.0096228806)</td>\n",
       "      <td>41.986712</td>\n",
       "      <td>-87.663416</td>\n",
       "      <td>POINT (-87.6634164054 41.9867117999)</td>\n",
       "    </tr>\n",
       "    <tr>\n",
       "      <th>3</th>\n",
       "      <td>d4ba1e9dba60887748d74dd93e82fdbc5abf7fdf</td>\n",
       "      <td>755cb31befdca55476f1932857fe7bd1f163907ecc575d...</td>\n",
       "      <td>2013-03-16 12:15:00+00:00</td>\n",
       "      <td>2013-03-17 00:00:00+00:00</td>\n",
       "      <td>42600</td>\n",
       "      <td>0.00</td>\n",
       "      <td>&lt;NA&gt;</td>\n",
       "      <td>&lt;NA&gt;</td>\n",
       "      <td>&lt;NA&gt;</td>\n",
       "      <td>&lt;NA&gt;</td>\n",
       "      <td>...</td>\n",
       "      <td>0.0</td>\n",
       "      <td>0.0</td>\n",
       "      <td>Cash</td>\n",
       "      <td>None</td>\n",
       "      <td>NaN</td>\n",
       "      <td>NaN</td>\n",
       "      <td>None</td>\n",
       "      <td>NaN</td>\n",
       "      <td>NaN</td>\n",
       "      <td>None</td>\n",
       "    </tr>\n",
       "    <tr>\n",
       "      <th>4</th>\n",
       "      <td>4ed2ea8e9618c76622758f65fd37ddee239b3e0e</td>\n",
       "      <td>7f83e923d71df8812353e1ea8f491ca1cc70469fe9ed27...</td>\n",
       "      <td>2013-01-30 07:45:00+00:00</td>\n",
       "      <td>2013-01-31 00:00:00+00:00</td>\n",
       "      <td>58560</td>\n",
       "      <td>0.00</td>\n",
       "      <td>&lt;NA&gt;</td>\n",
       "      <td>&lt;NA&gt;</td>\n",
       "      <td>&lt;NA&gt;</td>\n",
       "      <td>&lt;NA&gt;</td>\n",
       "      <td>...</td>\n",
       "      <td>0.0</td>\n",
       "      <td>0.0</td>\n",
       "      <td>Cash</td>\n",
       "      <td>None</td>\n",
       "      <td>NaN</td>\n",
       "      <td>NaN</td>\n",
       "      <td>None</td>\n",
       "      <td>NaN</td>\n",
       "      <td>NaN</td>\n",
       "      <td>None</td>\n",
       "    </tr>\n",
       "  </tbody>\n",
       "</table>\n",
       "<p>5 rows × 23 columns</p>\n",
       "</div>"
      ],
      "text/plain": [
       "                                 unique_key  \\\n",
       "0  5003bdd51918a9b5a52134096663b4d7e02395c5   \n",
       "1  720534d264001b2644f682755b294067fdf1da21   \n",
       "2  515b9a6d5234a4d1fb559dca27b3e1cc541a342d   \n",
       "3  d4ba1e9dba60887748d74dd93e82fdbc5abf7fdf   \n",
       "4  4ed2ea8e9618c76622758f65fd37ddee239b3e0e   \n",
       "\n",
       "                                             taxi_id  \\\n",
       "0  2130bc5fd239a4e3b304662424fb4cc7db0ca7abf78cc5...   \n",
       "1  4bb55b69e710d1792f5fd4888001f4ff0ce34040f976f8...   \n",
       "2  4bb55b69e710d1792f5fd4888001f4ff0ce34040f976f8...   \n",
       "3  755cb31befdca55476f1932857fe7bd1f163907ecc575d...   \n",
       "4  7f83e923d71df8812353e1ea8f491ca1cc70469fe9ed27...   \n",
       "\n",
       "       trip_start_timestamp        trip_end_timestamp  trip_seconds  \\\n",
       "0 2013-02-25 14:15:00+00:00 2013-02-25 14:15:00+00:00           120   \n",
       "1 2013-06-02 08:15:00+00:00 2013-06-02 08:15:00+00:00            60   \n",
       "2 2013-06-24 06:15:00+00:00 2013-06-24 06:15:00+00:00            60   \n",
       "3 2013-03-16 12:15:00+00:00 2013-03-17 00:00:00+00:00         42600   \n",
       "4 2013-01-30 07:45:00+00:00 2013-01-31 00:00:00+00:00         58560   \n",
       "\n",
       "   trip_miles  pickup_census_tract  dropoff_census_tract  \\\n",
       "0        0.00                 <NA>                  <NA>   \n",
       "1        0.02                 <NA>                  <NA>   \n",
       "2        0.04                 <NA>                  <NA>   \n",
       "3        0.00                 <NA>                  <NA>   \n",
       "4        0.00                 <NA>                  <NA>   \n",
       "\n",
       "   pickup_community_area  dropoff_community_area  ...  extras  trip_total  \\\n",
       "0                   <NA>                    <NA>  ...     NaN         NaN   \n",
       "1                   <NA>                    <NA>  ...     NaN         NaN   \n",
       "2                      1                      77  ...     NaN         NaN   \n",
       "3                   <NA>                    <NA>  ...     0.0         0.0   \n",
       "4                   <NA>                    <NA>  ...     0.0         0.0   \n",
       "\n",
       "   payment_type  company  pickup_latitude pickup_longitude  \\\n",
       "0          Cash     None              NaN              NaN   \n",
       "1          Cash     None              NaN              NaN   \n",
       "2          Cash     None        42.009623       -87.670167   \n",
       "3          Cash     None              NaN              NaN   \n",
       "4          Cash     None              NaN              NaN   \n",
       "\n",
       "                            pickup_location  dropoff_latitude  \\\n",
       "0                                      None               NaN   \n",
       "1                                      None               NaN   \n",
       "2  POINT (-87.67016685690001 42.0096228806)         41.986712   \n",
       "3                                      None               NaN   \n",
       "4                                      None               NaN   \n",
       "\n",
       "   dropoff_longitude                      dropoff_location  \n",
       "0                NaN                                  None  \n",
       "1                NaN                                  None  \n",
       "2         -87.663416  POINT (-87.6634164054 41.9867117999)  \n",
       "3                NaN                                  None  \n",
       "4                NaN                                  None  \n",
       "\n",
       "[5 rows x 23 columns]"
      ]
     },
     "execution_count": 6,
     "metadata": {},
     "output_type": "execute_result"
    }
   ],
   "source": [
    "# Your code here\n",
    "# client.list_rows(table, max_results=5).to_dataframe()\n",
    "\n",
    "#table_reference\n",
    "table_ref = dataset_ref.table('taxi_trips')\n",
    "\n",
    "#API request to fetch the table\n",
    "table = client.get_table(table_ref)\n",
    "\n",
    "#preview first 5 rows\n",
    "client.list_rows(table, max_results =5).to_dataframe()\n"
   ]
  },
  {
   "cell_type": "markdown",
   "id": "816577b1",
   "metadata": {
    "papermill": {
     "duration": 0.005864,
     "end_time": "2025-05-12T08:31:44.125988",
     "exception": false,
     "start_time": "2025-05-12T08:31:44.120124",
     "status": "completed"
    },
    "tags": []
   },
   "source": [
    "After deciding whether you see any important issues, run the code cell below."
   ]
  },
  {
   "cell_type": "code",
   "execution_count": 7,
   "id": "af1e111d",
   "metadata": {
    "execution": {
     "iopub.execute_input": "2025-05-12T08:31:44.138900Z",
     "iopub.status.busy": "2025-05-12T08:31:44.138615Z",
     "iopub.status.idle": "2025-05-12T08:31:44.142763Z",
     "shell.execute_reply": "2025-05-12T08:31:44.141878Z"
    },
    "papermill": {
     "duration": 0.01233,
     "end_time": "2025-05-12T08:31:44.144408",
     "exception": false,
     "start_time": "2025-05-12T08:31:44.132078",
     "status": "completed"
    },
    "tags": []
   },
   "outputs": [],
   "source": [
    "# Check your answer (Run this code cell to receive credit!)\n",
    "# q_2.solution()"
   ]
  },
  {
   "cell_type": "markdown",
   "id": "c873bcdc",
   "metadata": {
    "papermill": {
     "duration": 0.006119,
     "end_time": "2025-05-12T08:31:44.157025",
     "exception": false,
     "start_time": "2025-05-12T08:31:44.150906",
     "status": "completed"
    },
    "tags": []
   },
   "source": [
    "### 3) Determine when this data is from\n",
    "\n",
    "If the data is sufficiently old, we might be careful before assuming the data is still relevant to traffic patterns today. Write a query that counts the number of trips in each year.  \n",
    "\n",
    "Your results should have two columns:\n",
    "- `year` - the year of the trips\n",
    "- `num_trips` - the number of trips in that year\n",
    "\n",
    "Hints:\n",
    "- When using **GROUP BY** and **ORDER BY**, you should refer to the columns by the alias `year` that you set at the top of the **SELECT** query.\n",
    "- The SQL code to **SELECT** the year from `trip_start_timestamp` is <code>SELECT EXTRACT(YEAR FROM trip_start_timestamp)</code>\n",
    "- The **FROM** field can be a little tricky until you are used to it.  The format is:\n",
    "    1. A backick (the symbol \\`).\n",
    "    2. The project name. In this case it is `bigquery-public-data`.\n",
    "    3. A period.\n",
    "    4. The dataset name. In this case, it is `chicago_taxi_trips`.\n",
    "    5. A period.\n",
    "    6. The table name. You used this as your answer in **1) Find the data**.\n",
    "    7. A backtick (the symbol \\`)."
   ]
  },
  {
   "cell_type": "code",
   "execution_count": 8,
   "id": "39c62470",
   "metadata": {
    "execution": {
     "iopub.execute_input": "2025-05-12T08:31:44.169730Z",
     "iopub.status.busy": "2025-05-12T08:31:44.169403Z",
     "iopub.status.idle": "2025-05-12T08:31:45.224669Z",
     "shell.execute_reply": "2025-05-12T08:31:45.223644Z"
    },
    "papermill": {
     "duration": 1.063317,
     "end_time": "2025-05-12T08:31:45.226137",
     "exception": false,
     "start_time": "2025-05-12T08:31:44.162820",
     "status": "completed"
    },
    "tags": []
   },
   "outputs": [
    {
     "name": "stderr",
     "output_type": "stream",
     "text": [
      "/usr/local/lib/python3.11/dist-packages/google/cloud/bigquery/table.py:1727: UserWarning: BigQuery Storage module not found, fetch data with the REST endpoint instead.\n",
      "  warnings.warn(\n"
     ]
    },
    {
     "name": "stdout",
     "output_type": "stream",
     "text": [
      "    year  num_trips\n",
      "0   2014   37395079\n",
      "1   2015   32385527\n",
      "2   2016   31756403\n",
      "3   2013   27217300\n",
      "4   2017   24979611\n",
      "5   2018   20731105\n",
      "6   2019   16476440\n",
      "7   2023    6495415\n",
      "8   2022    6382071\n",
      "9   2021    3947677\n",
      "10  2020    3888831\n"
     ]
    },
    {
     "data": {
      "application/javascript": [
       "parent.postMessage({\"jupyterEvent\": \"custom.exercise_interaction\", \"data\": {\"outcomeType\": 1, \"valueTowardsCompletion\": 0.16666666666666666, \"interactionType\": 1, \"questionType\": 2, \"questionId\": \"3_YearDistrib\", \"learnToolsVersion\": \"0.3.5\", \"failureMessage\": \"\", \"exceptionClass\": \"\", \"trace\": \"\"}}, \"*\")"
      ],
      "text/plain": [
       "<IPython.core.display.Javascript object>"
      ]
     },
     "metadata": {},
     "output_type": "display_data"
    },
    {
     "data": {
      "text/markdown": [
       "<span style=\"color:#33cc33\">Correct</span>"
      ],
      "text/plain": [
       "Correct"
      ]
     },
     "metadata": {},
     "output_type": "display_data"
    }
   ],
   "source": [
    "# Your code goes here\n",
    "rides_per_year_query = \"\"\"\n",
    "                       SELECT EXTRACT(YEAR FROM trip_start_timestamp) AS year, COUNT(1) AS num_trips\n",
    "                       FROM `bigquery-public-data.chicago_taxi_trips.taxi_trips`\n",
    "                       GROUP BY year\n",
    "                       ORDER BY num_trips DESC\n",
    "                       \"\"\"\n",
    "\n",
    "# Set up the query (cancel the query if it would use too much of \n",
    "# your quota)\n",
    "safe_config = bigquery.QueryJobConfig(maximum_bytes_billed=10**10)\n",
    "rides_per_year_query_job = client.query(rides_per_year_query,job_config = safe_config) # Your code goes here\n",
    "\n",
    "# API request - run the query, and return a pandas DataFrame\n",
    "rides_per_year_result = rides_per_year_query_job.to_dataframe() # Your code goes here\n",
    "\n",
    "# View results\n",
    "print(rides_per_year_result)\n",
    "\n",
    "# Check your answer\n",
    "q_3.check()"
   ]
  },
  {
   "cell_type": "markdown",
   "id": "e7bb007c",
   "metadata": {
    "papermill": {
     "duration": 0.005778,
     "end_time": "2025-05-12T08:31:45.238031",
     "exception": false,
     "start_time": "2025-05-12T08:31:45.232253",
     "status": "completed"
    },
    "tags": []
   },
   "source": [
    "For a hint or the solution, uncomment the appropriate line below."
   ]
  },
  {
   "cell_type": "code",
   "execution_count": 9,
   "id": "60efd2b5",
   "metadata": {
    "execution": {
     "iopub.execute_input": "2025-05-12T08:31:45.251425Z",
     "iopub.status.busy": "2025-05-12T08:31:45.251110Z",
     "iopub.status.idle": "2025-05-12T08:31:45.255238Z",
     "shell.execute_reply": "2025-05-12T08:31:45.254275Z"
    },
    "papermill": {
     "duration": 0.012716,
     "end_time": "2025-05-12T08:31:45.256828",
     "exception": false,
     "start_time": "2025-05-12T08:31:45.244112",
     "status": "completed"
    },
    "tags": []
   },
   "outputs": [],
   "source": [
    "#q_3.hint()\n",
    "# q_3.solution()"
   ]
  },
  {
   "cell_type": "markdown",
   "id": "2c14bf2b",
   "metadata": {
    "papermill": {
     "duration": 0.005587,
     "end_time": "2025-05-12T08:31:45.268487",
     "exception": false,
     "start_time": "2025-05-12T08:31:45.262900",
     "status": "completed"
    },
    "tags": []
   },
   "source": [
    "### 4) Dive slightly deeper\n",
    "\n",
    "You'd like to take a closer look at rides from 2016.  Copy the query you used above in `rides_per_year_query` into the cell below for `rides_per_month_query`.  Then modify it in two ways:\n",
    "1. Use a **WHERE** clause to limit the query to data from 2016.\n",
    "2. Modify the query to extract the month rather than the year."
   ]
  },
  {
   "cell_type": "code",
   "execution_count": 10,
   "id": "2f8c729d",
   "metadata": {
    "execution": {
     "iopub.execute_input": "2025-05-12T08:31:45.281861Z",
     "iopub.status.busy": "2025-05-12T08:31:45.281208Z",
     "iopub.status.idle": "2025-05-12T08:31:46.417239Z",
     "shell.execute_reply": "2025-05-12T08:31:46.416263Z"
    },
    "papermill": {
     "duration": 1.14465,
     "end_time": "2025-05-12T08:31:46.418974",
     "exception": false,
     "start_time": "2025-05-12T08:31:45.274324",
     "status": "completed"
    },
    "tags": []
   },
   "outputs": [
    {
     "name": "stderr",
     "output_type": "stream",
     "text": [
      "/usr/local/lib/python3.11/dist-packages/google/cloud/bigquery/table.py:1727: UserWarning: BigQuery Storage module not found, fetch data with the REST endpoint instead.\n",
      "  warnings.warn(\n"
     ]
    },
    {
     "name": "stdout",
     "output_type": "stream",
     "text": [
      "    month  num_trips\n",
      "0       1    2510389\n",
      "1       2    2568433\n",
      "2       3    2851106\n",
      "3       4    2854290\n",
      "4       5    2859147\n",
      "5       6    2841872\n",
      "6       7    2682912\n",
      "7       8    2629482\n",
      "8       9    2532650\n",
      "9      10    2725340\n",
      "10     11    2387790\n",
      "11     12    2312992\n"
     ]
    },
    {
     "data": {
      "application/javascript": [
       "parent.postMessage({\"jupyterEvent\": \"custom.exercise_interaction\", \"data\": {\"outcomeType\": 1, \"valueTowardsCompletion\": 0.16666666666666666, \"interactionType\": 1, \"questionType\": 2, \"questionId\": \"4_MonthDistrib\", \"learnToolsVersion\": \"0.3.5\", \"failureMessage\": \"\", \"exceptionClass\": \"\", \"trace\": \"\"}}, \"*\")"
      ],
      "text/plain": [
       "<IPython.core.display.Javascript object>"
      ]
     },
     "metadata": {},
     "output_type": "display_data"
    },
    {
     "data": {
      "text/markdown": [
       "<span style=\"color:#33cc33\">Correct</span>"
      ],
      "text/plain": [
       "Correct"
      ]
     },
     "metadata": {},
     "output_type": "display_data"
    }
   ],
   "source": [
    "# Your code goes here\n",
    "rides_per_month_query = \"\"\"\n",
    "                        SELECT EXTRACT(MONTH FROM trip_start_timestamp) AS month, COUNT(1) AS num_trips\n",
    "                        FROM `bigquery-public-data.chicago_taxi_trips.taxi_trips`\n",
    "                        where EXTRACT(YEAR FROM trip_start_timestamp) = 2016\n",
    "                        GROUP BY month\n",
    "                        ORDER BY month\n",
    "                        \"\"\" \n",
    "\n",
    "# Set up the query\n",
    "safe_config = bigquery.QueryJobConfig(maximum_bytes_billed=10**10)\n",
    "rides_per_month_query_job = client.query(rides_per_month_query,job_config = safe_config) # Your code goes here\n",
    "\n",
    "# API request - run the query, and return a pandas DataFrame\n",
    "rides_per_month_result = rides_per_month_query_job.to_dataframe() # Your code goes here\n",
    "\n",
    "# View results\n",
    "print(rides_per_month_result)\n",
    "\n",
    "# Check your answer\n",
    "q_4.check()"
   ]
  },
  {
   "cell_type": "markdown",
   "id": "d2c64e85",
   "metadata": {
    "papermill": {
     "duration": 0.005979,
     "end_time": "2025-05-12T08:31:46.431407",
     "exception": false,
     "start_time": "2025-05-12T08:31:46.425428",
     "status": "completed"
    },
    "tags": []
   },
   "source": [
    "For a hint or the solution, uncomment the appropriate line below."
   ]
  },
  {
   "cell_type": "code",
   "execution_count": 11,
   "id": "9851e2a8",
   "metadata": {
    "execution": {
     "iopub.execute_input": "2025-05-12T08:31:46.445011Z",
     "iopub.status.busy": "2025-05-12T08:31:46.444660Z",
     "iopub.status.idle": "2025-05-12T08:31:46.449086Z",
     "shell.execute_reply": "2025-05-12T08:31:46.448025Z"
    },
    "papermill": {
     "duration": 0.012987,
     "end_time": "2025-05-12T08:31:46.450552",
     "exception": false,
     "start_time": "2025-05-12T08:31:46.437565",
     "status": "completed"
    },
    "tags": []
   },
   "outputs": [],
   "source": [
    "#q_4.hint()\n",
    "# q_4.solution()"
   ]
  },
  {
   "cell_type": "markdown",
   "id": "eefca654",
   "metadata": {
    "papermill": {
     "duration": 0.005957,
     "end_time": "2025-05-12T08:31:46.462994",
     "exception": false,
     "start_time": "2025-05-12T08:31:46.457037",
     "status": "completed"
    },
    "tags": []
   },
   "source": [
    "### 5) Write the query\n",
    "\n",
    "It's time to step up the sophistication of your queries.  Write a query that shows, for each hour of the day in the dataset, the corresponding number of trips and average speed.\n",
    "\n",
    "Your results should have three columns:\n",
    "- `hour_of_day` - sort by this column, which holds the result of extracting the hour from `trip_start_timestamp`.\n",
    "- `num_trips` - the count of the total number of trips in each hour of the day (e.g. how many trips were started between 6AM and 7AM, independent of which day it occurred on).\n",
    "- `avg_mph` - the average speed, measured in miles per hour, for trips that started in that hour of the day.  Average speed in miles per hour is calculated as `3600 * SUM(trip_miles) / SUM(trip_seconds)`. (The value 3600 is used to convert from seconds to hours.)\n",
    "\n",
    "Restrict your query to data meeting the following criteria:\n",
    "- a `trip_start_timestamp` > **2016-01-01** and < **2016-04-01**\n",
    "- `trip_seconds` > 0 and `trip_miles` > 0\n",
    "\n",
    "You will use a common table expression (CTE) to select just the relevant rides.  Because this dataset is very big, this CTE should select only the columns you'll need to create the final output (though you won't actually create those in the CTE -- instead you'll create those in the later **SELECT** statement below the CTE).\n",
    "\n",
    "This is a much harder query than anything you've written so far.  Good luck!"
   ]
  },
  {
   "cell_type": "code",
   "execution_count": 12,
   "id": "d598a9fc",
   "metadata": {
    "execution": {
     "iopub.execute_input": "2025-05-12T08:31:46.477960Z",
     "iopub.status.busy": "2025-05-12T08:31:46.477624Z",
     "iopub.status.idle": "2025-05-12T08:31:48.887026Z",
     "shell.execute_reply": "2025-05-12T08:31:48.886123Z"
    },
    "papermill": {
     "duration": 2.418229,
     "end_time": "2025-05-12T08:31:48.888378",
     "exception": false,
     "start_time": "2025-05-12T08:31:46.470149",
     "status": "completed"
    },
    "tags": []
   },
   "outputs": [
    {
     "name": "stderr",
     "output_type": "stream",
     "text": [
      "/usr/local/lib/python3.11/dist-packages/google/cloud/bigquery/table.py:1727: UserWarning: BigQuery Storage module not found, fetch data with the REST endpoint instead.\n",
      "  warnings.warn(\n"
     ]
    },
    {
     "name": "stdout",
     "output_type": "stream",
     "text": [
      "    hour_of_day  num_trips    avg_mph\n",
      "0             0     203092  20.191744\n",
      "1             1     178046  18.628598\n",
      "2             2     143447  18.444370\n",
      "3             3     108899  19.273107\n",
      "4             4      80067  27.599669\n",
      "5             5      75786  33.065604\n",
      "6             6     102254  28.533112\n",
      "7             7     187585  19.884592\n",
      "8             8     284223  16.787900\n",
      "9             9     306854  18.434124\n",
      "10           10     279762  20.091309\n",
      "11           11     294006  20.926340\n",
      "12           12     311522  20.063901\n",
      "13           13     317225  19.766321\n",
      "14           14     312629  19.309655\n",
      "15           15     319953  18.515564\n",
      "16           16     349455  17.168814\n",
      "17           17     394324  14.641375\n",
      "18           18     431991  15.381995\n",
      "19           19     416743  17.795008\n",
      "20           20     356279  20.347398\n",
      "21           21     318363  22.584731\n",
      "22           22     289886  21.129847\n",
      "23           23     241690  20.259757\n"
     ]
    },
    {
     "data": {
      "application/javascript": [
       "parent.postMessage({\"jupyterEvent\": \"custom.exercise_interaction\", \"data\": {\"outcomeType\": 1, \"valueTowardsCompletion\": 0.16666666666666666, \"interactionType\": 1, \"questionType\": 2, \"questionId\": \"5_TheLongQuery\", \"learnToolsVersion\": \"0.3.5\", \"failureMessage\": \"\", \"exceptionClass\": \"\", \"trace\": \"\"}}, \"*\")"
      ],
      "text/plain": [
       "<IPython.core.display.Javascript object>"
      ]
     },
     "metadata": {},
     "output_type": "display_data"
    },
    {
     "data": {
      "text/markdown": [
       "<span style=\"color:#33cc33\">Correct</span>"
      ],
      "text/plain": [
       "Correct"
      ]
     },
     "metadata": {},
     "output_type": "display_data"
    }
   ],
   "source": [
    "# Your code goes here\n",
    "speeds_query = \"\"\"\n",
    "               WITH RelevantRides AS\n",
    "               (\n",
    "                   SELECT EXTRACT(HOUR from trip_start_timestamp) AS hour_of_day,\n",
    "                   trip_miles,\n",
    "                   trip_seconds\n",
    "                   FROM `bigquery-public-data.chicago_taxi_trips.taxi_trips`\n",
    "                   WHERE trip_start_timestamp > '2016-01-01' AND \n",
    "                         trip_start_timestamp < '2016-04-01' AND \n",
    "                         trip_seconds > 0 AND \n",
    "                         trip_miles > 0\n",
    "               )\n",
    "               SELECT hour_of_day, \n",
    "                      COUNT(1) AS num_trips, \n",
    "                      3600 * SUM(trip_miles) / SUM(trip_seconds) AS avg_mph\n",
    "               FROM RelevantRides\n",
    "               GROUP BY hour_of_day\n",
    "               ORDER BY hour_of_day\n",
    "               \"\"\"\n",
    "\n",
    "# Set up the query\n",
    "safe_config = bigquery.QueryJobConfig(maximum_bytes_billed=10**10)\n",
    "speeds_query_job = client.query(speeds_query,job_config=safe_config) # Your code here\n",
    "\n",
    "# API request - run the query, and return a pandas DataFrame\n",
    "speeds_result = speeds_query_job.to_dataframe() # Your code here\n",
    "\n",
    "# View results\n",
    "print(speeds_result)\n",
    "\n",
    "# Check your answer\n",
    "q_5.check()"
   ]
  },
  {
   "cell_type": "markdown",
   "id": "07647983",
   "metadata": {
    "papermill": {
     "duration": 0.006309,
     "end_time": "2025-05-12T08:31:48.901232",
     "exception": false,
     "start_time": "2025-05-12T08:31:48.894923",
     "status": "completed"
    },
    "tags": []
   },
   "source": [
    "For the solution, uncomment the appropriate line below."
   ]
  },
  {
   "cell_type": "code",
   "execution_count": 13,
   "id": "25c403ef",
   "metadata": {
    "execution": {
     "iopub.execute_input": "2025-05-12T08:31:48.915556Z",
     "iopub.status.busy": "2025-05-12T08:31:48.915202Z",
     "iopub.status.idle": "2025-05-12T08:31:48.919179Z",
     "shell.execute_reply": "2025-05-12T08:31:48.918245Z"
    },
    "papermill": {
     "duration": 0.012872,
     "end_time": "2025-05-12T08:31:48.920497",
     "exception": false,
     "start_time": "2025-05-12T08:31:48.907625",
     "status": "completed"
    },
    "tags": []
   },
   "outputs": [],
   "source": [
    "# q_5.solution()"
   ]
  },
  {
   "cell_type": "markdown",
   "id": "bd1e25c3",
   "metadata": {
    "papermill": {
     "duration": 0.006191,
     "end_time": "2025-05-12T08:31:48.933426",
     "exception": false,
     "start_time": "2025-05-12T08:31:48.927235",
     "status": "completed"
    },
    "tags": []
   },
   "source": [
    "That's a hard query. If you made good progress towards the solution, congratulations!"
   ]
  },
  {
   "cell_type": "markdown",
   "id": "719e3a0b",
   "metadata": {
    "papermill": {
     "duration": 0.006138,
     "end_time": "2025-05-12T08:31:48.945867",
     "exception": false,
     "start_time": "2025-05-12T08:31:48.939729",
     "status": "completed"
    },
    "tags": []
   },
   "source": [
    "# Keep going\n",
    "\n",
    "You can write very complex queries now with a single data source. But nothing expands the horizons of SQL as much as the ability to combine or **JOIN** tables.\n",
    "\n",
    "**[Click here](https://www.kaggle.com/dansbecker/joining-data)** to start the last lesson in the Intro to SQL course."
   ]
  },
  {
   "cell_type": "markdown",
   "id": "2eaf34f0",
   "metadata": {
    "papermill": {
     "duration": 0.005979,
     "end_time": "2025-05-12T08:31:48.958318",
     "exception": false,
     "start_time": "2025-05-12T08:31:48.952339",
     "status": "completed"
    },
    "tags": []
   },
   "source": [
    "---\n",
    "\n",
    "\n",
    "\n",
    "\n",
    "*Have questions or comments? Visit the [course discussion forum](https://www.kaggle.com/learn/intro-to-sql/discussion) to chat with other learners.*"
   ]
  }
 ],
 "metadata": {
  "kaggle": {
   "accelerator": "none",
   "dataSources": [
    {
     "datasetId": 22219,
     "sourceId": 28536,
     "sourceType": "datasetVersion"
    },
    {
     "datasetId": 11496,
     "sourceId": 285947,
     "sourceType": "datasetVersion"
    }
   ],
   "isGpuEnabled": false,
   "isInternetEnabled": true,
   "language": "python",
   "sourceType": "notebook"
  },
  "kernelspec": {
   "display_name": "Python 3",
   "language": "python",
   "name": "python3"
  },
  "language_info": {
   "codemirror_mode": {
    "name": "ipython",
    "version": 3
   },
   "file_extension": ".py",
   "mimetype": "text/x-python",
   "name": "python",
   "nbconvert_exporter": "python",
   "pygments_lexer": "ipython3",
   "version": "3.11.11"
  },
  "papermill": {
   "default_parameters": {},
   "duration": 51.175516,
   "end_time": "2025-05-12T08:31:51.863629",
   "environment_variables": {},
   "exception": null,
   "input_path": "__notebook__.ipynb",
   "output_path": "__notebook__.ipynb",
   "parameters": {},
   "start_time": "2025-05-12T08:31:00.688113",
   "version": "2.6.0"
  }
 },
 "nbformat": 4,
 "nbformat_minor": 5
}
