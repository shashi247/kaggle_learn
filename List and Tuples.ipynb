{
 "cells": [
  {
   "cell_type": "code",
   "execution_count": 8,
   "id": "7a9803e7",
   "metadata": {},
   "outputs": [
    {
     "name": "stdout",
     "output_type": "stream",
     "text": [
      "[['work', 'work', 'work'], ['office', 'office', 'office'], ['learn', 'learn', 'learn']]\n"
     ]
    }
   ],
   "source": [
    "#lists\n",
    "\n",
    "shashi_list = [[\"work\",\"work\",\"work\"],[\"office\",\"office\",\"office\"],[\"learn\",\"learn\",\"learn\"]]\n",
    "print (shashi_list)"
   ]
  },
  {
   "cell_type": "code",
   "execution_count": 12,
   "id": "20e45db6",
   "metadata": {},
   "outputs": [
    {
     "name": "stdout",
     "output_type": "stream",
     "text": [
      "[32, 'raindrops on roses', Type help() for interactive help, or help(object) for help about object.]\n"
     ]
    }
   ],
   "source": [
    "my_favourite_things = [32, 'raindrops on roses', help]\n",
    "print(my_favourite_things)"
   ]
  },
  {
   "cell_type": "code",
   "execution_count": 13,
   "id": "d3d13300",
   "metadata": {},
   "outputs": [
    {
     "name": "stdout",
     "output_type": "stream",
     "text": [
      "Help on _Helper in module _sitebuiltins object:\n",
      "\n",
      "class _Helper(builtins.object)\n",
      " |  Define the builtin 'help'.\n",
      " |  \n",
      " |  This is a wrapper around pydoc.help that provides a helpful message\n",
      " |  when 'help' is typed at the Python interactive prompt.\n",
      " |  \n",
      " |  Calling help() at the Python prompt starts an interactive help session.\n",
      " |  Calling help(thing) prints help for the python object 'thing'.\n",
      " |  \n",
      " |  Methods defined here:\n",
      " |  \n",
      " |  __call__(self, *args, **kwds)\n",
      " |      Call self as a function.\n",
      " |  \n",
      " |  __repr__(self)\n",
      " |      Return repr(self).\n",
      " |  \n",
      " |  ----------------------------------------------------------------------\n",
      " |  Data descriptors defined here:\n",
      " |  \n",
      " |  __dict__\n",
      " |      dictionary for instance variables (if defined)\n",
      " |  \n",
      " |  __weakref__\n",
      " |      list of weak references to the object (if defined)\n",
      "\n"
     ]
    }
   ],
   "source": [
    "help(help)"
   ]
  },
  {
   "cell_type": "code",
   "execution_count": null,
   "id": "8a16a7d4",
   "metadata": {},
   "outputs": [],
   "source": []
  }
 ],
 "metadata": {
  "kernelspec": {
   "display_name": "Python 3 (ipykernel)",
   "language": "python",
   "name": "python3"
  },
  "language_info": {
   "codemirror_mode": {
    "name": "ipython",
    "version": 3
   },
   "file_extension": ".py",
   "mimetype": "text/x-python",
   "name": "python",
   "nbconvert_exporter": "python",
   "pygments_lexer": "ipython3",
   "version": "3.11.5"
  }
 },
 "nbformat": 4,
 "nbformat_minor": 5
}
