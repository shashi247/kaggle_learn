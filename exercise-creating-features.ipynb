{
 "cells": [
  {
   "cell_type": "markdown",
   "id": "ce96cf5c",
   "metadata": {
    "papermill": {
     "duration": 0.004785,
     "end_time": "2025-05-01T15:05:25.823944",
     "exception": false,
     "start_time": "2025-05-01T15:05:25.819159",
     "status": "completed"
    },
    "tags": []
   },
   "source": [
    "**This notebook is an exercise in the [Feature Engineering](https://www.kaggle.com/learn/feature-engineering) course.  You can reference the tutorial at [this link](https://www.kaggle.com/ryanholbrook/creating-features).**\n",
    "\n",
    "---\n"
   ]
  },
  {
   "cell_type": "markdown",
   "id": "8886aee0",
   "metadata": {
    "papermill": {
     "duration": 0.003839,
     "end_time": "2025-05-01T15:05:25.832213",
     "exception": false,
     "start_time": "2025-05-01T15:05:25.828374",
     "status": "completed"
    },
    "tags": []
   },
   "source": [
    "# Introduction #\n",
    "\n",
    "In this exercise you'll start developing the features you identified in Exercise 2 as having the most potential. As you work through this exercise, you might take a moment to look at the data documentation again and consider whether the features we're creating make sense from a real-world perspective, and whether there are any useful combinations that stand out to you.\n",
    "\n",
    "Run this cell to set everything up!"
   ]
  },
  {
   "cell_type": "code",
   "execution_count": 1,
   "id": "9d2ee20e",
   "metadata": {
    "execution": {
     "iopub.execute_input": "2025-05-01T15:05:25.842658Z",
     "iopub.status.busy": "2025-05-01T15:05:25.841451Z",
     "iopub.status.idle": "2025-05-01T15:05:30.107946Z",
     "shell.execute_reply": "2025-05-01T15:05:30.106889Z"
    },
    "papermill": {
     "duration": 4.273432,
     "end_time": "2025-05-01T15:05:30.109862",
     "exception": false,
     "start_time": "2025-05-01T15:05:25.836430",
     "status": "completed"
    },
    "tags": []
   },
   "outputs": [],
   "source": [
    "# Setup feedback system\n",
    "from learntools.core import binder\n",
    "binder.bind(globals())\n",
    "from learntools.feature_engineering_new.ex3 import *\n",
    "\n",
    "import numpy as np\n",
    "import pandas as pd\n",
    "from sklearn.model_selection import cross_val_score\n",
    "from xgboost import XGBRegressor\n",
    "\n",
    "\n",
    "def score_dataset(X, y, model=XGBRegressor()):\n",
    "    # Label encoding for categoricals\n",
    "    for colname in X.select_dtypes([\"category\", \"object\"]):\n",
    "        X[colname], _ = X[colname].factorize()\n",
    "    # Metric for Housing competition is RMSLE (Root Mean Squared Log Error)\n",
    "    score = cross_val_score(\n",
    "        model, X, y, cv=5, scoring=\"neg_mean_squared_log_error\",\n",
    "    )\n",
    "    score = -1 * score.mean()\n",
    "    score = np.sqrt(score)\n",
    "    return score\n",
    "\n",
    "\n",
    "# Prepare data\n",
    "df = pd.read_csv(\"../input/fe-course-data/ames.csv\")\n",
    "X = df.copy()\n",
    "y = X.pop(\"SalePrice\")"
   ]
  },
  {
   "cell_type": "markdown",
   "id": "44a8876e",
   "metadata": {
    "papermill": {
     "duration": 0.003873,
     "end_time": "2025-05-01T15:05:30.118249",
     "exception": false,
     "start_time": "2025-05-01T15:05:30.114376",
     "status": "completed"
    },
    "tags": []
   },
   "source": [
    "-------------------------------------------------------------------------------\n",
    "\n",
    "Let's start with a few mathematical combinations. We'll focus on features describing areas -- having the same units (square-feet) makes it easy to combine them in sensible ways. Since we're using XGBoost (a tree-based model), we'll focus on ratios and sums.\n",
    "\n",
    "# 1) Create Mathematical Transforms\n",
    "\n",
    "Create the following features:\n",
    "\n",
    "- `LivLotRatio`: the ratio of `GrLivArea` to `LotArea`\n",
    "- `Spaciousness`: the sum of `FirstFlrSF` and `SecondFlrSF` divided by `TotRmsAbvGrd`\n",
    "- `TotalOutsideSF`: the sum of `WoodDeckSF`, `OpenPorchSF`, `EnclosedPorch`, `Threeseasonporch`, and `ScreenPorch`"
   ]
  },
  {
   "cell_type": "code",
   "execution_count": 2,
   "id": "60684398",
   "metadata": {
    "execution": {
     "iopub.execute_input": "2025-05-01T15:05:30.127870Z",
     "iopub.status.busy": "2025-05-01T15:05:30.127540Z",
     "iopub.status.idle": "2025-05-01T15:05:30.144954Z",
     "shell.execute_reply": "2025-05-01T15:05:30.143890Z"
    },
    "lines_to_next_cell": 0,
    "papermill": {
     "duration": 0.024177,
     "end_time": "2025-05-01T15:05:30.146785",
     "exception": false,
     "start_time": "2025-05-01T15:05:30.122608",
     "status": "completed"
    },
    "tags": []
   },
   "outputs": [
    {
     "data": {
      "application/javascript": [
       "parent.postMessage({\"jupyterEvent\": \"custom.exercise_interaction\", \"data\": {\"outcomeType\": 1, \"valueTowardsCompletion\": 0.2, \"interactionType\": 1, \"questionType\": 2, \"questionId\": \"1_Q1\", \"learnToolsVersion\": \"0.3.5\", \"failureMessage\": \"\", \"exceptionClass\": \"\", \"trace\": \"\"}}, \"*\")"
      ],
      "text/plain": [
       "<IPython.core.display.Javascript object>"
      ]
     },
     "metadata": {},
     "output_type": "display_data"
    },
    {
     "data": {
      "text/markdown": [
       "<span style=\"color:#33cc33\">Correct</span>"
      ],
      "text/plain": [
       "Correct"
      ]
     },
     "metadata": {},
     "output_type": "display_data"
    }
   ],
   "source": [
    "# YOUR CODE HERE\n",
    "X_1 = pd.DataFrame()  # dataframe to hold new features\n",
    "\n",
    "X_1[\"LivLotRatio\"] = df.GrLivArea/df.LotArea\n",
    "X_1[\"Spaciousness\"] = (df.FirstFlrSF + df.SecondFlrSF)/df.TotRmsAbvGrd\n",
    "X_1[\"TotalOutsideSF\"] = df.WoodDeckSF + df.OpenPorchSF + df.EnclosedPorch + df.Threeseasonporch + df.ScreenPorch\n",
    "\n",
    "\n",
    "# Check your answer\n",
    "q_1.check()"
   ]
  },
  {
   "cell_type": "code",
   "execution_count": 3,
   "id": "30b61f11",
   "metadata": {
    "execution": {
     "iopub.execute_input": "2025-05-01T15:05:30.157358Z",
     "iopub.status.busy": "2025-05-01T15:05:30.157017Z",
     "iopub.status.idle": "2025-05-01T15:05:30.161443Z",
     "shell.execute_reply": "2025-05-01T15:05:30.160544Z"
    },
    "lines_to_next_cell": 0,
    "papermill": {
     "duration": 0.011802,
     "end_time": "2025-05-01T15:05:30.163097",
     "exception": false,
     "start_time": "2025-05-01T15:05:30.151295",
     "status": "completed"
    },
    "tags": []
   },
   "outputs": [],
   "source": [
    "# Lines below will give you a hint or solution code\n",
    "#q_1.hint()\n",
    "# q_1.solution()"
   ]
  },
  {
   "cell_type": "markdown",
   "id": "762c3b3c",
   "metadata": {
    "papermill": {
     "duration": 0.004706,
     "end_time": "2025-05-01T15:05:30.172143",
     "exception": false,
     "start_time": "2025-05-01T15:05:30.167437",
     "status": "completed"
    },
    "tags": []
   },
   "source": [
    "-------------------------------------------------------------------------------\n",
    "\n",
    "If you've discovered an interaction effect between a numeric feature and a categorical feature, you might want to model it explicitly using a one-hot encoding, like so:\n",
    "\n",
    "```\n",
    "# One-hot encode Categorical feature, adding a column prefix \"Cat\"\n",
    "X_new = pd.get_dummies(df.Categorical, prefix=\"Cat\")\n",
    "\n",
    "# Multiply row-by-row\n",
    "X_new = X_new.mul(df.Continuous, axis=0)\n",
    "\n",
    "# Join the new features to the feature set\n",
    "X = X.join(X_new)\n",
    "```\n",
    "\n",
    "# 2) Interaction with a Categorical\n",
    "\n",
    "We discovered an interaction between `BldgType` and `GrLivArea` in Exercise 2. Now create their interaction features."
   ]
  },
  {
   "cell_type": "code",
   "execution_count": 4,
   "id": "f1dd60fc",
   "metadata": {
    "execution": {
     "iopub.execute_input": "2025-05-01T15:05:30.182204Z",
     "iopub.status.busy": "2025-05-01T15:05:30.181850Z",
     "iopub.status.idle": "2025-05-01T15:05:30.201533Z",
     "shell.execute_reply": "2025-05-01T15:05:30.200570Z"
    },
    "lines_to_next_cell": 0,
    "papermill": {
     "duration": 0.026868,
     "end_time": "2025-05-01T15:05:30.203342",
     "exception": false,
     "start_time": "2025-05-01T15:05:30.176474",
     "status": "completed"
    },
    "tags": []
   },
   "outputs": [
    {
     "data": {
      "application/javascript": [
       "parent.postMessage({\"jupyterEvent\": \"custom.exercise_interaction\", \"data\": {\"outcomeType\": 1, \"valueTowardsCompletion\": 0.2, \"interactionType\": 1, \"questionType\": 2, \"questionId\": \"2_Q2\", \"learnToolsVersion\": \"0.3.5\", \"failureMessage\": \"\", \"exceptionClass\": \"\", \"trace\": \"\"}}, \"*\")"
      ],
      "text/plain": [
       "<IPython.core.display.Javascript object>"
      ]
     },
     "metadata": {},
     "output_type": "display_data"
    },
    {
     "data": {
      "text/markdown": [
       "<span style=\"color:#33cc33\">Correct</span>"
      ],
      "text/plain": [
       "Correct"
      ]
     },
     "metadata": {},
     "output_type": "display_data"
    }
   ],
   "source": [
    "# YOUR CODE HERE\n",
    "# One-hot encode BldgType. Use `prefix=\"Bldg\"` in `get_dummies`\n",
    "X_2 = pd.get_dummies(df.BldgType, prefix=\"Bldg\") \n",
    "# Multiply\n",
    "X_2 = X_2.mul(df.GrLivArea, axis=0)\n",
    "\n",
    "\n",
    "# Check your answer\n",
    "q_2.check()"
   ]
  },
  {
   "cell_type": "code",
   "execution_count": 5,
   "id": "f85a6467",
   "metadata": {
    "execution": {
     "iopub.execute_input": "2025-05-01T15:05:30.213765Z",
     "iopub.status.busy": "2025-05-01T15:05:30.213438Z",
     "iopub.status.idle": "2025-05-01T15:05:30.217601Z",
     "shell.execute_reply": "2025-05-01T15:05:30.216780Z"
    },
    "lines_to_next_cell": 0,
    "papermill": {
     "duration": 0.011228,
     "end_time": "2025-05-01T15:05:30.219205",
     "exception": false,
     "start_time": "2025-05-01T15:05:30.207977",
     "status": "completed"
    },
    "tags": []
   },
   "outputs": [],
   "source": [
    "# Lines below will give you a hint or solution code\n",
    "#q_2.hint()\n",
    "#q_2.solution()"
   ]
  },
  {
   "cell_type": "markdown",
   "id": "7f90a57e",
   "metadata": {
    "lines_to_next_cell": 0,
    "papermill": {
     "duration": 0.004233,
     "end_time": "2025-05-01T15:05:30.227957",
     "exception": false,
     "start_time": "2025-05-01T15:05:30.223724",
     "status": "completed"
    },
    "tags": []
   },
   "source": [
    "# 3) Count Feature\n",
    "\n",
    "Let's try creating a feature that describes how many kinds of outdoor areas a dwelling has. Create a feature `PorchTypes` that counts how many of the following are greater than 0.0:\n",
    "\n",
    "```\n",
    "WoodDeckSF\n",
    "OpenPorchSF\n",
    "EnclosedPorch\n",
    "Threeseasonporch\n",
    "ScreenPorch\n",
    "```"
   ]
  },
  {
   "cell_type": "code",
   "execution_count": 6,
   "id": "430450e0",
   "metadata": {
    "execution": {
     "iopub.execute_input": "2025-05-01T15:05:30.239279Z",
     "iopub.status.busy": "2025-05-01T15:05:30.238914Z",
     "iopub.status.idle": "2025-05-01T15:05:30.257075Z",
     "shell.execute_reply": "2025-05-01T15:05:30.256171Z"
    },
    "lines_to_next_cell": 0,
    "papermill": {
     "duration": 0.026511,
     "end_time": "2025-05-01T15:05:30.258849",
     "exception": false,
     "start_time": "2025-05-01T15:05:30.232338",
     "status": "completed"
    },
    "tags": []
   },
   "outputs": [
    {
     "data": {
      "application/javascript": [
       "parent.postMessage({\"jupyterEvent\": \"custom.exercise_interaction\", \"data\": {\"outcomeType\": 1, \"valueTowardsCompletion\": 0.2, \"interactionType\": 1, \"questionType\": 2, \"questionId\": \"3_Q3\", \"learnToolsVersion\": \"0.3.5\", \"failureMessage\": \"\", \"exceptionClass\": \"\", \"trace\": \"\"}}, \"*\")"
      ],
      "text/plain": [
       "<IPython.core.display.Javascript object>"
      ]
     },
     "metadata": {},
     "output_type": "display_data"
    },
    {
     "data": {
      "text/markdown": [
       "<span style=\"color:#33cc33\">Correct</span>"
      ],
      "text/plain": [
       "Correct"
      ]
     },
     "metadata": {},
     "output_type": "display_data"
    }
   ],
   "source": [
    "X_3 = pd.DataFrame()\n",
    "\n",
    "# YOUR CODE HERE\n",
    "X_3[\"PorchTypes\"] = df[[\n",
    "    \"WoodDeckSF\",\n",
    "    \"OpenPorchSF\",\n",
    "    \"EnclosedPorch\",\n",
    "    \"Threeseasonporch\",\n",
    "    \"ScreenPorch\"\n",
    "]].gt(0.0).sum(axis=1)\n",
    "\n",
    "\n",
    "# Check your answer\n",
    "q_3.check()"
   ]
  },
  {
   "cell_type": "code",
   "execution_count": 7,
   "id": "f1c4e1ec",
   "metadata": {
    "execution": {
     "iopub.execute_input": "2025-05-01T15:05:30.269557Z",
     "iopub.status.busy": "2025-05-01T15:05:30.269186Z",
     "iopub.status.idle": "2025-05-01T15:05:30.273708Z",
     "shell.execute_reply": "2025-05-01T15:05:30.272701Z"
    },
    "lines_to_next_cell": 0,
    "papermill": {
     "duration": 0.012038,
     "end_time": "2025-05-01T15:05:30.275559",
     "exception": false,
     "start_time": "2025-05-01T15:05:30.263521",
     "status": "completed"
    },
    "tags": []
   },
   "outputs": [],
   "source": [
    "# Lines below will give you a hint or solution code\n",
    "# q_3.hint()\n",
    "# q_3.solution()"
   ]
  },
  {
   "cell_type": "markdown",
   "id": "5930c086",
   "metadata": {
    "papermill": {
     "duration": 0.004518,
     "end_time": "2025-05-01T15:05:30.285489",
     "exception": false,
     "start_time": "2025-05-01T15:05:30.280971",
     "status": "completed"
    },
    "tags": []
   },
   "source": [
    "# 4) Break Down a Categorical Feature\n",
    "\n",
    "`MSSubClass` describes the type of a dwelling:"
   ]
  },
  {
   "cell_type": "code",
   "execution_count": 8,
   "id": "3bd55364",
   "metadata": {
    "execution": {
     "iopub.execute_input": "2025-05-01T15:05:30.295889Z",
     "iopub.status.busy": "2025-05-01T15:05:30.295541Z",
     "iopub.status.idle": "2025-05-01T15:05:30.302626Z",
     "shell.execute_reply": "2025-05-01T15:05:30.301457Z"
    },
    "papermill": {
     "duration": 0.014454,
     "end_time": "2025-05-01T15:05:30.304419",
     "exception": false,
     "start_time": "2025-05-01T15:05:30.289965",
     "status": "completed"
    },
    "tags": []
   },
   "outputs": [
    {
     "data": {
      "text/plain": [
       "array(['One_Story_1946_and_Newer_All_Styles', 'Two_Story_1946_and_Newer',\n",
       "       'One_Story_PUD_1946_and_Newer',\n",
       "       'One_and_Half_Story_Finished_All_Ages', 'Split_Foyer',\n",
       "       'Two_Story_PUD_1946_and_Newer', 'Split_or_Multilevel',\n",
       "       'One_Story_1945_and_Older', 'Duplex_All_Styles_and_Ages',\n",
       "       'Two_Family_conversion_All_Styles_and_Ages',\n",
       "       'One_and_Half_Story_Unfinished_All_Ages',\n",
       "       'Two_Story_1945_and_Older', 'Two_and_Half_Story_All_Ages',\n",
       "       'One_Story_with_Finished_Attic_All_Ages',\n",
       "       'PUD_Multilevel_Split_Level_Foyer',\n",
       "       'One_and_Half_Story_PUD_All_Ages'], dtype=object)"
      ]
     },
     "execution_count": 8,
     "metadata": {},
     "output_type": "execute_result"
    }
   ],
   "source": [
    "df.MSSubClass.unique()"
   ]
  },
  {
   "cell_type": "markdown",
   "id": "e3e1bac2",
   "metadata": {
    "papermill": {
     "duration": 0.004882,
     "end_time": "2025-05-01T15:05:30.314456",
     "exception": false,
     "start_time": "2025-05-01T15:05:30.309574",
     "status": "completed"
    },
    "tags": []
   },
   "source": [
    "You can see that there is a more general categorization described (roughly) by the first word of each category. Create a feature containing only these first words by splitting `MSSubClass` at the first underscore `_`. (Hint: In the `split` method use an argument `n=1`.)"
   ]
  },
  {
   "cell_type": "code",
   "execution_count": 9,
   "id": "8b060289",
   "metadata": {
    "execution": {
     "iopub.execute_input": "2025-05-01T15:05:30.324969Z",
     "iopub.status.busy": "2025-05-01T15:05:30.324681Z",
     "iopub.status.idle": "2025-05-01T15:05:30.344215Z",
     "shell.execute_reply": "2025-05-01T15:05:30.343096Z"
    },
    "lines_to_next_cell": 0,
    "papermill": {
     "duration": 0.02726,
     "end_time": "2025-05-01T15:05:30.346371",
     "exception": false,
     "start_time": "2025-05-01T15:05:30.319111",
     "status": "completed"
    },
    "tags": []
   },
   "outputs": [
    {
     "data": {
      "application/javascript": [
       "parent.postMessage({\"jupyterEvent\": \"custom.exercise_interaction\", \"data\": {\"outcomeType\": 1, \"valueTowardsCompletion\": 0.2, \"interactionType\": 1, \"questionType\": 2, \"questionId\": \"4_Q4\", \"learnToolsVersion\": \"0.3.5\", \"failureMessage\": \"\", \"exceptionClass\": \"\", \"trace\": \"\"}}, \"*\")"
      ],
      "text/plain": [
       "<IPython.core.display.Javascript object>"
      ]
     },
     "metadata": {},
     "output_type": "display_data"
    },
    {
     "data": {
      "text/markdown": [
       "<span style=\"color:#33cc33\">Correct</span>"
      ],
      "text/plain": [
       "Correct"
      ]
     },
     "metadata": {},
     "output_type": "display_data"
    }
   ],
   "source": [
    "X_4 = pd.DataFrame()\n",
    "\n",
    "# YOUR CODE HERE\n",
    "X_4[\"MSClass\"] = df.MSSubClass.str.split(\"_\", n=1, expand=True)[0]\n",
    "\n",
    " \n",
    "# Check your answer\n",
    "q_4.check()"
   ]
  },
  {
   "cell_type": "code",
   "execution_count": 10,
   "id": "29d612dc",
   "metadata": {
    "execution": {
     "iopub.execute_input": "2025-05-01T15:05:30.358134Z",
     "iopub.status.busy": "2025-05-01T15:05:30.357818Z",
     "iopub.status.idle": "2025-05-01T15:05:30.362423Z",
     "shell.execute_reply": "2025-05-01T15:05:30.361338Z"
    },
    "lines_to_next_cell": 0,
    "papermill": {
     "duration": 0.012347,
     "end_time": "2025-05-01T15:05:30.364297",
     "exception": false,
     "start_time": "2025-05-01T15:05:30.351950",
     "status": "completed"
    },
    "tags": []
   },
   "outputs": [],
   "source": [
    "# Lines below will give you a hint or solution code\n",
    "#q_4.hint()\n",
    "# q_4.solution()"
   ]
  },
  {
   "cell_type": "markdown",
   "id": "a8874934",
   "metadata": {
    "papermill": {
     "duration": 0.004561,
     "end_time": "2025-05-01T15:05:30.374250",
     "exception": false,
     "start_time": "2025-05-01T15:05:30.369689",
     "status": "completed"
    },
    "tags": []
   },
   "source": [
    "# 5) Use a Grouped Transform\n",
    "\n",
    "The value of a home often depends on how it compares to typical homes in its neighborhood. Create a feature `MedNhbdArea` that describes the *median* of `GrLivArea` grouped on `Neighborhood`."
   ]
  },
  {
   "cell_type": "code",
   "execution_count": 11,
   "id": "c26e1647",
   "metadata": {
    "execution": {
     "iopub.execute_input": "2025-05-01T15:05:30.385229Z",
     "iopub.status.busy": "2025-05-01T15:05:30.384946Z",
     "iopub.status.idle": "2025-05-01T15:05:30.402346Z",
     "shell.execute_reply": "2025-05-01T15:05:30.401410Z"
    },
    "lines_to_next_cell": 0,
    "papermill": {
     "duration": 0.025213,
     "end_time": "2025-05-01T15:05:30.404329",
     "exception": false,
     "start_time": "2025-05-01T15:05:30.379116",
     "status": "completed"
    },
    "tags": []
   },
   "outputs": [
    {
     "data": {
      "application/javascript": [
       "parent.postMessage({\"jupyterEvent\": \"custom.exercise_interaction\", \"data\": {\"outcomeType\": 1, \"valueTowardsCompletion\": 0.2, \"interactionType\": 1, \"questionType\": 2, \"questionId\": \"5_Q5\", \"learnToolsVersion\": \"0.3.5\", \"failureMessage\": \"\", \"exceptionClass\": \"\", \"trace\": \"\"}}, \"*\")"
      ],
      "text/plain": [
       "<IPython.core.display.Javascript object>"
      ]
     },
     "metadata": {},
     "output_type": "display_data"
    },
    {
     "data": {
      "text/markdown": [
       "<span style=\"color:#33cc33\">Correct</span>"
      ],
      "text/plain": [
       "Correct"
      ]
     },
     "metadata": {},
     "output_type": "display_data"
    }
   ],
   "source": [
    "X_5 = pd.DataFrame()\n",
    "\n",
    "# YOUR CODE HERE\n",
    "X_5[\"MedNhbdArea\"] = (\n",
    "    df.groupby(\"Neighborhood\")\n",
    "    [\"GrLivArea\"].transform(\"median\")\n",
    ")\n",
    "\n",
    "# Check your answer\n",
    "q_5.check()"
   ]
  },
  {
   "cell_type": "code",
   "execution_count": 12,
   "id": "7106ee77",
   "metadata": {
    "execution": {
     "iopub.execute_input": "2025-05-01T15:05:30.416085Z",
     "iopub.status.busy": "2025-05-01T15:05:30.415754Z",
     "iopub.status.idle": "2025-05-01T15:05:30.420177Z",
     "shell.execute_reply": "2025-05-01T15:05:30.419291Z"
    },
    "lines_to_next_cell": 0,
    "papermill": {
     "duration": 0.012238,
     "end_time": "2025-05-01T15:05:30.421841",
     "exception": false,
     "start_time": "2025-05-01T15:05:30.409603",
     "status": "completed"
    },
    "tags": []
   },
   "outputs": [],
   "source": [
    "# Lines below will give you a hint or solution code\n",
    "#q_5.hint()\n",
    "#q_5.solution()"
   ]
  },
  {
   "cell_type": "markdown",
   "id": "3dac57f7",
   "metadata": {
    "papermill": {
     "duration": 0.005582,
     "end_time": "2025-05-01T15:05:30.432677",
     "exception": false,
     "start_time": "2025-05-01T15:05:30.427095",
     "status": "completed"
    },
    "tags": []
   },
   "source": [
    "Now you've made your first new feature set! If you like, you can run the cell below to score the model with all of your new features added:"
   ]
  },
  {
   "cell_type": "code",
   "execution_count": 13,
   "id": "d8e276ad",
   "metadata": {
    "execution": {
     "iopub.execute_input": "2025-05-01T15:05:30.444315Z",
     "iopub.status.busy": "2025-05-01T15:05:30.443959Z",
     "iopub.status.idle": "2025-05-01T15:05:32.742508Z",
     "shell.execute_reply": "2025-05-01T15:05:32.741077Z"
    },
    "papermill": {
     "duration": 2.306352,
     "end_time": "2025-05-01T15:05:32.744102",
     "exception": false,
     "start_time": "2025-05-01T15:05:30.437750",
     "status": "completed"
    },
    "tags": []
   },
   "outputs": [
    {
     "data": {
      "text/plain": [
       "0.13954039790897127"
      ]
     },
     "execution_count": 13,
     "metadata": {},
     "output_type": "execute_result"
    }
   ],
   "source": [
    "X_new = X.join([X_1, X_2, X_3, X_4, X_5])\n",
    "score_dataset(X_new, y)"
   ]
  },
  {
   "cell_type": "markdown",
   "id": "ac71c075",
   "metadata": {
    "papermill": {
     "duration": 0.004925,
     "end_time": "2025-05-01T15:05:32.754375",
     "exception": false,
     "start_time": "2025-05-01T15:05:32.749450",
     "status": "completed"
    },
    "tags": []
   },
   "source": [
    "# Keep Going #\n",
    "\n",
    "[**Untangle spatial relationships**](https://www.kaggle.com/ryanholbrook/clustering-with-k-means) by adding cluster labels to your dataset."
   ]
  },
  {
   "cell_type": "markdown",
   "id": "4164f62b",
   "metadata": {
    "papermill": {
     "duration": 0.004872,
     "end_time": "2025-05-01T15:05:32.764428",
     "exception": false,
     "start_time": "2025-05-01T15:05:32.759556",
     "status": "completed"
    },
    "tags": []
   },
   "source": [
    "---\n",
    "\n",
    "\n",
    "\n",
    "\n",
    "*Have questions or comments? Visit the [course discussion forum](https://www.kaggle.com/learn/feature-engineering/discussion) to chat with other learners.*"
   ]
  }
 ],
 "metadata": {
  "jupytext": {
   "cell_metadata_filter": "-all",
   "formats": "ipynb"
  },
  "kaggle": {
   "accelerator": "none",
   "dataSources": [
    {
     "datasetId": 933090,
     "sourceId": 1828856,
     "sourceType": "datasetVersion"
    }
   ],
   "isGpuEnabled": false,
   "isInternetEnabled": false,
   "language": "python",
   "sourceType": "notebook"
  },
  "kernelspec": {
   "display_name": "Python 3",
   "language": "python",
   "name": "python3"
  },
  "language_info": {
   "codemirror_mode": {
    "name": "ipython",
    "version": 3
   },
   "file_extension": ".py",
   "mimetype": "text/x-python",
   "name": "python",
   "nbconvert_exporter": "python",
   "pygments_lexer": "ipython3",
   "version": "3.11.11"
  },
  "papermill": {
   "default_parameters": {},
   "duration": 12.814533,
   "end_time": "2025-05-01T15:05:33.491655",
   "environment_variables": {},
   "exception": null,
   "input_path": "__notebook__.ipynb",
   "output_path": "__notebook__.ipynb",
   "parameters": {},
   "start_time": "2025-05-01T15:05:20.677122",
   "version": "2.6.0"
  }
 },
 "nbformat": 4,
 "nbformat_minor": 5
}
