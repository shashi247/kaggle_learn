{
 "cells": [
  {
   "cell_type": "markdown",
   "id": "175fc9d1",
   "metadata": {
    "papermill": {
     "duration": 0.003967,
     "end_time": "2025-06-11T04:40:19.948428",
     "exception": false,
     "start_time": "2025-06-11T04:40:19.944461",
     "status": "completed"
    },
    "tags": []
   },
   "source": [
    "**This notebook is an exercise in the [Computer Vision](https://www.kaggle.com/learn/computer-vision) course.  You can reference the tutorial at [this link](https://www.kaggle.com/ryanholbrook/the-convolutional-classifier).**\n",
    "\n",
    "---\n"
   ]
  },
  {
   "cell_type": "markdown",
   "id": "9899bd37",
   "metadata": {
    "papermill": {
     "duration": 0.003235,
     "end_time": "2025-06-11T04:40:19.955185",
     "exception": false,
     "start_time": "2025-06-11T04:40:19.951950",
     "status": "completed"
    },
    "tags": []
   },
   "source": [
    "<blockquote style=\"margin-right:auto; margin-left:auto; padding: 1em; margin:24px;\">\n",
    "    <strong>Accelerate Training with a Kaggle GPU!</strong><br>\n",
    "Did you know Kaggle offers free time with a GPU accelerator? You can speed up training neural networks in this course by switching to <strong>GPU</strong> in the <em>Accelerator</em> option on the right. (It may already be turned on.) Two things to be aware of:\n",
    "<ul>\n",
    "<li>Changing the <em>Accelerator</em> option will cause the notebook session to restart. You'll need to rerun any setup code.\n",
    "<li>You can have only one GPU session at a time, so be sure to shut the notebook down after you've finished the exercise.\n",
    "</ul>\n",
    "</blockquote>"
   ]
  },
  {
   "cell_type": "markdown",
   "id": "76baf275",
   "metadata": {
    "papermill": {
     "duration": 0.003138,
     "end_time": "2025-06-11T04:40:19.961713",
     "exception": false,
     "start_time": "2025-06-11T04:40:19.958575",
     "status": "completed"
    },
    "tags": []
   },
   "source": [
    "# Introduction #\n",
    "\n",
    "In the tutorial, we saw how to build an image classifier by attaching a head of dense layers to a pretrained base. The base we used was from a model called **VGG16**. We saw that the VGG16 architecture was prone to overfitting this dataset. Over this course, you'll learn a number of ways you can improve upon this initial attempt.\n",
    "\n",
    "The first way you'll see is to use a base more appropriate to the dataset. The base this model comes from is called **InceptionV1** (also known as GoogLeNet). InceptionV1 was one of the early winners of the ImageNet competition. One of its successors, InceptionV4, is among the state of the art today.\n",
    "\n",
    "To get started, run the code cell below to set everything up."
   ]
  },
  {
   "cell_type": "code",
   "execution_count": 1,
   "id": "6f610d0b",
   "metadata": {
    "execution": {
     "iopub.execute_input": "2025-06-11T04:40:19.969753Z",
     "iopub.status.busy": "2025-06-11T04:40:19.969446Z",
     "iopub.status.idle": "2025-06-11T04:40:39.735984Z",
     "shell.execute_reply": "2025-06-11T04:40:39.735326Z"
    },
    "lines_to_next_cell": 2,
    "papermill": {
     "duration": 19.772908,
     "end_time": "2025-06-11T04:40:39.737900",
     "exception": false,
     "start_time": "2025-06-11T04:40:19.964992",
     "status": "completed"
    },
    "tags": []
   },
   "outputs": [
    {
     "name": "stderr",
     "output_type": "stream",
     "text": [
      "2025-06-11 04:40:22.639167: E external/local_xla/xla/stream_executor/cuda/cuda_dnn.cc:9261] Unable to register cuDNN factory: Attempting to register factory for plugin cuDNN when one has already been registered\n",
      "2025-06-11 04:40:22.639338: E external/local_xla/xla/stream_executor/cuda/cuda_fft.cc:607] Unable to register cuFFT factory: Attempting to register factory for plugin cuFFT when one has already been registered\n",
      "2025-06-11 04:40:22.779592: E external/local_xla/xla/stream_executor/cuda/cuda_blas.cc:1515] Unable to register cuBLAS factory: Attempting to register factory for plugin cuBLAS when one has already been registered\n"
     ]
    },
    {
     "name": "stdout",
     "output_type": "stream",
     "text": [
      "Found 5117 files belonging to 2 classes.\n",
      "Found 5051 files belonging to 2 classes.\n"
     ]
    }
   ],
   "source": [
    "# Setup feedback system\n",
    "from learntools.core import binder\n",
    "binder.bind(globals())\n",
    "from learntools.computer_vision.ex1 import *\n",
    "\n",
    "# Imports\n",
    "import os, warnings\n",
    "import matplotlib.pyplot as plt\n",
    "from matplotlib import gridspec\n",
    "\n",
    "import numpy as np\n",
    "import tensorflow as tf\n",
    "from tensorflow.keras.preprocessing import image_dataset_from_directory\n",
    "\n",
    "# Reproducability\n",
    "def set_seed(seed=31415):\n",
    "    np.random.seed(seed)\n",
    "    tf.random.set_seed(seed)\n",
    "    os.environ['PYTHONHASHSEED'] = str(seed)\n",
    "    os.environ['TF_DETERMINISTIC_OPS'] = '1'\n",
    "set_seed()\n",
    "\n",
    "# Set Matplotlib defaults\n",
    "plt.rc('figure', autolayout=True)\n",
    "plt.rc('axes', labelweight='bold', labelsize='large',\n",
    "       titleweight='bold', titlesize=18, titlepad=10)\n",
    "plt.rc('image', cmap='magma')\n",
    "warnings.filterwarnings(\"ignore\") # to clean up output cells\n",
    "\n",
    "\n",
    "# Load training and validation sets\n",
    "ds_train_ = image_dataset_from_directory(\n",
    "    '../input/car-or-truck/train',\n",
    "    labels='inferred',\n",
    "    label_mode='binary',\n",
    "    image_size=[128, 128],\n",
    "    interpolation='nearest',\n",
    "    batch_size=64,\n",
    "    shuffle=True,\n",
    ")\n",
    "ds_valid_ = image_dataset_from_directory(\n",
    "    '../input/car-or-truck/valid',\n",
    "    labels='inferred',\n",
    "    label_mode='binary',\n",
    "    image_size=[128, 128],\n",
    "    interpolation='nearest',\n",
    "    batch_size=64,\n",
    "    shuffle=False,\n",
    ")\n",
    "\n",
    "# Data Pipeline\n",
    "def convert_to_float(image, label):\n",
    "    image = tf.image.convert_image_dtype(image, dtype=tf.float32)\n",
    "    return image, label\n",
    "\n",
    "AUTOTUNE = tf.data.experimental.AUTOTUNE\n",
    "ds_train = (\n",
    "    ds_train_\n",
    "    .map(convert_to_float)\n",
    "    .cache()\n",
    "    .prefetch(buffer_size=AUTOTUNE)\n",
    ")\n",
    "ds_valid = (\n",
    "    ds_valid_\n",
    "    .map(convert_to_float)\n",
    "    .cache()\n",
    "    .prefetch(buffer_size=AUTOTUNE)\n",
    ")\n"
   ]
  },
  {
   "cell_type": "markdown",
   "id": "8d997d1b",
   "metadata": {
    "papermill": {
     "duration": 0.003572,
     "end_time": "2025-06-11T04:40:39.745297",
     "exception": false,
     "start_time": "2025-06-11T04:40:39.741725",
     "status": "completed"
    },
    "tags": []
   },
   "source": [
    "The **InceptionV1** model pretrained on ImageNet is available in the [TensorFlow Hub](https://www.tensorflow.org/hub/) repository, but we'll load it from a local copy. Run this cell to load InceptionV1 for your base."
   ]
  },
  {
   "cell_type": "code",
   "execution_count": 2,
   "id": "6e8824ae",
   "metadata": {
    "execution": {
     "iopub.execute_input": "2025-06-11T04:40:39.753549Z",
     "iopub.status.busy": "2025-06-11T04:40:39.753251Z",
     "iopub.status.idle": "2025-06-11T04:40:42.866104Z",
     "shell.execute_reply": "2025-06-11T04:40:42.865302Z"
    },
    "lines_to_next_cell": 0,
    "papermill": {
     "duration": 3.119391,
     "end_time": "2025-06-11T04:40:42.868263",
     "exception": false,
     "start_time": "2025-06-11T04:40:39.748872",
     "status": "completed"
    },
    "tags": []
   },
   "outputs": [],
   "source": [
    "import tensorflow_hub as hub\n",
    "\n",
    "pretrained_base = tf.keras.models.load_model(\n",
    "    '../input/cv-course-models/cv-course-models/inceptionv1'\n",
    ")"
   ]
  },
  {
   "cell_type": "markdown",
   "id": "c2eee920",
   "metadata": {
    "papermill": {
     "duration": 0.003587,
     "end_time": "2025-06-11T04:40:42.875914",
     "exception": false,
     "start_time": "2025-06-11T04:40:42.872327",
     "status": "completed"
    },
    "tags": []
   },
   "source": [
    "# 1) Define Pretrained Base #\n",
    "\n",
    "Now that you have a pretrained base to do our feature extraction, decide whether this base should be trainable or not."
   ]
  },
  {
   "cell_type": "code",
   "execution_count": 3,
   "id": "397b9ad8",
   "metadata": {
    "execution": {
     "iopub.execute_input": "2025-06-11T04:40:42.884343Z",
     "iopub.status.busy": "2025-06-11T04:40:42.883825Z",
     "iopub.status.idle": "2025-06-11T04:40:42.891585Z",
     "shell.execute_reply": "2025-06-11T04:40:42.890824Z"
    },
    "lines_to_next_cell": 0,
    "papermill": {
     "duration": 0.013695,
     "end_time": "2025-06-11T04:40:42.893110",
     "exception": false,
     "start_time": "2025-06-11T04:40:42.879415",
     "status": "completed"
    },
    "tags": []
   },
   "outputs": [
    {
     "data": {
      "application/javascript": [
       "parent.postMessage({\"jupyterEvent\": \"custom.exercise_interaction\", \"data\": {\"outcomeType\": 1, \"valueTowardsCompletion\": 0.25, \"interactionType\": 1, \"questionType\": 2, \"questionId\": \"1_Q1\", \"learnToolsVersion\": \"0.3.4\", \"failureMessage\": \"\", \"exceptionClass\": \"\", \"trace\": \"\"}}, \"*\")"
      ],
      "text/plain": [
       "<IPython.core.display.Javascript object>"
      ]
     },
     "metadata": {},
     "output_type": "display_data"
    },
    {
     "data": {
      "text/markdown": [
       "<span style=\"color:#33cc33\">Correct:</span> When doing transfer learning, it's generally not a good idea to retrain the entire base -- at least not without some care. The reason is that the random weights in the head will initially create large gradient updates, which propogate back into the base layers and destroy much of the pretraining. Using techniques known as **fine tuning** it's possible to further train the base on new data, but this requires some care to do well."
      ],
      "text/plain": [
       "Correct: When doing transfer learning, it's generally not a good idea to retrain the entire base -- at least not without some care. The reason is that the random weights in the head will initially create large gradient updates, which propogate back into the base layers and destroy much of the pretraining. Using techniques known as **fine tuning** it's possible to further train the base on new data, but this requires some care to do well."
      ]
     },
     "metadata": {},
     "output_type": "display_data"
    }
   ],
   "source": [
    "# YOUR_CODE_HERE\n",
    "pretrained_base.trainable = False\n",
    "\n",
    "# Check your answer\n",
    "q_1.check()"
   ]
  },
  {
   "cell_type": "code",
   "execution_count": 4,
   "id": "828f2b3d",
   "metadata": {
    "execution": {
     "iopub.execute_input": "2025-06-11T04:40:42.901710Z",
     "iopub.status.busy": "2025-06-11T04:40:42.901071Z",
     "iopub.status.idle": "2025-06-11T04:40:42.904395Z",
     "shell.execute_reply": "2025-06-11T04:40:42.903677Z"
    },
    "papermill": {
     "duration": 0.009284,
     "end_time": "2025-06-11T04:40:42.906062",
     "exception": false,
     "start_time": "2025-06-11T04:40:42.896778",
     "status": "completed"
    },
    "tags": []
   },
   "outputs": [],
   "source": [
    "# Lines below will give you a hint or solution code\n",
    "#q_1.hint()\n",
    "#q_1.solution()"
   ]
  },
  {
   "cell_type": "markdown",
   "id": "45ad4648",
   "metadata": {
    "papermill": {
     "duration": 0.003568,
     "end_time": "2025-06-11T04:40:42.914254",
     "exception": false,
     "start_time": "2025-06-11T04:40:42.910686",
     "status": "completed"
    },
    "tags": []
   },
   "source": [
    "# 2) Attach Head #\n",
    "\n",
    "Now that the base is defined to do the feature extraction, create a head of `Dense` layers to perform the classification, following this diagram:\n",
    "\n",
    "<figure>\n",
    "<img src=\"https://storage.googleapis.com/kaggle-media/learn/images/i5VU7Ry.png\" alt=\"Diagram of the dense head.\">\n",
    "</figure>\n"
   ]
  },
  {
   "cell_type": "code",
   "execution_count": 5,
   "id": "f0e41407",
   "metadata": {
    "execution": {
     "iopub.execute_input": "2025-06-11T04:40:42.922886Z",
     "iopub.status.busy": "2025-06-11T04:40:42.922458Z",
     "iopub.status.idle": "2025-06-11T04:40:42.938101Z",
     "shell.execute_reply": "2025-06-11T04:40:42.937330Z"
    },
    "lines_to_next_cell": 0,
    "papermill": {
     "duration": 0.021684,
     "end_time": "2025-06-11T04:40:42.939688",
     "exception": false,
     "start_time": "2025-06-11T04:40:42.918004",
     "status": "completed"
    },
    "tags": []
   },
   "outputs": [
    {
     "data": {
      "application/javascript": [
       "parent.postMessage({\"jupyterEvent\": \"custom.exercise_interaction\", \"data\": {\"outcomeType\": 1, \"valueTowardsCompletion\": 0.25, \"interactionType\": 1, \"questionType\": 2, \"questionId\": \"2_Q2\", \"learnToolsVersion\": \"0.3.4\", \"failureMessage\": \"\", \"exceptionClass\": \"\", \"trace\": \"\"}}, \"*\")"
      ],
      "text/plain": [
       "<IPython.core.display.Javascript object>"
      ]
     },
     "metadata": {},
     "output_type": "display_data"
    },
    {
     "data": {
      "text/markdown": [
       "<span style=\"color:#33cc33\">Correct</span>"
      ],
      "text/plain": [
       "Correct"
      ]
     },
     "metadata": {},
     "output_type": "display_data"
    }
   ],
   "source": [
    "from tensorflow import keras\n",
    "from tensorflow.keras import layers\n",
    "\n",
    "model = keras.Sequential([\n",
    "    pretrained_base,\n",
    "    layers.Flatten(),\n",
    "    layers.Dense(6, activation='relu'),\n",
    "    layers.Dense(1, activation='sigmoid'),\n",
    "])\n",
    "\n",
    "# Check your answer\n",
    "q_2.check()"
   ]
  },
  {
   "cell_type": "code",
   "execution_count": 6,
   "id": "47522636",
   "metadata": {
    "execution": {
     "iopub.execute_input": "2025-06-11T04:40:42.948380Z",
     "iopub.status.busy": "2025-06-11T04:40:42.948117Z",
     "iopub.status.idle": "2025-06-11T04:40:42.951322Z",
     "shell.execute_reply": "2025-06-11T04:40:42.950666Z"
    },
    "papermill": {
     "duration": 0.009236,
     "end_time": "2025-06-11T04:40:42.952828",
     "exception": false,
     "start_time": "2025-06-11T04:40:42.943592",
     "status": "completed"
    },
    "tags": []
   },
   "outputs": [],
   "source": [
    "# Lines below will give you a hint or solution code\n",
    "#q_2.hint()\n",
    "#q_2.solution()"
   ]
  },
  {
   "cell_type": "markdown",
   "id": "eb9a403d",
   "metadata": {
    "papermill": {
     "duration": 0.003687,
     "end_time": "2025-06-11T04:40:42.960451",
     "exception": false,
     "start_time": "2025-06-11T04:40:42.956764",
     "status": "completed"
    },
    "tags": []
   },
   "source": [
    "# 3) Train #\n",
    "\n",
    "Before training a model in Keras, you need to specify an *optimizer* to perform the gradient descent, a *loss function* to be minimized, and (optionally) any *performance metrics*. The optimization algorithm we'll use for this course is called [\"Adam\"](https://keras.io/api/optimizers/adam/), which generally performs well regardless of what kind of problem you're trying to solve.\n",
    "\n",
    "The loss and the metrics, however, need to match the kind of problem you're trying to solve. Our problem is a **binary classification** problem: `Car` coded as 0, and `Truck` coded as 1. Choose an appropriate loss and an appropriate accuracy metric for binary classification."
   ]
  },
  {
   "cell_type": "code",
   "execution_count": 7,
   "id": "f2727acc",
   "metadata": {
    "execution": {
     "iopub.execute_input": "2025-06-11T04:40:42.969038Z",
     "iopub.status.busy": "2025-06-11T04:40:42.968805Z",
     "iopub.status.idle": "2025-06-11T04:40:42.993176Z",
     "shell.execute_reply": "2025-06-11T04:40:42.992349Z"
    },
    "lines_to_next_cell": 0,
    "papermill": {
     "duration": 0.030453,
     "end_time": "2025-06-11T04:40:42.994832",
     "exception": false,
     "start_time": "2025-06-11T04:40:42.964379",
     "status": "completed"
    },
    "tags": []
   },
   "outputs": [
    {
     "data": {
      "application/javascript": [
       "parent.postMessage({\"jupyterEvent\": \"custom.exercise_interaction\", \"data\": {\"outcomeType\": 1, \"valueTowardsCompletion\": 0.25, \"interactionType\": 1, \"questionType\": 2, \"questionId\": \"3_Q3\", \"learnToolsVersion\": \"0.3.4\", \"failureMessage\": \"\", \"exceptionClass\": \"\", \"trace\": \"\"}}, \"*\")"
      ],
      "text/plain": [
       "<IPython.core.display.Javascript object>"
      ]
     },
     "metadata": {},
     "output_type": "display_data"
    },
    {
     "data": {
      "text/markdown": [
       "<span style=\"color:#33cc33\">Correct</span>"
      ],
      "text/plain": [
       "Correct"
      ]
     },
     "metadata": {},
     "output_type": "display_data"
    }
   ],
   "source": [
    "# YOUR CODE HERE: what loss function should you use for a binary\n",
    "# classification problem? (Your answer for each should be a string.)\n",
    "optimizer = tf.keras.optimizers.Adam(epsilon=0.01)\n",
    "model.compile(\n",
    "    optimizer=optimizer,\n",
    "    loss = 'binary_crossentropy',\n",
    "    metrics=['binary_accuracy'],\n",
    ")\n",
    "\n",
    "# Check your answer\n",
    "q_3.check()"
   ]
  },
  {
   "cell_type": "code",
   "execution_count": 8,
   "id": "4b392f2a",
   "metadata": {
    "execution": {
     "iopub.execute_input": "2025-06-11T04:40:43.004063Z",
     "iopub.status.busy": "2025-06-11T04:40:43.003802Z",
     "iopub.status.idle": "2025-06-11T04:40:43.007104Z",
     "shell.execute_reply": "2025-06-11T04:40:43.006468Z"
    },
    "lines_to_next_cell": 0,
    "papermill": {
     "duration": 0.009831,
     "end_time": "2025-06-11T04:40:43.008740",
     "exception": false,
     "start_time": "2025-06-11T04:40:42.998909",
     "status": "completed"
    },
    "tags": []
   },
   "outputs": [],
   "source": [
    "# Lines below will give you a hint or solution code\n",
    "#q_3.hint()\n",
    "#q_3.solution()"
   ]
  },
  {
   "cell_type": "code",
   "execution_count": 9,
   "id": "7bd00a98",
   "metadata": {
    "execution": {
     "iopub.execute_input": "2025-06-11T04:40:43.017847Z",
     "iopub.status.busy": "2025-06-11T04:40:43.017623Z",
     "iopub.status.idle": "2025-06-11T04:42:37.077524Z",
     "shell.execute_reply": "2025-06-11T04:42:37.076492Z"
    },
    "papermill": {
     "duration": 114.066531,
     "end_time": "2025-06-11T04:42:37.079401",
     "exception": false,
     "start_time": "2025-06-11T04:40:43.012870",
     "status": "completed"
    },
    "tags": []
   },
   "outputs": [
    {
     "name": "stdout",
     "output_type": "stream",
     "text": [
      "Epoch 1/30\n"
     ]
    },
    {
     "name": "stderr",
     "output_type": "stream",
     "text": [
      "WARNING: All log messages before absl::InitializeLog() is called are written to STDERR\n",
      "I0000 00:00:1749616850.168474      74 device_compiler.h:186] Compiled cluster using XLA!  This line is logged at most once for the lifetime of the process.\n"
     ]
    },
    {
     "name": "stdout",
     "output_type": "stream",
     "text": [
      "80/80 [==============================] - 17s 128ms/step - loss: 0.6090 - binary_accuracy: 0.6545 - val_loss: 0.4647 - val_binary_accuracy: 0.7793\n",
      "Epoch 2/30\n",
      "80/80 [==============================] - 3s 42ms/step - loss: 0.4194 - binary_accuracy: 0.8071 - val_loss: 0.3883 - val_binary_accuracy: 0.8343\n",
      "Epoch 3/30\n",
      "80/80 [==============================] - 3s 42ms/step - loss: 0.3784 - binary_accuracy: 0.8300 - val_loss: 0.3716 - val_binary_accuracy: 0.8406\n",
      "Epoch 4/30\n",
      "80/80 [==============================] - 3s 42ms/step - loss: 0.3563 - binary_accuracy: 0.8431 - val_loss: 0.3605 - val_binary_accuracy: 0.8460\n",
      "Epoch 5/30\n",
      "80/80 [==============================] - 3s 42ms/step - loss: 0.3409 - binary_accuracy: 0.8509 - val_loss: 0.3531 - val_binary_accuracy: 0.8464\n",
      "Epoch 6/30\n",
      "80/80 [==============================] - 3s 42ms/step - loss: 0.3285 - binary_accuracy: 0.8581 - val_loss: 0.3473 - val_binary_accuracy: 0.8523\n",
      "Epoch 7/30\n",
      "80/80 [==============================] - 3s 42ms/step - loss: 0.3186 - binary_accuracy: 0.8630 - val_loss: 0.3431 - val_binary_accuracy: 0.8535\n",
      "Epoch 8/30\n",
      "80/80 [==============================] - 3s 42ms/step - loss: 0.3102 - binary_accuracy: 0.8697 - val_loss: 0.3394 - val_binary_accuracy: 0.8553\n",
      "Epoch 9/30\n",
      "80/80 [==============================] - 3s 42ms/step - loss: 0.3026 - binary_accuracy: 0.8722 - val_loss: 0.3369 - val_binary_accuracy: 0.8553\n",
      "Epoch 10/30\n",
      "80/80 [==============================] - 3s 42ms/step - loss: 0.2961 - binary_accuracy: 0.8755 - val_loss: 0.3346 - val_binary_accuracy: 0.8561\n",
      "Epoch 11/30\n",
      "80/80 [==============================] - 3s 42ms/step - loss: 0.2897 - binary_accuracy: 0.8779 - val_loss: 0.3330 - val_binary_accuracy: 0.8586\n",
      "Epoch 12/30\n",
      "80/80 [==============================] - 3s 42ms/step - loss: 0.2841 - binary_accuracy: 0.8804 - val_loss: 0.3306 - val_binary_accuracy: 0.8580\n",
      "Epoch 13/30\n",
      "80/80 [==============================] - 3s 42ms/step - loss: 0.2790 - binary_accuracy: 0.8835 - val_loss: 0.3300 - val_binary_accuracy: 0.8602\n",
      "Epoch 14/30\n",
      "80/80 [==============================] - 3s 42ms/step - loss: 0.2743 - binary_accuracy: 0.8857 - val_loss: 0.3289 - val_binary_accuracy: 0.8618\n",
      "Epoch 15/30\n",
      "80/80 [==============================] - 3s 42ms/step - loss: 0.2696 - binary_accuracy: 0.8894 - val_loss: 0.3279 - val_binary_accuracy: 0.8608\n",
      "Epoch 16/30\n",
      "80/80 [==============================] - 3s 42ms/step - loss: 0.2656 - binary_accuracy: 0.8910 - val_loss: 0.3276 - val_binary_accuracy: 0.8606\n",
      "Epoch 17/30\n",
      "80/80 [==============================] - 3s 42ms/step - loss: 0.2618 - binary_accuracy: 0.8935 - val_loss: 0.3272 - val_binary_accuracy: 0.8622\n",
      "Epoch 18/30\n",
      "80/80 [==============================] - 3s 42ms/step - loss: 0.2579 - binary_accuracy: 0.8951 - val_loss: 0.3267 - val_binary_accuracy: 0.8628\n",
      "Epoch 19/30\n",
      "80/80 [==============================] - 3s 42ms/step - loss: 0.2549 - binary_accuracy: 0.8962 - val_loss: 0.3266 - val_binary_accuracy: 0.8630\n",
      "Epoch 20/30\n",
      "80/80 [==============================] - 3s 42ms/step - loss: 0.2515 - binary_accuracy: 0.8968 - val_loss: 0.3265 - val_binary_accuracy: 0.8622\n",
      "Epoch 21/30\n",
      "80/80 [==============================] - 3s 42ms/step - loss: 0.2481 - binary_accuracy: 0.8984 - val_loss: 0.3264 - val_binary_accuracy: 0.8622\n",
      "Epoch 22/30\n",
      "80/80 [==============================] - 3s 42ms/step - loss: 0.2453 - binary_accuracy: 0.8982 - val_loss: 0.3257 - val_binary_accuracy: 0.8638\n",
      "Epoch 23/30\n",
      "80/80 [==============================] - 3s 42ms/step - loss: 0.2417 - binary_accuracy: 0.9011 - val_loss: 0.3263 - val_binary_accuracy: 0.8620\n",
      "Epoch 24/30\n",
      "80/80 [==============================] - 3s 42ms/step - loss: 0.2384 - binary_accuracy: 0.9044 - val_loss: 0.3263 - val_binary_accuracy: 0.8610\n",
      "Epoch 25/30\n",
      "80/80 [==============================] - 3s 42ms/step - loss: 0.2355 - binary_accuracy: 0.9042 - val_loss: 0.3259 - val_binary_accuracy: 0.8622\n",
      "Epoch 26/30\n",
      "80/80 [==============================] - 3s 42ms/step - loss: 0.2326 - binary_accuracy: 0.9058 - val_loss: 0.3277 - val_binary_accuracy: 0.8622\n",
      "Epoch 27/30\n",
      "80/80 [==============================] - 3s 42ms/step - loss: 0.2296 - binary_accuracy: 0.9083 - val_loss: 0.3298 - val_binary_accuracy: 0.8610\n",
      "Epoch 28/30\n",
      "80/80 [==============================] - 3s 42ms/step - loss: 0.2271 - binary_accuracy: 0.9099 - val_loss: 0.3296 - val_binary_accuracy: 0.8612\n",
      "Epoch 29/30\n",
      "80/80 [==============================] - 3s 42ms/step - loss: 0.2244 - binary_accuracy: 0.9115 - val_loss: 0.3297 - val_binary_accuracy: 0.8618\n",
      "Epoch 30/30\n",
      "80/80 [==============================] - 3s 42ms/step - loss: 0.2212 - binary_accuracy: 0.9130 - val_loss: 0.3308 - val_binary_accuracy: 0.8618\n"
     ]
    }
   ],
   "source": [
    "history = model.fit(\n",
    "    ds_train,\n",
    "    validation_data=ds_valid,\n",
    "    epochs=30,\n",
    ")"
   ]
  },
  {
   "cell_type": "markdown",
   "id": "5c81ac10",
   "metadata": {
    "papermill": {
     "duration": 0.044369,
     "end_time": "2025-06-11T04:42:37.167809",
     "exception": false,
     "start_time": "2025-06-11T04:42:37.123440",
     "status": "completed"
    },
    "tags": []
   },
   "source": [
    "Run the cell below to plot the loss and metric curves for this training run."
   ]
  },
  {
   "cell_type": "code",
   "execution_count": 10,
   "id": "26d2cbd4",
   "metadata": {
    "execution": {
     "iopub.execute_input": "2025-06-11T04:42:37.255979Z",
     "iopub.status.busy": "2025-06-11T04:42:37.255649Z",
     "iopub.status.idle": "2025-06-11T04:42:37.798152Z",
     "shell.execute_reply": "2025-06-11T04:42:37.797353Z"
    },
    "papermill": {
     "duration": 0.588541,
     "end_time": "2025-06-11T04:42:37.799940",
     "exception": false,
     "start_time": "2025-06-11T04:42:37.211399",
     "status": "completed"
    },
    "tags": []
   },
   "outputs": [
    {
     "data": {
      "image/png": "[encoded data removed]",
      "text/plain": [
       "<Figure size 640x480 with 1 Axes>"
      ]
     },
     "metadata": {},
     "output_type": "display_data"
    },
    {
     "data": {
      "image/png": "[encoded data removed]",
      "text/plain": [
       "<Figure size 640x480 with 1 Axes>"
      ]
     },
     "metadata": {},
     "output_type": "display_data"
    }
   ],
   "source": [
    "import pandas as pd\n",
    "history_frame = pd.DataFrame(history.history)\n",
    "history_frame.loc[:, ['loss', 'val_loss']].plot()\n",
    "history_frame.loc[:, ['binary_accuracy', 'val_binary_accuracy']].plot();"
   ]
  },
  {
   "cell_type": "markdown",
   "id": "9ab38d2e",
   "metadata": {
    "papermill": {
     "duration": 0.044604,
     "end_time": "2025-06-11T04:42:37.929276",
     "exception": false,
     "start_time": "2025-06-11T04:42:37.884672",
     "status": "completed"
    },
    "tags": []
   },
   "source": [
    "# 4) Examine Loss and Accuracy #\n",
    "\n",
    "Do you notice a difference between these learning curves and the curves for VGG16 from the tutorial? What does this difference tell you about what this model (InceptionV2) learned compared to VGG16? Are there ways in which one is better than the other? Worse?\n",
    "\n",
    "After you've thought about it, run the cell below to see the answer."
   ]
  },
  {
   "cell_type": "code",
   "execution_count": 11,
   "id": "bf534e40",
   "metadata": {
    "execution": {
     "iopub.execute_input": "2025-06-11T04:42:38.017642Z",
     "iopub.status.busy": "2025-06-11T04:42:38.017265Z",
     "iopub.status.idle": "2025-06-11T04:42:38.024126Z",
     "shell.execute_reply": "2025-06-11T04:42:38.023330Z"
    },
    "papermill": {
     "duration": 0.053031,
     "end_time": "2025-06-11T04:42:38.025643",
     "exception": false,
     "start_time": "2025-06-11T04:42:37.972612",
     "status": "completed"
    },
    "tags": []
   },
   "outputs": [
    {
     "data": {
      "application/javascript": [
       "parent.postMessage({\"jupyterEvent\": \"custom.exercise_interaction\", \"data\": {\"outcomeType\": 1, \"valueTowardsCompletion\": 0.25, \"interactionType\": 1, \"questionType\": 4, \"questionId\": \"4_Q4\", \"learnToolsVersion\": \"0.3.4\", \"failureMessage\": \"\", \"exceptionClass\": \"\", \"trace\": \"\"}}, \"*\")"
      ],
      "text/plain": [
       "<IPython.core.display.Javascript object>"
      ]
     },
     "metadata": {},
     "output_type": "display_data"
    },
    {
     "data": {
      "text/markdown": [
       "<span style=\"color:#33cc33\">Correct:</span> \n",
       "\n",
       "That the training loss and validation loss stay fairly close is evidence that the model isn't just memorizing the training data, but rather learning general properties of the two classes. But, because this model converges at a loss greater than the VGG16 model, it's likely that it is underfitting some, and could benefit from some extra capacity.\n"
      ],
      "text/plain": [
       "Correct: \n",
       "\n",
       "That the training loss and validation loss stay fairly close is evidence that the model isn't just memorizing the training data, but rather learning general properties of the two classes. But, because this model converges at a loss greater than the VGG16 model, it's likely that it is underfitting some, and could benefit from some extra capacity."
      ]
     },
     "metadata": {},
     "output_type": "display_data"
    }
   ],
   "source": [
    "# View the solution (Run this code cell to receive credit!)\n",
    "q_4.check()"
   ]
  },
  {
   "cell_type": "markdown",
   "id": "9af7a97f",
   "metadata": {
    "papermill": {
     "duration": 0.043415,
     "end_time": "2025-06-11T04:42:38.112633",
     "exception": false,
     "start_time": "2025-06-11T04:42:38.069218",
     "status": "completed"
    },
    "tags": []
   },
   "source": [
    "# Conclusion #\n",
    "\n",
    "In this first lesson, you learned the basics of **convolutional image classifiers**, that they consist of a **base** for extracting features from images, and a **head** which uses the features to decide the image's class. You also saw how to build a classifier with **transfer learning** on pretrained base. "
   ]
  },
  {
   "cell_type": "markdown",
   "id": "1e745ab0",
   "metadata": {
    "papermill": {
     "duration": 0.043542,
     "end_time": "2025-06-11T04:42:38.199683",
     "exception": false,
     "start_time": "2025-06-11T04:42:38.156141",
     "status": "completed"
    },
    "tags": []
   },
   "source": [
    "# Keep Going #\n",
    "\n",
    "Move on to [**Lesson 2**](https://www.kaggle.com/ryanholbrook/convolution-and-relu) for a detailed look at how the base does this feature extraction. (It's really cool!)"
   ]
  },
  {
   "cell_type": "markdown",
   "id": "0c496d5b",
   "metadata": {
    "papermill": {
     "duration": 0.044142,
     "end_time": "2025-06-11T04:42:38.287100",
     "exception": false,
     "start_time": "2025-06-11T04:42:38.242958",
     "status": "completed"
    },
    "tags": []
   },
   "source": [
    "---\n",
    "\n",
    "\n",
    "\n",
    "\n",
    "*Have questions or comments? Visit the [course discussion forum](https://www.kaggle.com/learn/computer-vision/discussion) to chat with other learners.*"
   ]
  }
 ],
 "metadata": {
  "jupytext": {
   "formats": "ipynb,md",
   "split_at_heading": true
  },
  "kaggle": {
   "accelerator": "gpu",
   "dataSources": [
    {
     "datasetId": 708136,
     "sourceId": 1338830,
     "sourceType": "datasetVersion"
    },
    {
     "datasetId": 701538,
     "sourceId": 1363948,
     "sourceType": "datasetVersion"
    },
    {
     "datasetId": 878523,
     "sourceId": 1495782,
     "sourceType": "datasetVersion"
    }
   ],
   "dockerImageVersionId": 30648,
   "isGpuEnabled": true,
   "isInternetEnabled": false,
   "language": "python",
   "sourceType": "notebook"
  },
  "kernelspec": {
   "display_name": "Python 3",
   "language": "python",
   "name": "python3"
  },
  "language_info": {
   "codemirror_mode": {
    "name": "ipython",
    "version": 3
   },
   "file_extension": ".py",
   "mimetype": "text/x-python",
   "name": "python",
   "nbconvert_exporter": "python",
   "pygments_lexer": "ipython3",
   "version": "3.10.13"
  },
  "papermill": {
   "default_parameters": {},
   "duration": 144.163095,
   "end_time": "2025-06-11T04:42:41.572247",
   "environment_variables": {},
   "exception": null,
   "input_path": "__notebook__.ipynb",
   "output_path": "__notebook__.ipynb",
   "parameters": {},
   "start_time": "2025-06-11T04:40:17.409152",
   "version": "2.5.0"
  }
 },
 "nbformat": 4,
 "nbformat_minor": 5
}
