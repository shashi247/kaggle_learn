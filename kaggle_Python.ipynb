{
 "cells": [
  {
   "cell_type": "code",
   "execution_count": 13,
   "id": "b204e70a",
   "metadata": {},
   "outputs": [
    {
     "name": "stdout",
     "output_type": "stream",
     "text": [
      "10 10 9\n",
      "1<2<3\n",
      "Hello  shashi\n",
      "Hello  Neha\n",
      "Hello  without_variable\n"
     ]
    }
   ],
   "source": [
    "#Functions and Getting Help\n",
    "\n",
    "\n",
    "#help(abs)\n",
    "\n",
    "def least_difference(a, b, c):\n",
    "    \"\"\"Return the smallest difference between any two numbers\n",
    "    among a, b and c.\n",
    "    \n",
    "    >>> least_difference(1, 5, -5)\n",
    "    4\n",
    "    \"\"\"\n",
    "    \n",
    "    diff1 = abs(a - b)\n",
    "    diff2 = abs(b - c)\n",
    "    diff3 = abs(c - a)\n",
    "    return min(diff1, diff2, diff3)\n",
    "    \n",
    "print(\n",
    "    least_difference(100,20,30),\n",
    "    least_difference(40,20,30),\n",
    "    least_difference(89,98,1.2)\n",
    "\n",
    ")    \n",
    "\n",
    "\n",
    "#special optional print argument\n",
    "\n",
    "print(1,2,3, sep = \"<\")\n",
    "\n",
    "\n",
    "def greet(who = \"shashi\"):\n",
    "    print (\"Hello \",who)\n",
    "    \n",
    "greet()\n",
    "greet(who=\"Neha\")\n",
    "greet(\"without_variable\")\n",
    "\n"
   ]
  },
  {
   "cell_type": "code",
   "execution_count": 11,
   "id": "c9aedc1f",
   "metadata": {},
   "outputs": [
    {
     "name": "stdout",
     "output_type": "stream",
     "text": [
      "Help on function least_difference in module __main__:\n",
      "\n",
      "least_difference(a, b, c)\n",
      "    Return the smallest difference between any two numbers\n",
      "    among a, b and c.\n",
      "    \n",
      "    >>> least_difference(1, 5, -5)\n",
      "    4\n",
      "\n"
     ]
    }
   ],
   "source": [
    "help(least_difference)"
   ]
  },
  {
   "cell_type": "code",
   "execution_count": null,
   "id": "1b820d27",
   "metadata": {},
   "outputs": [],
   "source": []
  },
  {
   "cell_type": "code",
   "execution_count": null,
   "id": "0df26692",
   "metadata": {},
   "outputs": [],
   "source": []
  },
  {
   "cell_type": "code",
   "execution_count": null,
   "id": "7ba06671",
   "metadata": {},
   "outputs": [],
   "source": []
  }
 ],
 "metadata": {
  "kernelspec": {
   "display_name": "Python 3 (ipykernel)",
   "language": "python",
   "name": "python3"
  },
  "language_info": {
   "codemirror_mode": {
    "name": "ipython",
    "version": 3
   },
   "file_extension": ".py",
   "mimetype": "text/x-python",
   "name": "python",
   "nbconvert_exporter": "python",
   "pygments_lexer": "ipython3",
   "version": "3.11.5"
  }
 },
 "nbformat": 4,
 "nbformat_minor": 5
}
