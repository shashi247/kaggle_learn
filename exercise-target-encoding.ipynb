{
 "cells": [
  {
   "cell_type": "markdown",
   "id": "02a82fa0",
   "metadata": {
    "papermill": {
     "duration": 0.004997,
     "end_time": "2025-05-05T09:13:08.323253",
     "exception": false,
     "start_time": "2025-05-05T09:13:08.318256",
     "status": "completed"
    },
    "tags": []
   },
   "source": [
    "**This notebook is an exercise in the [Feature Engineering](https://www.kaggle.com/learn/feature-engineering) course.  You can reference the tutorial at [this link](https://www.kaggle.com/ryanholbrook/target-encoding).**\n",
    "\n",
    "---\n"
   ]
  },
  {
   "cell_type": "markdown",
   "id": "82d54b05",
   "metadata": {
    "papermill": {
     "duration": 0.003727,
     "end_time": "2025-05-05T09:13:08.331241",
     "exception": false,
     "start_time": "2025-05-05T09:13:08.327514",
     "status": "completed"
    },
    "tags": []
   },
   "source": [
    "# Introduction #\n",
    "\n",
    "In this exercise, you'll apply target encoding to features in the [*Ames*](https://www.kaggle.com/c/house-prices-advanced-regression-techniques/data) dataset.\n",
    "\n",
    "Run this cell to set everything up!"
   ]
  },
  {
   "cell_type": "code",
   "execution_count": 1,
   "id": "af87e814",
   "metadata": {
    "execution": {
     "iopub.execute_input": "2025-05-05T09:13:08.340240Z",
     "iopub.status.busy": "2025-05-05T09:13:08.339932Z",
     "iopub.status.idle": "2025-05-05T09:13:13.174850Z",
     "shell.execute_reply": "2025-05-05T09:13:13.173959Z"
    },
    "papermill": {
     "duration": 4.841287,
     "end_time": "2025-05-05T09:13:13.176426",
     "exception": false,
     "start_time": "2025-05-05T09:13:08.335139",
     "status": "completed"
    },
    "tags": []
   },
   "outputs": [
    {
     "name": "stderr",
     "output_type": "stream",
     "text": [
      "/tmp/ipykernel_13/3788892820.py:16: MatplotlibDeprecationWarning: The seaborn styles shipped by Matplotlib are deprecated since 3.6, as they no longer correspond to the styles shipped by seaborn. However, they will remain available as 'seaborn-v0_8-<style>'. Alternatively, directly use the seaborn API instead.\n",
      "  plt.style.use(\"seaborn-whitegrid\")\n"
     ]
    }
   ],
   "source": [
    "# Setup feedback system\n",
    "from learntools.core import binder\n",
    "binder.bind(globals())\n",
    "from learntools.feature_engineering_new.ex6 import *\n",
    "\n",
    "import matplotlib.pyplot as plt\n",
    "import numpy as np\n",
    "import pandas as pd\n",
    "import seaborn as sns\n",
    "import warnings\n",
    "from category_encoders import MEstimateEncoder\n",
    "from sklearn.model_selection import cross_val_score\n",
    "from xgboost import XGBRegressor\n",
    "\n",
    "# Set Matplotlib defaults\n",
    "plt.style.use(\"seaborn-whitegrid\")\n",
    "plt.rc(\"figure\", autolayout=True)\n",
    "plt.rc(\n",
    "    \"axes\",\n",
    "    labelweight=\"bold\",\n",
    "    labelsize=\"large\",\n",
    "    titleweight=\"bold\",\n",
    "    titlesize=14,\n",
    "    titlepad=10,\n",
    ")\n",
    "warnings.filterwarnings('ignore')\n",
    "\n",
    "\n",
    "def score_dataset(X, y, model=XGBRegressor()):\n",
    "    # Label encoding for categoricals\n",
    "    for colname in X.select_dtypes([\"category\", \"object\"]):\n",
    "        X[colname], _ = X[colname].factorize()\n",
    "    # Metric for Housing competition is RMSLE (Root Mean Squared Log Error)\n",
    "    score = cross_val_score(\n",
    "        model, X, y, cv=5, scoring=\"neg_mean_squared_log_error\",\n",
    "    )\n",
    "    score = -1 * score.mean()\n",
    "    score = np.sqrt(score)\n",
    "    return score\n",
    "\n",
    "\n",
    "df = pd.read_csv(\"../input/fe-course-data/ames.csv\")"
   ]
  },
  {
   "cell_type": "markdown",
   "id": "64764f13",
   "metadata": {
    "papermill": {
     "duration": 0.003929,
     "end_time": "2025-05-05T09:13:13.184752",
     "exception": false,
     "start_time": "2025-05-05T09:13:13.180823",
     "status": "completed"
    },
    "tags": []
   },
   "source": [
    "-------------------------------------------------------------------------------\n",
    "\n",
    "First you'll need to choose which features you want to apply a target encoding to. Categorical features with a large number of categories are often good candidates. Run this cell to see how many categories each categorical feature in the *Ames* dataset has."
   ]
  },
  {
   "cell_type": "code",
   "execution_count": 2,
   "id": "5e2bab22",
   "metadata": {
    "execution": {
     "iopub.execute_input": "2025-05-05T09:13:13.194634Z",
     "iopub.status.busy": "2025-05-05T09:13:13.193830Z",
     "iopub.status.idle": "2025-05-05T09:13:13.217156Z",
     "shell.execute_reply": "2025-05-05T09:13:13.216294Z"
    },
    "papermill": {
     "duration": 0.029863,
     "end_time": "2025-05-05T09:13:13.218696",
     "exception": false,
     "start_time": "2025-05-05T09:13:13.188833",
     "status": "completed"
    },
    "tags": []
   },
   "outputs": [
    {
     "data": {
      "text/plain": [
       "MSSubClass       16\n",
       "MSZoning          7\n",
       "Street            2\n",
       "Alley             3\n",
       "LotShape          4\n",
       "LandContour       4\n",
       "Utilities         3\n",
       "LotConfig         5\n",
       "LandSlope         3\n",
       "Neighborhood     28\n",
       "Condition1        9\n",
       "Condition2        8\n",
       "BldgType          5\n",
       "HouseStyle        8\n",
       "OverallQual      10\n",
       "OverallCond       9\n",
       "RoofStyle         6\n",
       "RoofMatl          8\n",
       "Exterior1st      16\n",
       "Exterior2nd      17\n",
       "MasVnrType        4\n",
       "ExterQual         4\n",
       "ExterCond         5\n",
       "Foundation        6\n",
       "BsmtQual          6\n",
       "BsmtCond          6\n",
       "BsmtExposure      5\n",
       "BsmtFinType1      7\n",
       "BsmtFinType2      7\n",
       "Heating           6\n",
       "HeatingQC         5\n",
       "CentralAir        2\n",
       "Electrical        6\n",
       "KitchenQual       5\n",
       "Functional        8\n",
       "FireplaceQu       6\n",
       "GarageType        7\n",
       "GarageFinish      4\n",
       "GarageQual        6\n",
       "GarageCond        6\n",
       "PavedDrive        3\n",
       "PoolQC            5\n",
       "Fence             5\n",
       "MiscFeature       5\n",
       "SaleType         10\n",
       "SaleCondition     6\n",
       "dtype: int64"
      ]
     },
     "execution_count": 2,
     "metadata": {},
     "output_type": "execute_result"
    }
   ],
   "source": [
    "df.select_dtypes([\"object\"]).nunique()"
   ]
  },
  {
   "cell_type": "markdown",
   "id": "1ce6540d",
   "metadata": {
    "papermill": {
     "duration": 0.004086,
     "end_time": "2025-05-05T09:13:13.227192",
     "exception": false,
     "start_time": "2025-05-05T09:13:13.223106",
     "status": "completed"
    },
    "tags": []
   },
   "source": [
    "We talked about how the M-estimate encoding uses smoothing to improve estimates for rare categories. To see how many times a category occurs in the dataset, you can use the `value_counts` method. This cell shows the counts for `SaleType`, but you might want to consider others as well."
   ]
  },
  {
   "cell_type": "code",
   "execution_count": 3,
   "id": "89f29e49",
   "metadata": {
    "execution": {
     "iopub.execute_input": "2025-05-05T09:13:13.236557Z",
     "iopub.status.busy": "2025-05-05T09:13:13.236242Z",
     "iopub.status.idle": "2025-05-05T09:13:13.246306Z",
     "shell.execute_reply": "2025-05-05T09:13:13.245525Z"
    },
    "papermill": {
     "duration": 0.016232,
     "end_time": "2025-05-05T09:13:13.247595",
     "exception": false,
     "start_time": "2025-05-05T09:13:13.231363",
     "status": "completed"
    },
    "tags": []
   },
   "outputs": [
    {
     "data": {
      "text/plain": [
       "Neighborhood\n",
       "North_Ames                                 443\n",
       "College_Creek                              267\n",
       "Old_Town                                   239\n",
       "Edwards                                    194\n",
       "Somerset                                   182\n",
       "Northridge_Heights                         166\n",
       "Gilbert                                    165\n",
       "Sawyer                                     151\n",
       "Northwest_Ames                             131\n",
       "Sawyer_West                                125\n",
       "Mitchell                                   114\n",
       "Brookside                                  108\n",
       "Crawford                                   103\n",
       "Iowa_DOT_and_Rail_Road                      93\n",
       "Timberland                                  72\n",
       "Northridge                                  71\n",
       "Stone_Brook                                 51\n",
       "South_and_West_of_Iowa_State_University     48\n",
       "Clear_Creek                                 44\n",
       "Meadow_Village                              37\n",
       "Briardale                                   30\n",
       "Bloomington_Heights                         28\n",
       "Veenker                                     24\n",
       "Northpark_Villa                             23\n",
       "Blueste                                     10\n",
       "Greens                                       8\n",
       "Green_Hills                                  2\n",
       "Landmark                                     1\n",
       "Name: count, dtype: int64"
      ]
     },
     "execution_count": 3,
     "metadata": {},
     "output_type": "execute_result"
    }
   ],
   "source": [
    "df[\"Neighborhood\"].value_counts()"
   ]
  },
  {
   "cell_type": "markdown",
   "id": "3637fe32",
   "metadata": {
    "papermill": {
     "duration": 0.00445,
     "end_time": "2025-05-05T09:13:13.256913",
     "exception": false,
     "start_time": "2025-05-05T09:13:13.252463",
     "status": "completed"
    },
    "tags": []
   },
   "source": [
    "# 1) Choose Features for Encoding\n",
    "\n",
    "Which features did you identify for target encoding? After you've thought about your answer, run the next cell for some discussion."
   ]
  },
  {
   "cell_type": "code",
   "execution_count": 4,
   "id": "980d65a7",
   "metadata": {
    "execution": {
     "iopub.execute_input": "2025-05-05T09:13:13.267263Z",
     "iopub.status.busy": "2025-05-05T09:13:13.266586Z",
     "iopub.status.idle": "2025-05-05T09:13:13.273625Z",
     "shell.execute_reply": "2025-05-05T09:13:13.272880Z"
    },
    "papermill": {
     "duration": 0.013519,
     "end_time": "2025-05-05T09:13:13.274859",
     "exception": false,
     "start_time": "2025-05-05T09:13:13.261340",
     "status": "completed"
    },
    "tags": []
   },
   "outputs": [
    {
     "data": {
      "application/javascript": [
       "parent.postMessage({\"jupyterEvent\": \"custom.exercise_interaction\", \"data\": {\"outcomeType\": 1, \"valueTowardsCompletion\": 0.3333333333333333, \"interactionType\": 1, \"questionType\": 4, \"questionId\": \"1_Q1\", \"learnToolsVersion\": \"0.3.5\", \"failureMessage\": \"\", \"exceptionClass\": \"\", \"trace\": \"\"}}, \"*\")"
      ],
      "text/plain": [
       "<IPython.core.display.Javascript object>"
      ]
     },
     "metadata": {},
     "output_type": "display_data"
    },
    {
     "data": {
      "text/markdown": [
       "<span style=\"color:#33cc33\">Correct:</span> \n",
       "\n",
       " The `Neighborhood` feature looks promising. It has the most categories of any feature, and several categories are rare. Others that could be worth considering are `SaleType`, `MSSubClass`, `Exterior1st`, `Exterior2nd`. In fact, almost any of the nominal features would be worth trying because of the prevalence of rare categories."
      ],
      "text/plain": [
       "Correct: \n",
       "\n",
       " The `Neighborhood` feature looks promising. It has the most categories of any feature, and several categories are rare. Others that could be worth considering are `SaleType`, `MSSubClass`, `Exterior1st`, `Exterior2nd`. In fact, almost any of the nominal features would be worth trying because of the prevalence of rare categories."
      ]
     },
     "metadata": {},
     "output_type": "display_data"
    }
   ],
   "source": [
    "# View the solution (Run this cell to receive credit!)\n",
    "q_1.check()"
   ]
  },
  {
   "cell_type": "markdown",
   "id": "1b0678c2",
   "metadata": {
    "papermill": {
     "duration": 0.004393,
     "end_time": "2025-05-05T09:13:13.283955",
     "exception": false,
     "start_time": "2025-05-05T09:13:13.279562",
     "status": "completed"
    },
    "tags": []
   },
   "source": [
    "-------------------------------------------------------------------------------\n",
    "\n",
    "Now you'll apply a target encoding to your choice of feature. As we discussed in the tutorial, to avoid overfitting, we need to fit the encoder on data heldout from the training set. Run this cell to create the encoding and training splits:"
   ]
  },
  {
   "cell_type": "code",
   "execution_count": 5,
   "id": "73a5b433",
   "metadata": {
    "execution": {
     "iopub.execute_input": "2025-05-05T09:13:13.294418Z",
     "iopub.status.busy": "2025-05-05T09:13:13.293873Z",
     "iopub.status.idle": "2025-05-05T09:13:13.307232Z",
     "shell.execute_reply": "2025-05-05T09:13:13.306416Z"
    },
    "lines_to_next_cell": 2,
    "papermill": {
     "duration": 0.020243,
     "end_time": "2025-05-05T09:13:13.308684",
     "exception": false,
     "start_time": "2025-05-05T09:13:13.288441",
     "status": "completed"
    },
    "tags": []
   },
   "outputs": [],
   "source": [
    "# Encoding split\n",
    "X_encode = df.sample(frac=0.20, random_state=0)\n",
    "y_encode = X_encode.pop(\"SalePrice\")\n",
    "\n",
    "# Training split\n",
    "X_pretrain = df.drop(X_encode.index)\n",
    "y_train = X_pretrain.pop(\"SalePrice\")"
   ]
  },
  {
   "cell_type": "markdown",
   "id": "eada2072",
   "metadata": {
    "papermill": {
     "duration": 0.004535,
     "end_time": "2025-05-05T09:13:13.318031",
     "exception": false,
     "start_time": "2025-05-05T09:13:13.313496",
     "status": "completed"
    },
    "tags": []
   },
   "source": [
    "# 2) Apply M-Estimate Encoding\n",
    "\n",
    "Apply a target encoding to your choice of categorical features. Also choose a value for the smoothing parameter `m` (any value is okay for a correct answer)."
   ]
  },
  {
   "cell_type": "code",
   "execution_count": 6,
   "id": "ccc34eca",
   "metadata": {
    "execution": {
     "iopub.execute_input": "2025-05-05T09:13:13.329385Z",
     "iopub.status.busy": "2025-05-05T09:13:13.328438Z",
     "iopub.status.idle": "2025-05-05T09:13:13.391158Z",
     "shell.execute_reply": "2025-05-05T09:13:13.390379Z"
    },
    "lines_to_next_cell": 0,
    "papermill": {
     "duration": 0.069984,
     "end_time": "2025-05-05T09:13:13.392506",
     "exception": false,
     "start_time": "2025-05-05T09:13:13.322522",
     "status": "completed"
    },
    "tags": []
   },
   "outputs": [
    {
     "data": {
      "application/javascript": [
       "parent.postMessage({\"jupyterEvent\": \"custom.exercise_interaction\", \"data\": {\"outcomeType\": 1, \"valueTowardsCompletion\": 0.3333333333333333, \"interactionType\": 1, \"questionType\": 2, \"questionId\": \"2_Q2\", \"learnToolsVersion\": \"0.3.5\", \"failureMessage\": \"\", \"exceptionClass\": \"\", \"trace\": \"\"}}, \"*\")"
      ],
      "text/plain": [
       "<IPython.core.display.Javascript object>"
      ]
     },
     "metadata": {},
     "output_type": "display_data"
    },
    {
     "data": {
      "text/markdown": [
       "<span style=\"color:#33cc33\">Correct</span>"
      ],
      "text/plain": [
       "Correct"
      ]
     },
     "metadata": {},
     "output_type": "display_data"
    }
   ],
   "source": [
    "# YOUR CODE HERE: Create the MEstimateEncoder\n",
    "# Choose a set of features to encode and a value for m\n",
    "encoder = MEstimateEncoder(cols=[\"Neighborhood\"], m=5.0)\n",
    "\n",
    "\n",
    "# Fit the encoder on the encoding split\n",
    "encoder.fit(X_encode, y_encode)\n",
    "\n",
    "# Encode the training split\n",
    "X_train = encoder.transform(X_pretrain, y_train)\n",
    "\n",
    "\n",
    "# Check your answer\n",
    "q_2.check()"
   ]
  },
  {
   "cell_type": "code",
   "execution_count": 7,
   "id": "0e48e963",
   "metadata": {
    "execution": {
     "iopub.execute_input": "2025-05-05T09:13:13.403592Z",
     "iopub.status.busy": "2025-05-05T09:13:13.403262Z",
     "iopub.status.idle": "2025-05-05T09:13:13.407092Z",
     "shell.execute_reply": "2025-05-05T09:13:13.406176Z"
    },
    "lines_to_next_cell": 0,
    "papermill": {
     "duration": 0.011144,
     "end_time": "2025-05-05T09:13:13.408605",
     "exception": false,
     "start_time": "2025-05-05T09:13:13.397461",
     "status": "completed"
    },
    "tags": []
   },
   "outputs": [],
   "source": [
    "# Lines below will give you a hint or solution code\n",
    "#q_2.hint()\n",
    "#q_2.solution()"
   ]
  },
  {
   "cell_type": "markdown",
   "id": "1b94d73c",
   "metadata": {
    "papermill": {
     "duration": 0.004968,
     "end_time": "2025-05-05T09:13:13.418662",
     "exception": false,
     "start_time": "2025-05-05T09:13:13.413694",
     "status": "completed"
    },
    "tags": []
   },
   "source": [
    "If you'd like to see how the encoded feature compares to the target, you can run this cell:"
   ]
  },
  {
   "cell_type": "code",
   "execution_count": 8,
   "id": "67bd3790",
   "metadata": {
    "execution": {
     "iopub.execute_input": "2025-05-05T09:13:13.430873Z",
     "iopub.status.busy": "2025-05-05T09:13:13.430106Z",
     "iopub.status.idle": "2025-05-05T09:13:13.814818Z",
     "shell.execute_reply": "2025-05-05T09:13:13.813959Z"
    },
    "papermill": {
     "duration": 0.391966,
     "end_time": "2025-05-05T09:13:13.816192",
     "exception": false,
     "start_time": "2025-05-05T09:13:13.424226",
     "status": "completed"
    },
    "tags": []
   },
   "outputs": [
    {
     "data": {
      "image/png": "[encoded data removed]",
      "text/plain": [
       "<Figure size 576x432 with 1 Axes>"
      ]
     },
     "metadata": {},
     "output_type": "display_data"
    }
   ],
   "source": [
    "feature = encoder.cols\n",
    "\n",
    "plt.figure(dpi=90)\n",
    "ax = sns.distplot(y_train, kde=True, hist=False)\n",
    "ax = sns.distplot(X_train[feature], color='r', ax=ax, hist=True, kde=False, norm_hist=True)\n",
    "ax.set_xlabel(\"SalePrice\");"
   ]
  },
  {
   "cell_type": "markdown",
   "id": "93d5c12d",
   "metadata": {
    "papermill": {
     "duration": 0.004882,
     "end_time": "2025-05-05T09:13:13.826498",
     "exception": false,
     "start_time": "2025-05-05T09:13:13.821616",
     "status": "completed"
    },
    "tags": []
   },
   "source": [
    "From the distribution plots, does it seem like the encoding is informative?\n",
    "\n",
    "And this cell will show you the score of the encoded set compared to the original set:"
   ]
  },
  {
   "cell_type": "code",
   "execution_count": 9,
   "id": "e17f8c0b",
   "metadata": {
    "execution": {
     "iopub.execute_input": "2025-05-05T09:13:13.838465Z",
     "iopub.status.busy": "2025-05-05T09:13:13.837601Z",
     "iopub.status.idle": "2025-05-05T09:13:17.082697Z",
     "shell.execute_reply": "2025-05-05T09:13:17.082032Z"
    },
    "papermill": {
     "duration": 3.252496,
     "end_time": "2025-05-05T09:13:17.084132",
     "exception": false,
     "start_time": "2025-05-05T09:13:13.831636",
     "status": "completed"
    },
    "tags": []
   },
   "outputs": [
    {
     "name": "stdout",
     "output_type": "stream",
     "text": [
      "Baseline Score: 0.1434 RMSLE\n",
      "Score with Encoding: 0.1398 RMSLE\n"
     ]
    }
   ],
   "source": [
    "X = df.copy()\n",
    "y = X.pop(\"SalePrice\")\n",
    "score_base = score_dataset(X, y)\n",
    "score_new = score_dataset(X_train, y_train)\n",
    "\n",
    "print(f\"Baseline Score: {score_base:.4f} RMSLE\")\n",
    "print(f\"Score with Encoding: {score_new:.4f} RMSLE\")"
   ]
  },
  {
   "cell_type": "markdown",
   "id": "7bd01006",
   "metadata": {
    "papermill": {
     "duration": 0.005235,
     "end_time": "2025-05-05T09:13:17.096558",
     "exception": false,
     "start_time": "2025-05-05T09:13:17.091323",
     "status": "completed"
    },
    "tags": []
   },
   "source": [
    "Do you think that target encoding was worthwhile in this case? Depending on which feature or features you chose, you may have ended up with a score significantly worse than the baseline. In that case, it's likely the extra information gained by the encoding couldn't make up for the loss of data used for the encoding."
   ]
  },
  {
   "cell_type": "markdown",
   "id": "8295128e",
   "metadata": {
    "papermill": {
     "duration": 0.004902,
     "end_time": "2025-05-05T09:13:17.106545",
     "exception": false,
     "start_time": "2025-05-05T09:13:17.101643",
     "status": "completed"
    },
    "tags": []
   },
   "source": [
    "-------------------------------------------------------------------------------\n",
    "\n",
    "In this question, you'll explore the problem of overfitting with target encodings. This will illustrate this importance of training fitting target encoders on data held-out from the training set.\n",
    "\n",
    "So let's see what happens when we fit the encoder and the model on the *same* dataset. To emphasize how dramatic the overfitting can be, we'll mean-encode a feature that should have no relationship with `SalePrice`, a count: `0, 1, 2, 3, 4, 5, ...`."
   ]
  },
  {
   "cell_type": "code",
   "execution_count": 10,
   "id": "85def81b",
   "metadata": {
    "execution": {
     "iopub.execute_input": "2025-05-05T09:13:17.117916Z",
     "iopub.status.busy": "2025-05-05T09:13:17.117603Z",
     "iopub.status.idle": "2025-05-05T09:13:18.734013Z",
     "shell.execute_reply": "2025-05-05T09:13:18.732200Z"
    },
    "papermill": {
     "duration": 1.623844,
     "end_time": "2025-05-05T09:13:18.735378",
     "exception": false,
     "start_time": "2025-05-05T09:13:17.111534",
     "status": "completed"
    },
    "tags": []
   },
   "outputs": [
    {
     "name": "stdout",
     "output_type": "stream",
     "text": [
      "Score: 0.0375 RMSLE\n"
     ]
    }
   ],
   "source": [
    "# Try experimenting with the smoothing parameter m\n",
    "# Try 0, 1, 5, 50\n",
    "m = 0\n",
    "\n",
    "X = df.copy()\n",
    "y = X.pop('SalePrice')\n",
    "\n",
    "# Create an uninformative feature\n",
    "X[\"Count\"] = range(len(X))\n",
    "X[\"Count\"][1] = 0  # actually need one duplicate value to circumvent error-checking in MEstimateEncoder\n",
    "\n",
    "# fit and transform on the same dataset\n",
    "encoder = MEstimateEncoder(cols=\"Count\", m=m)\n",
    "X = encoder.fit_transform(X, y)\n",
    "\n",
    "# Results\n",
    "score =  score_dataset(X, y)\n",
    "print(f\"Score: {score:.4f} RMSLE\")"
   ]
  },
  {
   "cell_type": "markdown",
   "id": "53afb3a7",
   "metadata": {
    "papermill": {
     "duration": 0.00528,
     "end_time": "2025-05-05T09:13:18.746116",
     "exception": false,
     "start_time": "2025-05-05T09:13:18.740836",
     "status": "completed"
    },
    "tags": []
   },
   "source": [
    "Almost a perfect score!"
   ]
  },
  {
   "cell_type": "code",
   "execution_count": 11,
   "id": "e141adaf",
   "metadata": {
    "execution": {
     "iopub.execute_input": "2025-05-05T09:13:18.758119Z",
     "iopub.status.busy": "2025-05-05T09:13:18.757517Z",
     "iopub.status.idle": "2025-05-05T09:13:19.088019Z",
     "shell.execute_reply": "2025-05-05T09:13:19.087099Z"
    },
    "papermill": {
     "duration": 0.338201,
     "end_time": "2025-05-05T09:13:19.089524",
     "exception": false,
     "start_time": "2025-05-05T09:13:18.751323",
     "status": "completed"
    },
    "tags": []
   },
   "outputs": [
    {
     "data": {
      "image/png": "[encoded data removed]",
      "text/plain": [
       "<Figure size 576x432 with 1 Axes>"
      ]
     },
     "metadata": {},
     "output_type": "display_data"
    }
   ],
   "source": [
    "plt.figure(dpi=90)\n",
    "ax = sns.distplot(y, kde=True, hist=False)\n",
    "ax = sns.distplot(X[\"Count\"], color='r', ax=ax, hist=True, kde=False, norm_hist=True)\n",
    "ax.set_xlabel(\"SalePrice\");"
   ]
  },
  {
   "cell_type": "markdown",
   "id": "4d8aded8",
   "metadata": {
    "papermill": {
     "duration": 0.005464,
     "end_time": "2025-05-05T09:13:19.100893",
     "exception": false,
     "start_time": "2025-05-05T09:13:19.095429",
     "status": "completed"
    },
    "tags": []
   },
   "source": [
    "And the distributions are almost exactly the same, too.\n",
    "\n",
    "# 3) Overfitting with Target Encoders\n",
    "\n",
    "Based on your understanding of how mean-encoding works, can you explain how XGBoost was able to get an almost a perfect fit after mean-encoding the count feature?"
   ]
  },
  {
   "cell_type": "code",
   "execution_count": 12,
   "id": "41943e58",
   "metadata": {
    "execution": {
     "iopub.execute_input": "2025-05-05T09:13:19.113713Z",
     "iopub.status.busy": "2025-05-05T09:13:19.113011Z",
     "iopub.status.idle": "2025-05-05T09:13:19.119491Z",
     "shell.execute_reply": "2025-05-05T09:13:19.118690Z"
    },
    "lines_to_next_cell": 0,
    "papermill": {
     "duration": 0.014341,
     "end_time": "2025-05-05T09:13:19.120887",
     "exception": false,
     "start_time": "2025-05-05T09:13:19.106546",
     "status": "completed"
    },
    "tags": []
   },
   "outputs": [
    {
     "data": {
      "application/javascript": [
       "parent.postMessage({\"jupyterEvent\": \"custom.exercise_interaction\", \"data\": {\"outcomeType\": 1, \"valueTowardsCompletion\": 0.3333333333333333, \"interactionType\": 1, \"questionType\": 4, \"questionId\": \"3_Q3\", \"learnToolsVersion\": \"0.3.5\", \"failureMessage\": \"\", \"exceptionClass\": \"\", \"trace\": \"\"}}, \"*\")"
      ],
      "text/plain": [
       "<IPython.core.display.Javascript object>"
      ]
     },
     "metadata": {},
     "output_type": "display_data"
    },
    {
     "data": {
      "text/markdown": [
       "<span style=\"color:#33cc33\">Correct:</span> \n",
       "\n",
       "\n",
       "Since `Count` never has any duplicate values, the mean-encoded `Count` is essentially an exact copy of the target. In other words, mean-encoding turned a completely meaningless feature into a perfect feature.\n",
       "\n",
       "Now, the only reason this worked is because we trained XGBoost on the same set we used to train the encoder. If we had used a hold-out set instead, none of this \"fake\" encoding would have transferred to the training data.\n",
       "\n",
       "The lesson is that when using a target encoder it's very important to use separate data sets for training the encoder and training the model. Otherwise the results can be very disappointing!\n"
      ],
      "text/plain": [
       "Correct: \n",
       "\n",
       "\n",
       "Since `Count` never has any duplicate values, the mean-encoded `Count` is essentially an exact copy of the target. In other words, mean-encoding turned a completely meaningless feature into a perfect feature.\n",
       "\n",
       "Now, the only reason this worked is because we trained XGBoost on the same set we used to train the encoder. If we had used a hold-out set instead, none of this \"fake\" encoding would have transferred to the training data.\n",
       "\n",
       "The lesson is that when using a target encoder it's very important to use separate data sets for training the encoder and training the model. Otherwise the results can be very disappointing!"
      ]
     },
     "metadata": {},
     "output_type": "display_data"
    }
   ],
   "source": [
    "# View the solution (Run this cell to receive credit!)\n",
    "q_3.check()"
   ]
  },
  {
   "cell_type": "code",
   "execution_count": 13,
   "id": "b261d97d",
   "metadata": {
    "execution": {
     "iopub.execute_input": "2025-05-05T09:13:19.134150Z",
     "iopub.status.busy": "2025-05-05T09:13:19.133851Z",
     "iopub.status.idle": "2025-05-05T09:13:19.137847Z",
     "shell.execute_reply": "2025-05-05T09:13:19.137064Z"
    },
    "papermill": {
     "duration": 0.012231,
     "end_time": "2025-05-05T09:13:19.139210",
     "exception": false,
     "start_time": "2025-05-05T09:13:19.126979",
     "status": "completed"
    },
    "tags": []
   },
   "outputs": [],
   "source": [
    "# Uncomment this if you'd like a hint before seeing the answer\n",
    "#q_3.hint()"
   ]
  },
  {
   "cell_type": "markdown",
   "id": "ce913bce",
   "metadata": {
    "papermill": {
     "duration": 0.005488,
     "end_time": "2025-05-05T09:13:19.150580",
     "exception": false,
     "start_time": "2025-05-05T09:13:19.145092",
     "status": "completed"
    },
    "tags": []
   },
   "source": [
    "# The End #\n",
    "\n",
    "That's it for *Feature Engineering*! We hope you enjoyed your time with us.\n",
    "\n",
    "Now, are you ready to try out your new skills? Now would be a great time to join our [Housing Prices](https://www.kaggle.com/c/house-prices-advanced-regression-techniques) Getting Started competition. We've even prepared a [Bonus Lesson](https://www.kaggle.com/ryanholbrook/feature-engineering-for-house-prices) that collects all the work we've done together into a starter notebook.\n",
    "\n",
    "# References #\n",
    "Here are some great resources you might like to consult for more information. They all played a part in shaping this course:\n",
    "- *The Art of Feature Engineering*, a book by Pablo Duboue.\n",
    "- *An Empirical Analysis of Feature Engineering for Predictive Modeling*, an article by Jeff Heaton.\n",
    "- *Feature Engineering for Machine Learning*, a book by Alice Zheng and Amanda Casari. The tutorial on clustering was inspired by this excellent book.\n",
    "- *Feature Engineering and Selection*, a book by Max Kuhn and Kjell Johnson."
   ]
  },
  {
   "cell_type": "markdown",
   "id": "23c592c7",
   "metadata": {
    "papermill": {
     "duration": 0.005449,
     "end_time": "2025-05-05T09:13:19.161711",
     "exception": false,
     "start_time": "2025-05-05T09:13:19.156262",
     "status": "completed"
    },
    "tags": []
   },
   "source": [
    "---\n",
    "\n",
    "\n",
    "\n",
    "\n",
    "*Have questions or comments? Visit the [course discussion forum](https://www.kaggle.com/learn/feature-engineering/discussion) to chat with other learners.*"
   ]
  }
 ],
 "metadata": {
  "jupytext": {
   "cell_metadata_filter": "-all",
   "formats": "ipynb"
  },
  "kaggle": {
   "accelerator": "none",
   "dataSources": [
    {
     "datasetId": 933090,
     "sourceId": 1828856,
     "sourceType": "datasetVersion"
    }
   ],
   "isGpuEnabled": false,
   "isInternetEnabled": false,
   "language": "python",
   "sourceType": "notebook"
  },
  "kernelspec": {
   "display_name": "Python 3",
   "language": "python",
   "name": "python3"
  },
  "language_info": {
   "codemirror_mode": {
    "name": "ipython",
    "version": 3
   },
   "file_extension": ".py",
   "mimetype": "text/x-python",
   "name": "python",
   "nbconvert_exporter": "python",
   "pygments_lexer": "ipython3",
   "version": "3.11.11"
  },
  "papermill": {
   "default_parameters": {},
   "duration": 16.215553,
   "end_time": "2025-05-05T09:13:19.886714",
   "environment_variables": {},
   "exception": null,
   "input_path": "__notebook__.ipynb",
   "output_path": "__notebook__.ipynb",
   "parameters": {},
   "start_time": "2025-05-05T09:13:03.671161",
   "version": "2.6.0"
  }
 },
 "nbformat": 4,
 "nbformat_minor": 5
}
