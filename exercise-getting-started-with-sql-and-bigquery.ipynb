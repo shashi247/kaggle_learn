{
 "cells": [
  {
   "cell_type": "markdown",
   "id": "b9ec9731",
   "metadata": {
    "papermill": {
     "duration": 0.005699,
     "end_time": "2025-05-07T16:37:40.624643",
     "exception": false,
     "start_time": "2025-05-07T16:37:40.618944",
     "status": "completed"
    },
    "tags": []
   },
   "source": [
    "**This notebook is an exercise in the [SQL](https://www.kaggle.com/learn/intro-to-sql) course.  You can reference the tutorial at [this link](https://www.kaggle.com/dansbecker/getting-started-with-sql-and-bigquery).**\n",
    "\n",
    "---\n"
   ]
  },
  {
   "cell_type": "markdown",
   "id": "c8d579c4",
   "metadata": {
    "papermill": {
     "duration": 0.003536,
     "end_time": "2025-05-07T16:37:40.632259",
     "exception": false,
     "start_time": "2025-05-07T16:37:40.628723",
     "status": "completed"
    },
    "tags": []
   },
   "source": [
    "# Introduction\n",
    "\n",
    "The first test of your new data exploration skills uses data describing crime in the city of Chicago.\n",
    "\n",
    "Before you get started, run the following cell. It sets up the automated feedback system to review your answers."
   ]
  },
  {
   "cell_type": "code",
   "execution_count": 1,
   "id": "f6c97bea",
   "metadata": {
    "execution": {
     "iopub.execute_input": "2025-05-07T16:37:40.641790Z",
     "iopub.status.busy": "2025-05-07T16:37:40.640830Z",
     "iopub.status.idle": "2025-05-07T16:38:00.011020Z",
     "shell.execute_reply": "2025-05-07T16:38:00.009826Z"
    },
    "papermill": {
     "duration": 19.376672,
     "end_time": "2025-05-07T16:38:00.012845",
     "exception": false,
     "start_time": "2025-05-07T16:37:40.636173",
     "status": "completed"
    },
    "tags": []
   },
   "outputs": [
    {
     "name": "stderr",
     "output_type": "stream",
     "text": [
      "/usr/local/lib/python3.11/dist-packages/learntools/sql/ex1.py:64: SyntaxWarning: assertion is always true, perhaps remove parentheses?\n",
      "  assert (type(fields_for_plotting[0] == str), \"The first item in `fields_for_plotting` should be a string.\")\n",
      "/usr/local/lib/python3.11/dist-packages/learntools/sql/ex1.py:65: SyntaxWarning: assertion is always true, perhaps remove parentheses?\n",
      "  assert (type(fields_for_plotting[1] == str), \"The second item in `fields_for_plotting` should be a string.\")\n"
     ]
    },
    {
     "name": "stdout",
     "output_type": "stream",
     "text": [
      "Using Kaggle's public dataset BigQuery integration.\n",
      "Setup Complete\n"
     ]
    }
   ],
   "source": [
    "# Set up feedack system\n",
    "from learntools.core import binder\n",
    "binder.bind(globals())\n",
    "from learntools.sql.ex1 import *\n",
    "print(\"Setup Complete\")"
   ]
  },
  {
   "cell_type": "markdown",
   "id": "a04010f6",
   "metadata": {
    "papermill": {
     "duration": 0.003761,
     "end_time": "2025-05-07T16:38:00.020982",
     "exception": false,
     "start_time": "2025-05-07T16:38:00.017221",
     "status": "completed"
    },
    "tags": []
   },
   "source": [
    "Use the next code cell to fetch the dataset."
   ]
  },
  {
   "cell_type": "code",
   "execution_count": 2,
   "id": "5a3bc393",
   "metadata": {
    "execution": {
     "iopub.execute_input": "2025-05-07T16:38:00.031193Z",
     "iopub.status.busy": "2025-05-07T16:38:00.030680Z",
     "iopub.status.idle": "2025-05-07T16:38:00.425430Z",
     "shell.execute_reply": "2025-05-07T16:38:00.424487Z"
    },
    "papermill": {
     "duration": 0.402345,
     "end_time": "2025-05-07T16:38:00.427186",
     "exception": false,
     "start_time": "2025-05-07T16:38:00.024841",
     "status": "completed"
    },
    "tags": []
   },
   "outputs": [
    {
     "name": "stdout",
     "output_type": "stream",
     "text": [
      "Using Kaggle's public dataset BigQuery integration.\n"
     ]
    }
   ],
   "source": [
    "from google.cloud import bigquery\n",
    "\n",
    "# Create a \"Client\" object\n",
    "client = bigquery.Client()\n",
    "\n",
    "# Construct a reference to the \"chicago_crime\" dataset\n",
    "dataset_ref = client.dataset(\"chicago_crime\", project=\"bigquery-public-data\")\n",
    "\n",
    "# API request - fetch the dataset\n",
    "dataset = client.get_dataset(dataset_ref)"
   ]
  },
  {
   "cell_type": "markdown",
   "id": "e6734562",
   "metadata": {
    "papermill": {
     "duration": 0.003732,
     "end_time": "2025-05-07T16:38:00.435123",
     "exception": false,
     "start_time": "2025-05-07T16:38:00.431391",
     "status": "completed"
    },
    "tags": []
   },
   "source": [
    "# Exercises\n",
    "\n",
    "### 1) Count tables in the dataset\n",
    "\n",
    "How many tables are in the Chicago Crime dataset?"
   ]
  },
  {
   "cell_type": "code",
   "execution_count": 3,
   "id": "437286d0",
   "metadata": {
    "execution": {
     "iopub.execute_input": "2025-05-07T16:38:00.444721Z",
     "iopub.status.busy": "2025-05-07T16:38:00.444420Z",
     "iopub.status.idle": "2025-05-07T16:38:00.841602Z",
     "shell.execute_reply": "2025-05-07T16:38:00.840445Z"
    },
    "papermill": {
     "duration": 0.404376,
     "end_time": "2025-05-07T16:38:00.843714",
     "exception": false,
     "start_time": "2025-05-07T16:38:00.439338",
     "status": "completed"
    },
    "tags": []
   },
   "outputs": [],
   "source": [
    "# Write the code you need here to figure out the answer\n",
    "tables = list(client.list_tables(dataset))"
   ]
  },
  {
   "cell_type": "code",
   "execution_count": 4,
   "id": "296fe6e9",
   "metadata": {
    "execution": {
     "iopub.execute_input": "2025-05-07T16:38:00.853701Z",
     "iopub.status.busy": "2025-05-07T16:38:00.852834Z",
     "iopub.status.idle": "2025-05-07T16:38:00.861343Z",
     "shell.execute_reply": "2025-05-07T16:38:00.860458Z"
    },
    "papermill": {
     "duration": 0.015078,
     "end_time": "2025-05-07T16:38:00.862903",
     "exception": false,
     "start_time": "2025-05-07T16:38:00.847825",
     "status": "completed"
    },
    "tags": []
   },
   "outputs": [
    {
     "data": {
      "application/javascript": [
       "parent.postMessage({\"jupyterEvent\": \"custom.exercise_interaction\", \"data\": {\"outcomeType\": 1, \"valueTowardsCompletion\": 0.3333333333333333, \"interactionType\": 1, \"questionType\": 1, \"questionId\": \"1_CountTables\", \"learnToolsVersion\": \"0.3.5\", \"failureMessage\": \"\", \"exceptionClass\": \"\", \"trace\": \"\"}}, \"*\")"
      ],
      "text/plain": [
       "<IPython.core.display.Javascript object>"
      ]
     },
     "metadata": {},
     "output_type": "display_data"
    },
    {
     "data": {
      "text/markdown": [
       "<span style=\"color:#33cc33\">Correct</span>"
      ],
      "text/plain": [
       "Correct"
      ]
     },
     "metadata": {},
     "output_type": "display_data"
    }
   ],
   "source": [
    "num_tables = len(tables)  # Store the answer as num_tables and then run this cell\n",
    "\n",
    "# Check your answer\n",
    "q_1.check()"
   ]
  },
  {
   "cell_type": "markdown",
   "id": "39180f03",
   "metadata": {
    "papermill": {
     "duration": 0.003857,
     "end_time": "2025-05-07T16:38:00.871210",
     "exception": false,
     "start_time": "2025-05-07T16:38:00.867353",
     "status": "completed"
    },
    "tags": []
   },
   "source": [
    "For a hint or the solution, uncomment the appropriate line below."
   ]
  },
  {
   "cell_type": "code",
   "execution_count": 5,
   "id": "7ccfd507",
   "metadata": {
    "execution": {
     "iopub.execute_input": "2025-05-07T16:38:00.881077Z",
     "iopub.status.busy": "2025-05-07T16:38:00.880580Z",
     "iopub.status.idle": "2025-05-07T16:38:00.885190Z",
     "shell.execute_reply": "2025-05-07T16:38:00.884177Z"
    },
    "papermill": {
     "duration": 0.011401,
     "end_time": "2025-05-07T16:38:00.886674",
     "exception": false,
     "start_time": "2025-05-07T16:38:00.875273",
     "status": "completed"
    },
    "tags": []
   },
   "outputs": [],
   "source": [
    "#q_1.hint()\n",
    "# q_1.solution()"
   ]
  },
  {
   "cell_type": "markdown",
   "id": "f2291036",
   "metadata": {
    "papermill": {
     "duration": 0.003967,
     "end_time": "2025-05-07T16:38:00.895204",
     "exception": false,
     "start_time": "2025-05-07T16:38:00.891237",
     "status": "completed"
    },
    "tags": []
   },
   "source": [
    "### 2) Explore the table schema\n",
    "\n",
    "How many columns in the `crime` table have `TIMESTAMP` data?"
   ]
  },
  {
   "cell_type": "code",
   "execution_count": 6,
   "id": "1a45a7d8",
   "metadata": {
    "execution": {
     "iopub.execute_input": "2025-05-07T16:38:00.904614Z",
     "iopub.status.busy": "2025-05-07T16:38:00.904265Z",
     "iopub.status.idle": "2025-05-07T16:38:01.387152Z",
     "shell.execute_reply": "2025-05-07T16:38:01.385995Z"
    },
    "papermill": {
     "duration": 0.48937,
     "end_time": "2025-05-07T16:38:01.388613",
     "exception": false,
     "start_time": "2025-05-07T16:38:00.899243",
     "status": "completed"
    },
    "tags": []
   },
   "outputs": [
    {
     "name": "stdout",
     "output_type": "stream",
     "text": [
      "[SchemaField('unique_key', 'INTEGER', 'REQUIRED', None, None, (), None), SchemaField('case_number', 'STRING', 'NULLABLE', None, None, (), None), SchemaField('date', 'TIMESTAMP', 'NULLABLE', None, None, (), None), SchemaField('block', 'STRING', 'NULLABLE', None, None, (), None), SchemaField('iucr', 'STRING', 'NULLABLE', None, None, (), None), SchemaField('primary_type', 'STRING', 'NULLABLE', None, None, (), None), SchemaField('description', 'STRING', 'NULLABLE', None, None, (), None), SchemaField('location_description', 'STRING', 'NULLABLE', None, None, (), None), SchemaField('arrest', 'BOOLEAN', 'NULLABLE', None, None, (), None), SchemaField('domestic', 'BOOLEAN', 'NULLABLE', None, None, (), None), SchemaField('beat', 'INTEGER', 'NULLABLE', None, None, (), None), SchemaField('district', 'INTEGER', 'NULLABLE', None, None, (), None), SchemaField('ward', 'INTEGER', 'NULLABLE', None, None, (), None), SchemaField('community_area', 'INTEGER', 'NULLABLE', None, None, (), None), SchemaField('fbi_code', 'STRING', 'NULLABLE', None, None, (), None), SchemaField('x_coordinate', 'FLOAT', 'NULLABLE', None, None, (), None), SchemaField('y_coordinate', 'FLOAT', 'NULLABLE', None, None, (), None), SchemaField('year', 'INTEGER', 'NULLABLE', None, None, (), None), SchemaField('updated_on', 'TIMESTAMP', 'NULLABLE', None, None, (), None), SchemaField('latitude', 'FLOAT', 'NULLABLE', None, None, (), None), SchemaField('longitude', 'FLOAT', 'NULLABLE', None, None, (), None), SchemaField('location', 'STRING', 'NULLABLE', None, None, (), None)]\n"
     ]
    }
   ],
   "source": [
    "# Write the code to figure out the answer\n",
    "table_ref = dataset_ref.table(\"crime\")\n",
    "table = client.get_table(table_ref)\n",
    "print(table.schema)\n"
   ]
  },
  {
   "cell_type": "code",
   "execution_count": 7,
   "id": "ec6193d2",
   "metadata": {
    "execution": {
     "iopub.execute_input": "2025-05-07T16:38:01.398487Z",
     "iopub.status.busy": "2025-05-07T16:38:01.398188Z",
     "iopub.status.idle": "2025-05-07T16:38:01.405711Z",
     "shell.execute_reply": "2025-05-07T16:38:01.404791Z"
    },
    "papermill": {
     "duration": 0.014148,
     "end_time": "2025-05-07T16:38:01.407167",
     "exception": false,
     "start_time": "2025-05-07T16:38:01.393019",
     "status": "completed"
    },
    "tags": []
   },
   "outputs": [
    {
     "data": {
      "application/javascript": [
       "parent.postMessage({\"jupyterEvent\": \"custom.exercise_interaction\", \"data\": {\"outcomeType\": 1, \"valueTowardsCompletion\": 0.3333333333333333, \"interactionType\": 1, \"questionType\": 1, \"questionId\": \"2_CountTimestampFields\", \"learnToolsVersion\": \"0.3.5\", \"failureMessage\": \"\", \"exceptionClass\": \"\", \"trace\": \"\"}}, \"*\")"
      ],
      "text/plain": [
       "<IPython.core.display.Javascript object>"
      ]
     },
     "metadata": {},
     "output_type": "display_data"
    },
    {
     "data": {
      "text/markdown": [
       "<span style=\"color:#33cc33\">Correct</span>"
      ],
      "text/plain": [
       "Correct"
      ]
     },
     "metadata": {},
     "output_type": "display_data"
    }
   ],
   "source": [
    "num_timestamp_fields = 2 # Put your answer here\n",
    "\n",
    "# Check your answer\n",
    "q_2.check()"
   ]
  },
  {
   "cell_type": "markdown",
   "id": "adf0fbd6",
   "metadata": {
    "papermill": {
     "duration": 0.004192,
     "end_time": "2025-05-07T16:38:01.416038",
     "exception": false,
     "start_time": "2025-05-07T16:38:01.411846",
     "status": "completed"
    },
    "tags": []
   },
   "source": [
    "For a hint or the solution, uncomment the appropriate line below."
   ]
  },
  {
   "cell_type": "code",
   "execution_count": 8,
   "id": "fb4b0175",
   "metadata": {
    "execution": {
     "iopub.execute_input": "2025-05-07T16:38:01.426070Z",
     "iopub.status.busy": "2025-05-07T16:38:01.425737Z",
     "iopub.status.idle": "2025-05-07T16:38:01.432874Z",
     "shell.execute_reply": "2025-05-07T16:38:01.431998Z"
    },
    "papermill": {
     "duration": 0.014228,
     "end_time": "2025-05-07T16:38:01.434553",
     "exception": false,
     "start_time": "2025-05-07T16:38:01.420325",
     "status": "completed"
    },
    "tags": []
   },
   "outputs": [
    {
     "data": {
      "application/javascript": [
       "parent.postMessage({\"jupyterEvent\": \"custom.exercise_interaction\", \"data\": {\"interactionType\": 3, \"questionType\": 1, \"questionId\": \"2_CountTimestampFields\", \"learnToolsVersion\": \"0.3.5\", \"valueTowardsCompletion\": 0.0, \"failureMessage\": \"\", \"exceptionClass\": \"\", \"trace\": \"\", \"outcomeType\": 4}}, \"*\")"
      ],
      "text/plain": [
       "<IPython.core.display.Javascript object>"
      ]
     },
     "metadata": {},
     "output_type": "display_data"
    },
    {
     "data": {
      "text/markdown": [
       "<span style=\"color:#33cc99\">Solution:</span> \n",
       "```python\n",
       "\n",
       "# Construct a reference to the \"crime\" table\n",
       "table_ref = dataset_ref.table(\"crime\")\n",
       "\n",
       "# API request - fetch the table\n",
       "table = client.get_table(table_ref)\n",
       "\n",
       "# Print information on all the columns in the \"crime\" table in the \"chicago_crime\" dataset\n",
       "print(table.schema)\n",
       "\n",
       "num_timestamp_fields = 2\n",
       "\n",
       "```"
      ],
      "text/plain": [
       "Solution: \n",
       "```python\n",
       "\n",
       "# Construct a reference to the \"crime\" table\n",
       "table_ref = dataset_ref.table(\"crime\")\n",
       "\n",
       "# API request - fetch the table\n",
       "table = client.get_table(table_ref)\n",
       "\n",
       "# Print information on all the columns in the \"crime\" table in the \"chicago_crime\" dataset\n",
       "print(table.schema)\n",
       "\n",
       "num_timestamp_fields = 2\n",
       "\n",
       "```"
      ]
     },
     "metadata": {},
     "output_type": "display_data"
    }
   ],
   "source": [
    "#q_2.hint()\n",
    "q_2.solution()"
   ]
  },
  {
   "cell_type": "markdown",
   "id": "707eb2a9",
   "metadata": {
    "papermill": {
     "duration": 0.004253,
     "end_time": "2025-05-07T16:38:01.443991",
     "exception": false,
     "start_time": "2025-05-07T16:38:01.439738",
     "status": "completed"
    },
    "tags": []
   },
   "source": [
    "### 3) Create a crime map\n",
    "\n",
    "If you wanted to create a map with a dot at the location of each crime, what are the names of the two fields you likely need to pull out of the `crime` table to plot the crimes on a map?"
   ]
  },
  {
   "cell_type": "code",
   "execution_count": 9,
   "id": "870f057f",
   "metadata": {
    "execution": {
     "iopub.execute_input": "2025-05-07T16:38:01.454397Z",
     "iopub.status.busy": "2025-05-07T16:38:01.453813Z",
     "iopub.status.idle": "2025-05-07T16:38:01.458004Z",
     "shell.execute_reply": "2025-05-07T16:38:01.457103Z"
    },
    "papermill": {
     "duration": 0.011044,
     "end_time": "2025-05-07T16:38:01.459453",
     "exception": false,
     "start_time": "2025-05-07T16:38:01.448409",
     "status": "completed"
    },
    "tags": []
   },
   "outputs": [],
   "source": [
    "# Write the code here to explore the data so you can find the answer"
   ]
  },
  {
   "cell_type": "code",
   "execution_count": 10,
   "id": "ab74e327",
   "metadata": {
    "execution": {
     "iopub.execute_input": "2025-05-07T16:38:01.470752Z",
     "iopub.status.busy": "2025-05-07T16:38:01.469966Z",
     "iopub.status.idle": "2025-05-07T16:38:01.477498Z",
     "shell.execute_reply": "2025-05-07T16:38:01.476557Z"
    },
    "papermill": {
     "duration": 0.014754,
     "end_time": "2025-05-07T16:38:01.479081",
     "exception": false,
     "start_time": "2025-05-07T16:38:01.464327",
     "status": "completed"
    },
    "tags": []
   },
   "outputs": [
    {
     "data": {
      "application/javascript": [
       "parent.postMessage({\"jupyterEvent\": \"custom.exercise_interaction\", \"data\": {\"outcomeType\": 1, \"valueTowardsCompletion\": 0.3333333333333333, \"interactionType\": 1, \"questionType\": 2, \"questionId\": \"3_IdentifyFieldsForPlotting\", \"learnToolsVersion\": \"0.3.5\", \"failureMessage\": \"\", \"exceptionClass\": \"\", \"trace\": \"\"}}, \"*\")"
      ],
      "text/plain": [
       "<IPython.core.display.Javascript object>"
      ]
     },
     "metadata": {},
     "output_type": "display_data"
    },
    {
     "data": {
      "text/markdown": [
       "<span style=\"color:#33cc33\">Correct</span>"
      ],
      "text/plain": [
       "Correct"
      ]
     },
     "metadata": {},
     "output_type": "display_data"
    }
   ],
   "source": [
    "fields_for_plotting = ['latitude', 'longitude'] # Put your answers here\n",
    "\n",
    "# Check your answer\n",
    "q_3.check()"
   ]
  },
  {
   "cell_type": "markdown",
   "id": "c61f1c04",
   "metadata": {
    "papermill": {
     "duration": 0.005057,
     "end_time": "2025-05-07T16:38:01.489070",
     "exception": false,
     "start_time": "2025-05-07T16:38:01.484013",
     "status": "completed"
    },
    "tags": []
   },
   "source": [
    "For a hint or the solution, uncomment the appropriate line below."
   ]
  },
  {
   "cell_type": "code",
   "execution_count": 11,
   "id": "2924c17f",
   "metadata": {
    "execution": {
     "iopub.execute_input": "2025-05-07T16:38:01.499954Z",
     "iopub.status.busy": "2025-05-07T16:38:01.499623Z",
     "iopub.status.idle": "2025-05-07T16:38:01.503982Z",
     "shell.execute_reply": "2025-05-07T16:38:01.502905Z"
    },
    "papermill": {
     "duration": 0.01167,
     "end_time": "2025-05-07T16:38:01.505612",
     "exception": false,
     "start_time": "2025-05-07T16:38:01.493942",
     "status": "completed"
    },
    "tags": []
   },
   "outputs": [],
   "source": [
    "#q_3.hint()\n",
    "# q_3.solution()"
   ]
  },
  {
   "cell_type": "markdown",
   "id": "86b5f787",
   "metadata": {
    "papermill": {
     "duration": 0.004715,
     "end_time": "2025-05-07T16:38:01.515228",
     "exception": false,
     "start_time": "2025-05-07T16:38:01.510513",
     "status": "completed"
    },
    "tags": []
   },
   "source": [
    "Thinking about the question above, there are a few columns that appear to have geographic data. Look at a few values (with the `list_rows()` command) to see if you can determine their relationship.  Two columns will still be hard to interpret. But it should be obvious how the `location` column relates to `latitude` and `longitude`."
   ]
  },
  {
   "cell_type": "code",
   "execution_count": 12,
   "id": "2a5e1558",
   "metadata": {
    "execution": {
     "iopub.execute_input": "2025-05-07T16:38:01.526872Z",
     "iopub.status.busy": "2025-05-07T16:38:01.526539Z",
     "iopub.status.idle": "2025-05-07T16:38:01.530824Z",
     "shell.execute_reply": "2025-05-07T16:38:01.529852Z"
    },
    "papermill": {
     "duration": 0.011781,
     "end_time": "2025-05-07T16:38:01.532406",
     "exception": false,
     "start_time": "2025-05-07T16:38:01.520625",
     "status": "completed"
    },
    "tags": []
   },
   "outputs": [],
   "source": [
    "# Scratch space for your code"
   ]
  },
  {
   "cell_type": "markdown",
   "id": "bcec148d",
   "metadata": {
    "papermill": {
     "duration": 0.004801,
     "end_time": "2025-05-07T16:38:01.542217",
     "exception": false,
     "start_time": "2025-05-07T16:38:01.537416",
     "status": "completed"
    },
    "tags": []
   },
   "source": [
    "# Keep going\n",
    "\n",
    "You've looked at the schema, but you haven't yet done anything exciting with the data itself. Things get more interesting when you get to the data, so keep going to **[write your first SQL query](https://www.kaggle.com/dansbecker/select-from-where).**"
   ]
  },
  {
   "cell_type": "markdown",
   "id": "bcd29da0",
   "metadata": {
    "papermill": {
     "duration": 0.004638,
     "end_time": "2025-05-07T16:38:01.551838",
     "exception": false,
     "start_time": "2025-05-07T16:38:01.547200",
     "status": "completed"
    },
    "tags": []
   },
   "source": [
    "---\n",
    "\n",
    "\n",
    "\n",
    "\n",
    "*Have questions or comments? Visit the [course discussion forum](https://www.kaggle.com/learn/intro-to-sql/discussion) to chat with other learners.*"
   ]
  }
 ],
 "metadata": {
  "kaggle": {
   "accelerator": "none",
   "dataSources": [
    {
     "datasetId": 22090,
     "sourceId": 28376,
     "sourceType": "datasetVersion"
    },
    {
     "datasetId": 6057,
     "sourceId": 285982,
     "sourceType": "datasetVersion"
    }
   ],
   "isGpuEnabled": false,
   "isInternetEnabled": false,
   "language": "python",
   "sourceType": "notebook"
  },
  "kernelspec": {
   "display_name": "Python 3",
   "language": "python",
   "name": "python3"
  },
  "language_info": {
   "codemirror_mode": {
    "name": "ipython",
    "version": 3
   },
   "file_extension": ".py",
   "mimetype": "text/x-python",
   "name": "python",
   "nbconvert_exporter": "python",
   "pygments_lexer": "ipython3",
   "version": "3.11.11"
  },
  "papermill": {
   "default_parameters": {},
   "duration": 29.121922,
   "end_time": "2025-05-07T16:38:04.991476",
   "environment_variables": {},
   "exception": null,
   "input_path": "__notebook__.ipynb",
   "output_path": "__notebook__.ipynb",
   "parameters": {},
   "start_time": "2025-05-07T16:37:35.869554",
   "version": "2.6.0"
  }
 },
 "nbformat": 4,
 "nbformat_minor": 5
}
