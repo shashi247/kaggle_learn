{
 "cells": [
  {
   "cell_type": "markdown",
   "id": "a05d2803",
   "metadata": {
    "papermill": {
     "duration": 0.004369,
     "end_time": "2025-06-04T05:06:12.232436",
     "exception": false,
     "start_time": "2025-06-04T05:06:12.228067",
     "status": "completed"
    },
    "tags": []
   },
   "source": [
    "**This notebook is an exercise in the [Advanced SQL](https://www.kaggle.com/learn/advanced-sql) course.  You can reference the tutorial at [this link](https://www.kaggle.com/alexisbcook/analytic-functions).**\n",
    "\n",
    "---\n"
   ]
  },
  {
   "cell_type": "markdown",
   "id": "6e93743b",
   "metadata": {
    "papermill": {
     "duration": 0.003709,
     "end_time": "2025-06-04T05:06:12.240979",
     "exception": false,
     "start_time": "2025-06-04T05:06:12.237270",
     "status": "completed"
    },
    "tags": []
   },
   "source": [
    "# Introduction\n",
    "\n",
    "Here, you'll use window functions to answer questions about the [Chicago Taxi Trips](https://www.kaggle.com/chicago/chicago-taxi-trips-bq) dataset.\n",
    "\n",
    "Before you get started, run the code cell below to set everything up."
   ]
  },
  {
   "cell_type": "code",
   "execution_count": 1,
   "id": "3e41e383",
   "metadata": {
    "execution": {
     "iopub.execute_input": "2025-06-04T05:06:12.250284Z",
     "iopub.status.busy": "2025-06-04T05:06:12.249878Z",
     "iopub.status.idle": "2025-06-04T05:07:12.382595Z",
     "shell.execute_reply": "2025-06-04T05:07:12.381198Z"
    },
    "papermill": {
     "duration": 60.140262,
     "end_time": "2025-06-04T05:07:12.385002",
     "exception": false,
     "start_time": "2025-06-04T05:06:12.244740",
     "status": "completed"
    },
    "tags": []
   },
   "outputs": [
    {
     "name": "stdout",
     "output_type": "stream",
     "text": [
      "Collecting git+https://github.com/Kaggle/learntools.git\r\n",
      "  Cloning https://github.com/Kaggle/learntools.git to /tmp/pip-req-build-kciqme0s\r\n",
      "  Running command git clone --filter=blob:none --quiet https://github.com/Kaggle/learntools.git /tmp/pip-req-build-kciqme0s\r\n",
      "  Resolved https://github.com/Kaggle/learntools.git to commit 003526b6ef9d864326e2a099599de3380b4cc94c\r\n",
      "  Preparing metadata (setup.py) ... \u001b[?25l\u001b[?25hdone\r\n",
      "Building wheels for collected packages: learntools\r\n",
      "  Building wheel for learntools (setup.py) ... \u001b[?25l\u001b[?25hdone\r\n",
      "  Created wheel for learntools: filename=learntools-0.3.5-py3-none-any.whl size=269665 sha256=8bed2ca78ff2fb9f001ca5e5ddef485dc1f5d3485b389661b43f3b333acfa9c6\r\n",
      "  Stored in directory: /tmp/pip-ephem-wheel-cache-9o53h39h/wheels/50/16/ba/3e0ec276f3238de9e1c59751f34c7c3ea4a3f561af10c4fd0c\r\n",
      "Successfully built learntools\r\n",
      "Installing collected packages: learntools\r\n",
      "Successfully installed learntools-0.3.5\r\n",
      "Using Kaggle's public dataset BigQuery integration.\n"
     ]
    },
    {
     "name": "stderr",
     "output_type": "stream",
     "text": [
      "/usr/local/lib/python3.11/dist-packages/google/cloud/bigquery/table.py:1727: UserWarning: BigQuery Storage module not found, fetch data with the REST endpoint instead.\n",
      "  warnings.warn(\n"
     ]
    },
    {
     "name": "stdout",
     "output_type": "stream",
     "text": [
      "Setup Complete\n"
     ]
    }
   ],
   "source": [
    "# Get most recent checking code\n",
    "!pip install -U -t /kaggle/working/ git+https://github.com/Kaggle/learntools.git\n",
    "# Set up feedback system\n",
    "from learntools.core import binder\n",
    "binder.bind(globals())\n",
    "from learntools.sql_advanced.ex2 import *\n",
    "print(\"Setup Complete\")"
   ]
  },
  {
   "cell_type": "markdown",
   "id": "7fc341bb",
   "metadata": {
    "papermill": {
     "duration": 0.004201,
     "end_time": "2025-06-04T05:07:12.393866",
     "exception": false,
     "start_time": "2025-06-04T05:07:12.389665",
     "status": "completed"
    },
    "tags": []
   },
   "source": [
    "The following code cell fetches the `taxi_trips` table from the `chicago_taxi_trips` dataset. We also preview the first five rows of the table.  You'll use the table to answer the questions below."
   ]
  },
  {
   "cell_type": "code",
   "execution_count": 2,
   "id": "bf91c7d0",
   "metadata": {
    "execution": {
     "iopub.execute_input": "2025-06-04T05:07:12.404869Z",
     "iopub.status.busy": "2025-06-04T05:07:12.404100Z",
     "iopub.status.idle": "2025-06-04T05:07:13.863557Z",
     "shell.execute_reply": "2025-06-04T05:07:13.862084Z"
    },
    "papermill": {
     "duration": 1.467313,
     "end_time": "2025-06-04T05:07:13.865580",
     "exception": false,
     "start_time": "2025-06-04T05:07:12.398267",
     "status": "completed"
    },
    "tags": []
   },
   "outputs": [
    {
     "name": "stdout",
     "output_type": "stream",
     "text": [
      "Using Kaggle's public dataset BigQuery integration.\n"
     ]
    },
    {
     "name": "stderr",
     "output_type": "stream",
     "text": [
      "/usr/local/lib/python3.11/dist-packages/pandas/io/formats/format.py:1458: RuntimeWarning: invalid value encountered in greater\n",
      "  has_large_values = (abs_vals > 1e6).any()\n",
      "/usr/local/lib/python3.11/dist-packages/pandas/io/formats/format.py:1459: RuntimeWarning: invalid value encountered in less\n",
      "  has_small_values = ((abs_vals < 10 ** (-self.digits)) & (abs_vals > 0)).any()\n",
      "/usr/local/lib/python3.11/dist-packages/pandas/io/formats/format.py:1459: RuntimeWarning: invalid value encountered in greater\n",
      "  has_small_values = ((abs_vals < 10 ** (-self.digits)) & (abs_vals > 0)).any()\n",
      "/usr/local/lib/python3.11/dist-packages/pandas/io/formats/format.py:1458: RuntimeWarning: invalid value encountered in greater\n",
      "  has_large_values = (abs_vals > 1e6).any()\n",
      "/usr/local/lib/python3.11/dist-packages/pandas/io/formats/format.py:1459: RuntimeWarning: invalid value encountered in less\n",
      "  has_small_values = ((abs_vals < 10 ** (-self.digits)) & (abs_vals > 0)).any()\n",
      "/usr/local/lib/python3.11/dist-packages/pandas/io/formats/format.py:1459: RuntimeWarning: invalid value encountered in greater\n",
      "  has_small_values = ((abs_vals < 10 ** (-self.digits)) & (abs_vals > 0)).any()\n"
     ]
    },
    {
     "data": {
      "text/html": [
       "<div>\n",
       "<style scoped>\n",
       "    .dataframe tbody tr th:only-of-type {\n",
       "        vertical-align: middle;\n",
       "    }\n",
       "\n",
       "    .dataframe tbody tr th {\n",
       "        vertical-align: top;\n",
       "    }\n",
       "\n",
       "    .dataframe thead th {\n",
       "        text-align: right;\n",
       "    }\n",
       "</style>\n",
       "<table border=\"1\" class=\"dataframe\">\n",
       "  <thead>\n",
       "    <tr style=\"text-align: right;\">\n",
       "      <th></th>\n",
       "      <th>unique_key</th>\n",
       "      <th>taxi_id</th>\n",
       "      <th>trip_start_timestamp</th>\n",
       "      <th>trip_end_timestamp</th>\n",
       "      <th>trip_seconds</th>\n",
       "      <th>trip_miles</th>\n",
       "      <th>pickup_census_tract</th>\n",
       "      <th>dropoff_census_tract</th>\n",
       "      <th>pickup_community_area</th>\n",
       "      <th>dropoff_community_area</th>\n",
       "      <th>...</th>\n",
       "      <th>extras</th>\n",
       "      <th>trip_total</th>\n",
       "      <th>payment_type</th>\n",
       "      <th>company</th>\n",
       "      <th>pickup_latitude</th>\n",
       "      <th>pickup_longitude</th>\n",
       "      <th>pickup_location</th>\n",
       "      <th>dropoff_latitude</th>\n",
       "      <th>dropoff_longitude</th>\n",
       "      <th>dropoff_location</th>\n",
       "    </tr>\n",
       "  </thead>\n",
       "  <tbody>\n",
       "    <tr>\n",
       "      <th>0</th>\n",
       "      <td>65c197d29a20c51c9efcfdfe38d66e238cc02fbd</td>\n",
       "      <td>044aa88179fa43c628fe5a956567224cf0b1b1ad5994f3...</td>\n",
       "      <td>2015-09-30 16:45:00+00:00</td>\n",
       "      <td>2015-09-30 16:45:00+00:00</td>\n",
       "      <td>0</td>\n",
       "      <td>0.0</td>\n",
       "      <td>&lt;NA&gt;</td>\n",
       "      <td>&lt;NA&gt;</td>\n",
       "      <td>&lt;NA&gt;</td>\n",
       "      <td>&lt;NA&gt;</td>\n",
       "      <td>...</td>\n",
       "      <td>0.0</td>\n",
       "      <td>6.56</td>\n",
       "      <td>Credit Card</td>\n",
       "      <td>Chicago Elite Cab Corp. (Chicago Carriag</td>\n",
       "      <td>NaN</td>\n",
       "      <td>NaN</td>\n",
       "      <td>None</td>\n",
       "      <td>NaN</td>\n",
       "      <td>NaN</td>\n",
       "      <td>None</td>\n",
       "    </tr>\n",
       "    <tr>\n",
       "      <th>1</th>\n",
       "      <td>eda840c6adac54124f3ea0d07f58c6ac4beb5ad5</td>\n",
       "      <td>f73d5459dcae455d9d7eb464fb7689b48cf9518d3cf1b7...</td>\n",
       "      <td>2015-09-30 16:45:00+00:00</td>\n",
       "      <td>2015-09-30 16:45:00+00:00</td>\n",
       "      <td>0</td>\n",
       "      <td>0.0</td>\n",
       "      <td>&lt;NA&gt;</td>\n",
       "      <td>&lt;NA&gt;</td>\n",
       "      <td>&lt;NA&gt;</td>\n",
       "      <td>&lt;NA&gt;</td>\n",
       "      <td>...</td>\n",
       "      <td>0.0</td>\n",
       "      <td>48.54</td>\n",
       "      <td>Credit Card</td>\n",
       "      <td>Chicago Elite Cab Corp. (Chicago Carriag</td>\n",
       "      <td>NaN</td>\n",
       "      <td>NaN</td>\n",
       "      <td>None</td>\n",
       "      <td>NaN</td>\n",
       "      <td>NaN</td>\n",
       "      <td>None</td>\n",
       "    </tr>\n",
       "    <tr>\n",
       "      <th>2</th>\n",
       "      <td>087b261d05e166e45c4afa9b4b4f6495a93fb8dd</td>\n",
       "      <td>bea60a7eb41413e1c5c6477f99e0044eb0a88f575e4cc9...</td>\n",
       "      <td>2015-09-30 19:00:00+00:00</td>\n",
       "      <td>2015-09-30 19:00:00+00:00</td>\n",
       "      <td>0</td>\n",
       "      <td>0.0</td>\n",
       "      <td>&lt;NA&gt;</td>\n",
       "      <td>&lt;NA&gt;</td>\n",
       "      <td>&lt;NA&gt;</td>\n",
       "      <td>&lt;NA&gt;</td>\n",
       "      <td>...</td>\n",
       "      <td>0.0</td>\n",
       "      <td>11.10</td>\n",
       "      <td>Credit Card</td>\n",
       "      <td>Chicago Elite Cab Corp. (Chicago Carriag</td>\n",
       "      <td>NaN</td>\n",
       "      <td>NaN</td>\n",
       "      <td>None</td>\n",
       "      <td>NaN</td>\n",
       "      <td>NaN</td>\n",
       "      <td>None</td>\n",
       "    </tr>\n",
       "    <tr>\n",
       "      <th>3</th>\n",
       "      <td>37e5fdfe71ece9dabd2e7429e51274026bc6e367</td>\n",
       "      <td>65057dc10e707a18a32bc4371c5db0b828e90f9caf1068...</td>\n",
       "      <td>2015-09-30 18:45:00+00:00</td>\n",
       "      <td>2015-09-30 18:45:00+00:00</td>\n",
       "      <td>240</td>\n",
       "      <td>0.0</td>\n",
       "      <td>&lt;NA&gt;</td>\n",
       "      <td>&lt;NA&gt;</td>\n",
       "      <td>&lt;NA&gt;</td>\n",
       "      <td>&lt;NA&gt;</td>\n",
       "      <td>...</td>\n",
       "      <td>0.0</td>\n",
       "      <td>48.85</td>\n",
       "      <td>Credit Card</td>\n",
       "      <td>T.A.S. - Payment Only</td>\n",
       "      <td>NaN</td>\n",
       "      <td>NaN</td>\n",
       "      <td>None</td>\n",
       "      <td>NaN</td>\n",
       "      <td>NaN</td>\n",
       "      <td>None</td>\n",
       "    </tr>\n",
       "    <tr>\n",
       "      <th>4</th>\n",
       "      <td>c53f0b8d9649b2ebdf05558b6f07ccfc5847e63f</td>\n",
       "      <td>91497415a660769fc8f14112338deaf6aa43b307f2a43c...</td>\n",
       "      <td>2015-09-30 16:15:00+00:00</td>\n",
       "      <td>2015-09-30 16:15:00+00:00</td>\n",
       "      <td>0</td>\n",
       "      <td>0.0</td>\n",
       "      <td>&lt;NA&gt;</td>\n",
       "      <td>&lt;NA&gt;</td>\n",
       "      <td>&lt;NA&gt;</td>\n",
       "      <td>&lt;NA&gt;</td>\n",
       "      <td>...</td>\n",
       "      <td>0.0</td>\n",
       "      <td>49.02</td>\n",
       "      <td>Credit Card</td>\n",
       "      <td>Chicago Elite Cab Corp. (Chicago Carriag</td>\n",
       "      <td>NaN</td>\n",
       "      <td>NaN</td>\n",
       "      <td>None</td>\n",
       "      <td>NaN</td>\n",
       "      <td>NaN</td>\n",
       "      <td>None</td>\n",
       "    </tr>\n",
       "  </tbody>\n",
       "</table>\n",
       "<p>5 rows × 23 columns</p>\n",
       "</div>"
      ],
      "text/plain": [
       "                                 unique_key  \\\n",
       "0  65c197d29a20c51c9efcfdfe38d66e238cc02fbd   \n",
       "1  eda840c6adac54124f3ea0d07f58c6ac4beb5ad5   \n",
       "2  087b261d05e166e45c4afa9b4b4f6495a93fb8dd   \n",
       "3  37e5fdfe71ece9dabd2e7429e51274026bc6e367   \n",
       "4  c53f0b8d9649b2ebdf05558b6f07ccfc5847e63f   \n",
       "\n",
       "                                             taxi_id  \\\n",
       "0  044aa88179fa43c628fe5a956567224cf0b1b1ad5994f3...   \n",
       "1  f73d5459dcae455d9d7eb464fb7689b48cf9518d3cf1b7...   \n",
       "2  bea60a7eb41413e1c5c6477f99e0044eb0a88f575e4cc9...   \n",
       "3  65057dc10e707a18a32bc4371c5db0b828e90f9caf1068...   \n",
       "4  91497415a660769fc8f14112338deaf6aa43b307f2a43c...   \n",
       "\n",
       "       trip_start_timestamp        trip_end_timestamp  trip_seconds  \\\n",
       "0 2015-09-30 16:45:00+00:00 2015-09-30 16:45:00+00:00             0   \n",
       "1 2015-09-30 16:45:00+00:00 2015-09-30 16:45:00+00:00             0   \n",
       "2 2015-09-30 19:00:00+00:00 2015-09-30 19:00:00+00:00             0   \n",
       "3 2015-09-30 18:45:00+00:00 2015-09-30 18:45:00+00:00           240   \n",
       "4 2015-09-30 16:15:00+00:00 2015-09-30 16:15:00+00:00             0   \n",
       "\n",
       "   trip_miles  pickup_census_tract  dropoff_census_tract  \\\n",
       "0         0.0                 <NA>                  <NA>   \n",
       "1         0.0                 <NA>                  <NA>   \n",
       "2         0.0                 <NA>                  <NA>   \n",
       "3         0.0                 <NA>                  <NA>   \n",
       "4         0.0                 <NA>                  <NA>   \n",
       "\n",
       "   pickup_community_area  dropoff_community_area  ...  extras  trip_total  \\\n",
       "0                   <NA>                    <NA>  ...     0.0        6.56   \n",
       "1                   <NA>                    <NA>  ...     0.0       48.54   \n",
       "2                   <NA>                    <NA>  ...     0.0       11.10   \n",
       "3                   <NA>                    <NA>  ...     0.0       48.85   \n",
       "4                   <NA>                    <NA>  ...     0.0       49.02   \n",
       "\n",
       "   payment_type                                   company  pickup_latitude  \\\n",
       "0   Credit Card  Chicago Elite Cab Corp. (Chicago Carriag              NaN   \n",
       "1   Credit Card  Chicago Elite Cab Corp. (Chicago Carriag              NaN   \n",
       "2   Credit Card  Chicago Elite Cab Corp. (Chicago Carriag              NaN   \n",
       "3   Credit Card                     T.A.S. - Payment Only              NaN   \n",
       "4   Credit Card  Chicago Elite Cab Corp. (Chicago Carriag              NaN   \n",
       "\n",
       "  pickup_longitude pickup_location  dropoff_latitude  dropoff_longitude  \\\n",
       "0              NaN            None               NaN                NaN   \n",
       "1              NaN            None               NaN                NaN   \n",
       "2              NaN            None               NaN                NaN   \n",
       "3              NaN            None               NaN                NaN   \n",
       "4              NaN            None               NaN                NaN   \n",
       "\n",
       "  dropoff_location  \n",
       "0             None  \n",
       "1             None  \n",
       "2             None  \n",
       "3             None  \n",
       "4             None  \n",
       "\n",
       "[5 rows x 23 columns]"
      ]
     },
     "execution_count": 2,
     "metadata": {},
     "output_type": "execute_result"
    }
   ],
   "source": [
    "from google.cloud import bigquery\n",
    "\n",
    "# Create a \"Client\" object\n",
    "client = bigquery.Client()\n",
    "\n",
    "# Construct a reference to the \"chicago_taxi_trips\" dataset\n",
    "dataset_ref = client.dataset(\"chicago_taxi_trips\", project=\"bigquery-public-data\")\n",
    "\n",
    "# API request - fetch the dataset\n",
    "dataset = client.get_dataset(dataset_ref)\n",
    "\n",
    "# Construct a reference to the \"taxi_trips\" table\n",
    "table_ref = dataset_ref.table(\"taxi_trips\")\n",
    "\n",
    "# API request - fetch the table\n",
    "table = client.get_table(table_ref)\n",
    "\n",
    "# Preview the first five lines of the table\n",
    "client.list_rows(table, max_results=5).to_dataframe()"
   ]
  },
  {
   "cell_type": "markdown",
   "id": "28c920db",
   "metadata": {
    "papermill": {
     "duration": 0.004634,
     "end_time": "2025-06-04T05:07:13.875265",
     "exception": false,
     "start_time": "2025-06-04T05:07:13.870631",
     "status": "completed"
    },
    "tags": []
   },
   "source": [
    "# Exercises\n",
    "\n",
    "### 1) How can you predict the demand for taxis?\n",
    "\n",
    "Say you work for a taxi company, and you're interested in predicting the demand for taxis.  Towards this goal, you'd like to create a plot that shows a rolling average of the daily number of taxi trips.  Amend the (partial) query below to return a DataFrame with two columns:\n",
    "- `trip_date` - contains one entry for each date from January 1, 2016, to March 31, 2016.\n",
    "- `avg_num_trips` - shows the average number of daily trips, calculated over a window including the value for the current date, along with the values for the preceding 3 days and the following 3 days, as long as the days fit within the three-month time frame.  For instance, when calculating the value in this column for January 3, 2016, the window will include the number of trips for the preceding 2 days, the current date, and the following 3 days.\n",
    "\n",
    "This query is partially completed for you, and you need only write the part that calculates the `avg_num_trips` column.  Note that this query uses a common table expression (CTE); if you need to review how to use CTEs, you're encouraged to check out [this tutorial](https://www.kaggle.com/dansbecker/as-with) in the [Intro to SQL](https://www.kaggle.com/learn/intro-to-sql) course."
   ]
  },
  {
   "cell_type": "code",
   "execution_count": 3,
   "id": "06a58696",
   "metadata": {
    "execution": {
     "iopub.execute_input": "2025-06-04T05:07:13.886930Z",
     "iopub.status.busy": "2025-06-04T05:07:13.885906Z",
     "iopub.status.idle": "2025-06-04T05:07:15.108185Z",
     "shell.execute_reply": "2025-06-04T05:07:15.107056Z"
    },
    "papermill": {
     "duration": 1.230425,
     "end_time": "2025-06-04T05:07:15.110405",
     "exception": false,
     "start_time": "2025-06-04T05:07:13.879980",
     "status": "completed"
    },
    "tags": []
   },
   "outputs": [
    {
     "name": "stderr",
     "output_type": "stream",
     "text": [
      "/usr/local/lib/python3.11/dist-packages/google/cloud/bigquery/table.py:1727: UserWarning: BigQuery Storage module not found, fetch data with the REST endpoint instead.\n",
      "  warnings.warn(\n"
     ]
    },
    {
     "data": {
      "text/html": [
       "<div>\n",
       "<style scoped>\n",
       "    .dataframe tbody tr th:only-of-type {\n",
       "        vertical-align: middle;\n",
       "    }\n",
       "\n",
       "    .dataframe tbody tr th {\n",
       "        vertical-align: top;\n",
       "    }\n",
       "\n",
       "    .dataframe thead th {\n",
       "        text-align: right;\n",
       "    }\n",
       "</style>\n",
       "<table border=\"1\" class=\"dataframe\">\n",
       "  <thead>\n",
       "    <tr style=\"text-align: right;\">\n",
       "      <th></th>\n",
       "      <th>trip_date</th>\n",
       "      <th>avg_num_trips</th>\n",
       "    </tr>\n",
       "  </thead>\n",
       "  <tbody>\n",
       "    <tr>\n",
       "      <th>0</th>\n",
       "      <td>2016-01-03</td>\n",
       "      <td>73287.833333</td>\n",
       "    </tr>\n",
       "    <tr>\n",
       "      <th>1</th>\n",
       "      <td>2016-02-18</td>\n",
       "      <td>88680.285714</td>\n",
       "    </tr>\n",
       "    <tr>\n",
       "      <th>2</th>\n",
       "      <td>2016-01-14</td>\n",
       "      <td>86916.428571</td>\n",
       "    </tr>\n",
       "    <tr>\n",
       "      <th>3</th>\n",
       "      <td>2016-01-17</td>\n",
       "      <td>84366.285714</td>\n",
       "    </tr>\n",
       "    <tr>\n",
       "      <th>4</th>\n",
       "      <td>2016-01-28</td>\n",
       "      <td>80813.142857</td>\n",
       "    </tr>\n",
       "  </tbody>\n",
       "</table>\n",
       "</div>"
      ],
      "text/plain": [
       "    trip_date  avg_num_trips\n",
       "0  2016-01-03   73287.833333\n",
       "1  2016-02-18   88680.285714\n",
       "2  2016-01-14   86916.428571\n",
       "3  2016-01-17   84366.285714\n",
       "4  2016-01-28   80813.142857"
      ]
     },
     "metadata": {},
     "output_type": "display_data"
    },
    {
     "data": {
      "application/javascript": [
       "parent.postMessage({\"jupyterEvent\": \"custom.exercise_interaction\", \"data\": {\"outcomeType\": 1, \"valueTowardsCompletion\": 0.3333333333333333, \"interactionType\": 1, \"questionType\": 2, \"questionId\": \"1_TaxiDemand\", \"learnToolsVersion\": \"0.3.5\", \"failureMessage\": \"\", \"exceptionClass\": \"\", \"trace\": \"\"}}, \"*\")"
      ],
      "text/plain": [
       "<IPython.core.display.Javascript object>"
      ]
     },
     "metadata": {},
     "output_type": "display_data"
    },
    {
     "data": {
      "text/markdown": [
       "<span style=\"color:#33cc33\">Correct</span>"
      ],
      "text/plain": [
       "Correct"
      ]
     },
     "metadata": {},
     "output_type": "display_data"
    }
   ],
   "source": [
    "# Fill in the blank below\n",
    "avg_num_trips_query = \"\"\"\n",
    "                      WITH trips_by_day AS\n",
    "                      (\n",
    "                      SELECT DATE(trip_start_timestamp) AS trip_date,\n",
    "                          COUNT(*) as num_trips\n",
    "                      FROM `bigquery-public-data.chicago_taxi_trips.taxi_trips`\n",
    "                      WHERE trip_start_timestamp > '2016-01-01' AND trip_start_timestamp < '2016-04-01'\n",
    "                      GROUP BY trip_date\n",
    "                      ORDER BY trip_date\n",
    "                      )\n",
    "                      SELECT trip_date,\n",
    "                          AVG(num_trips)\n",
    "                          OVER (\n",
    "                               ORDER BY trip_date\n",
    "                               ROWS BETWEEN 3 PRECEDING AND 3 FOLLOWING\n",
    "                               ) AS avg_num_trips\n",
    "                      FROM trips_by_day\n",
    "                      \"\"\"\n",
    "\n",
    "# Check your answer\n",
    "q_1.check()"
   ]
  },
  {
   "cell_type": "code",
   "execution_count": 4,
   "id": "0753d1ce",
   "metadata": {
    "execution": {
     "iopub.execute_input": "2025-06-04T05:07:15.124546Z",
     "iopub.status.busy": "2025-06-04T05:07:15.122952Z",
     "iopub.status.idle": "2025-06-04T05:07:15.128669Z",
     "shell.execute_reply": "2025-06-04T05:07:15.127408Z"
    },
    "papermill": {
     "duration": 0.014679,
     "end_time": "2025-06-04T05:07:15.130797",
     "exception": false,
     "start_time": "2025-06-04T05:07:15.116118",
     "status": "completed"
    },
    "tags": []
   },
   "outputs": [],
   "source": [
    "# Lines below will give you a hint or solution code\n",
    "#q_1.hint()\n",
    "# q_1.solution()"
   ]
  },
  {
   "cell_type": "markdown",
   "id": "d6c48fb6",
   "metadata": {
    "papermill": {
     "duration": 0.005086,
     "end_time": "2025-06-04T05:07:15.141501",
     "exception": false,
     "start_time": "2025-06-04T05:07:15.136415",
     "status": "completed"
    },
    "tags": []
   },
   "source": [
    "### 2) Can you separate and order trips by community area?\n",
    "\n",
    "The query below returns a DataFrame with three columns from the table: `pickup_community_area`, `trip_start_timestamp`, and `trip_end_timestamp`.  \n",
    "\n",
    "Amend the query to return an additional column called `trip_number` which shows the order in which the trips were taken from their respective community areas.  So, the first trip of the day originating from community area 1 should receive a value of 1; the second trip of the day from the same area should receive a value of 2.  Likewise, the first trip of the day from community area 2 should receive a value of 1, and so on.\n",
    "\n",
    "Note that there are many numbering functions that can be used to solve this problem (depending on how you want to deal with trips that started at the same time from the same community area); to answer this question, please use the **RANK()** function."
   ]
  },
  {
   "cell_type": "code",
   "execution_count": 5,
   "id": "c12e8005",
   "metadata": {
    "execution": {
     "iopub.execute_input": "2025-06-04T05:07:15.153877Z",
     "iopub.status.busy": "2025-06-04T05:07:15.153460Z",
     "iopub.status.idle": "2025-06-04T05:07:19.152744Z",
     "shell.execute_reply": "2025-06-04T05:07:19.151791Z"
    },
    "papermill": {
     "duration": 4.007868,
     "end_time": "2025-06-04T05:07:19.154499",
     "exception": false,
     "start_time": "2025-06-04T05:07:15.146631",
     "status": "completed"
    },
    "tags": []
   },
   "outputs": [
    {
     "name": "stderr",
     "output_type": "stream",
     "text": [
      "/usr/local/lib/python3.11/dist-packages/google/cloud/bigquery/table.py:1727: UserWarning: BigQuery Storage module not found, fetch data with the REST endpoint instead.\n",
      "  warnings.warn(\n"
     ]
    },
    {
     "data": {
      "text/html": [
       "<div>\n",
       "<style scoped>\n",
       "    .dataframe tbody tr th:only-of-type {\n",
       "        vertical-align: middle;\n",
       "    }\n",
       "\n",
       "    .dataframe tbody tr th {\n",
       "        vertical-align: top;\n",
       "    }\n",
       "\n",
       "    .dataframe thead th {\n",
       "        text-align: right;\n",
       "    }\n",
       "</style>\n",
       "<table border=\"1\" class=\"dataframe\">\n",
       "  <thead>\n",
       "    <tr style=\"text-align: right;\">\n",
       "      <th></th>\n",
       "      <th>pickup_community_area</th>\n",
       "      <th>trip_start_timestamp</th>\n",
       "      <th>trip_end_timestamp</th>\n",
       "      <th>trip_number</th>\n",
       "    </tr>\n",
       "  </thead>\n",
       "  <tbody>\n",
       "    <tr>\n",
       "      <th>0</th>\n",
       "      <td>23</td>\n",
       "      <td>2013-10-03 00:30:00+00:00</td>\n",
       "      <td>2013-10-03 00:45:00+00:00</td>\n",
       "      <td>1</td>\n",
       "    </tr>\n",
       "    <tr>\n",
       "      <th>1</th>\n",
       "      <td>23</td>\n",
       "      <td>2013-10-03 01:45:00+00:00</td>\n",
       "      <td>2013-10-03 01:45:00+00:00</td>\n",
       "      <td>2</td>\n",
       "    </tr>\n",
       "    <tr>\n",
       "      <th>2</th>\n",
       "      <td>23</td>\n",
       "      <td>2013-10-03 03:15:00+00:00</td>\n",
       "      <td>2013-10-03 03:30:00+00:00</td>\n",
       "      <td>3</td>\n",
       "    </tr>\n",
       "    <tr>\n",
       "      <th>3</th>\n",
       "      <td>23</td>\n",
       "      <td>2013-10-03 04:00:00+00:00</td>\n",
       "      <td>2013-10-03 04:00:00+00:00</td>\n",
       "      <td>4</td>\n",
       "    </tr>\n",
       "    <tr>\n",
       "      <th>4</th>\n",
       "      <td>23</td>\n",
       "      <td>2013-10-03 04:00:00+00:00</td>\n",
       "      <td>2013-10-03 05:00:00+00:00</td>\n",
       "      <td>4</td>\n",
       "    </tr>\n",
       "  </tbody>\n",
       "</table>\n",
       "</div>"
      ],
      "text/plain": [
       "   pickup_community_area      trip_start_timestamp        trip_end_timestamp  \\\n",
       "0                     23 2013-10-03 00:30:00+00:00 2013-10-03 00:45:00+00:00   \n",
       "1                     23 2013-10-03 01:45:00+00:00 2013-10-03 01:45:00+00:00   \n",
       "2                     23 2013-10-03 03:15:00+00:00 2013-10-03 03:30:00+00:00   \n",
       "3                     23 2013-10-03 04:00:00+00:00 2013-10-03 04:00:00+00:00   \n",
       "4                     23 2013-10-03 04:00:00+00:00 2013-10-03 05:00:00+00:00   \n",
       "\n",
       "   trip_number  \n",
       "0            1  \n",
       "1            2  \n",
       "2            3  \n",
       "3            4  \n",
       "4            4  "
      ]
     },
     "metadata": {},
     "output_type": "display_data"
    },
    {
     "data": {
      "application/javascript": [
       "parent.postMessage({\"jupyterEvent\": \"custom.exercise_interaction\", \"data\": {\"outcomeType\": 1, \"valueTowardsCompletion\": 0.3333333333333333, \"interactionType\": 1, \"questionType\": 2, \"questionId\": \"2_CommunityArea\", \"learnToolsVersion\": \"0.3.5\", \"failureMessage\": \"\", \"exceptionClass\": \"\", \"trace\": \"\"}}, \"*\")"
      ],
      "text/plain": [
       "<IPython.core.display.Javascript object>"
      ]
     },
     "metadata": {},
     "output_type": "display_data"
    },
    {
     "data": {
      "text/markdown": [
       "<span style=\"color:#33cc33\">Correct</span>"
      ],
      "text/plain": [
       "Correct"
      ]
     },
     "metadata": {},
     "output_type": "display_data"
    }
   ],
   "source": [
    "# Amend the query below\n",
    "trip_number_query = \"\"\"\n",
    "                    SELECT pickup_community_area,\n",
    "                        trip_start_timestamp,\n",
    "                        trip_end_timestamp,\n",
    "                        RANK() OVER (\n",
    "                                    PARTITION BY pickup_community_area\n",
    "                                    ORDER BY trip_start_timestamp\n",
    "                                    ) AS trip_number\n",
    "                    FROM `bigquery-public-data.chicago_taxi_trips.taxi_trips`\n",
    "                    WHERE DATE(trip_start_timestamp) = '2013-10-03'\n",
    "                   \n",
    "                    \"\"\"\n",
    "                    \n",
    "\n",
    "# Check your answer\n",
    "q_2.check()"
   ]
  },
  {
   "cell_type": "code",
   "execution_count": 6,
   "id": "edc1d297",
   "metadata": {
    "execution": {
     "iopub.execute_input": "2025-06-04T05:07:19.167498Z",
     "iopub.status.busy": "2025-06-04T05:07:19.167019Z",
     "iopub.status.idle": "2025-06-04T05:07:19.172698Z",
     "shell.execute_reply": "2025-06-04T05:07:19.171435Z"
    },
    "papermill": {
     "duration": 0.014721,
     "end_time": "2025-06-04T05:07:19.174964",
     "exception": false,
     "start_time": "2025-06-04T05:07:19.160243",
     "status": "completed"
    },
    "tags": []
   },
   "outputs": [],
   "source": [
    "# Lines below will give you a hint or solution code\n",
    "#q_2.hint()\n",
    "#q_2.solution()"
   ]
  },
  {
   "cell_type": "markdown",
   "id": "0954525b",
   "metadata": {
    "papermill": {
     "duration": 0.005657,
     "end_time": "2025-06-04T05:07:19.186985",
     "exception": false,
     "start_time": "2025-06-04T05:07:19.181328",
     "status": "completed"
    },
    "tags": []
   },
   "source": [
    "### 3) How much time elapses between trips?\n",
    "\n",
    "The (partial) query in the code cell below shows, for each trip in the selected time frame, the corresponding `taxi_id`, `trip_start_timestamp`, and `trip_end_timestamp`. \n",
    "\n",
    "Your task in this exercise is to edit the query to include an additional `prev_break` column that shows the length of the break (in minutes) that the driver had before each trip started (this corresponds to the time between `trip_start_timestamp` of the current trip and `trip_end_timestamp` of the previous trip).  Partition the calculation by `taxi_id`, and order the results within each partition by `trip_start_timestamp`.\n",
    "\n",
    "Some sample results are shown below, where all rows correspond to the same driver (or `taxi_id`).  Take the time now to make sure that the values in the `prev_break` column make sense to you!\n",
    "\n",
    "![first_commands](https://storage.googleapis.com/kaggle-media/learn/images/qjvQzg8.png)\n",
    "\n",
    "Note that the first trip of the day for each driver should have a value of **NaN** (not a number) in the `prev_break` column."
   ]
  },
  {
   "cell_type": "code",
   "execution_count": 7,
   "id": "386b46da",
   "metadata": {
    "execution": {
     "iopub.execute_input": "2025-06-04T05:07:19.203370Z",
     "iopub.status.busy": "2025-06-04T05:07:19.202030Z",
     "iopub.status.idle": "2025-06-04T05:07:28.347991Z",
     "shell.execute_reply": "2025-06-04T05:07:28.346708Z"
    },
    "papermill": {
     "duration": 9.155693,
     "end_time": "2025-06-04T05:07:28.349887",
     "exception": false,
     "start_time": "2025-06-04T05:07:19.194194",
     "status": "completed"
    },
    "tags": []
   },
   "outputs": [
    {
     "name": "stderr",
     "output_type": "stream",
     "text": [
      "/usr/local/lib/python3.11/dist-packages/google/cloud/bigquery/table.py:1727: UserWarning: BigQuery Storage module not found, fetch data with the REST endpoint instead.\n",
      "  warnings.warn(\n"
     ]
    },
    {
     "data": {
      "text/html": [
       "<div>\n",
       "<style scoped>\n",
       "    .dataframe tbody tr th:only-of-type {\n",
       "        vertical-align: middle;\n",
       "    }\n",
       "\n",
       "    .dataframe tbody tr th {\n",
       "        vertical-align: top;\n",
       "    }\n",
       "\n",
       "    .dataframe thead th {\n",
       "        text-align: right;\n",
       "    }\n",
       "</style>\n",
       "<table border=\"1\" class=\"dataframe\">\n",
       "  <thead>\n",
       "    <tr style=\"text-align: right;\">\n",
       "      <th></th>\n",
       "      <th>taxi_id</th>\n",
       "      <th>trip_start_timestamp</th>\n",
       "      <th>trip_end_timestamp</th>\n",
       "      <th>prev_break</th>\n",
       "    </tr>\n",
       "  </thead>\n",
       "  <tbody>\n",
       "    <tr>\n",
       "      <th>0</th>\n",
       "      <td>08a2d72fd3f2cf622ae26003841c9a12e75d0d7d243bd1...</td>\n",
       "      <td>2013-10-03 17:15:00+00:00</td>\n",
       "      <td>2013-10-03 17:15:00+00:00</td>\n",
       "      <td>-60</td>\n",
       "    </tr>\n",
       "    <tr>\n",
       "      <th>1</th>\n",
       "      <td>0fdba89b60c4f920c7a24fafbaf5d47f93026b492de33a...</td>\n",
       "      <td>2013-10-03 18:30:00+00:00</td>\n",
       "      <td>2013-10-03 18:45:00+00:00</td>\n",
       "      <td>330</td>\n",
       "    </tr>\n",
       "    <tr>\n",
       "      <th>2</th>\n",
       "      <td>13449628ffc62c70df3e9439374ee96ab03cb2d119786e...</td>\n",
       "      <td>2013-10-03 08:00:00+00:00</td>\n",
       "      <td>2013-10-03 08:00:00+00:00</td>\n",
       "      <td>240</td>\n",
       "    </tr>\n",
       "    <tr>\n",
       "      <th>3</th>\n",
       "      <td>13449628ffc62c70df3e9439374ee96ab03cb2d119786e...</td>\n",
       "      <td>2013-10-03 17:45:00+00:00</td>\n",
       "      <td>2013-10-03 17:45:00+00:00</td>\n",
       "      <td>360</td>\n",
       "    </tr>\n",
       "    <tr>\n",
       "      <th>4</th>\n",
       "      <td>18f4d1898ead14ae8bc4828a02ead3e6c6294429ebf347...</td>\n",
       "      <td>2013-10-03 17:00:00+00:00</td>\n",
       "      <td>2013-10-03 17:45:00+00:00</td>\n",
       "      <td>255</td>\n",
       "    </tr>\n",
       "  </tbody>\n",
       "</table>\n",
       "</div>"
      ],
      "text/plain": [
       "                                             taxi_id  \\\n",
       "0  08a2d72fd3f2cf622ae26003841c9a12e75d0d7d243bd1...   \n",
       "1  0fdba89b60c4f920c7a24fafbaf5d47f93026b492de33a...   \n",
       "2  13449628ffc62c70df3e9439374ee96ab03cb2d119786e...   \n",
       "3  13449628ffc62c70df3e9439374ee96ab03cb2d119786e...   \n",
       "4  18f4d1898ead14ae8bc4828a02ead3e6c6294429ebf347...   \n",
       "\n",
       "       trip_start_timestamp        trip_end_timestamp  prev_break  \n",
       "0 2013-10-03 17:15:00+00:00 2013-10-03 17:15:00+00:00         -60  \n",
       "1 2013-10-03 18:30:00+00:00 2013-10-03 18:45:00+00:00         330  \n",
       "2 2013-10-03 08:00:00+00:00 2013-10-03 08:00:00+00:00         240  \n",
       "3 2013-10-03 17:45:00+00:00 2013-10-03 17:45:00+00:00         360  \n",
       "4 2013-10-03 17:00:00+00:00 2013-10-03 17:45:00+00:00         255  "
      ]
     },
     "metadata": {},
     "output_type": "display_data"
    },
    {
     "data": {
      "application/javascript": [
       "parent.postMessage({\"jupyterEvent\": \"custom.exercise_interaction\", \"data\": {\"outcomeType\": 1, \"valueTowardsCompletion\": 0.3333333333333333, \"interactionType\": 1, \"questionType\": 2, \"questionId\": \"3_BreakTime\", \"learnToolsVersion\": \"0.3.5\", \"failureMessage\": \"\", \"exceptionClass\": \"\", \"trace\": \"\"}}, \"*\")"
      ],
      "text/plain": [
       "<IPython.core.display.Javascript object>"
      ]
     },
     "metadata": {},
     "output_type": "display_data"
    },
    {
     "data": {
      "text/markdown": [
       "<span style=\"color:#33cc33\">Correct</span>"
      ],
      "text/plain": [
       "Correct"
      ]
     },
     "metadata": {},
     "output_type": "display_data"
    }
   ],
   "source": [
    "# Fill in the blanks below\n",
    "break_time_query = \"\"\"\n",
    "                   SELECT taxi_id,\n",
    "                       trip_start_timestamp,\n",
    "                       trip_end_timestamp,\n",
    "                       TIMESTAMP_DIFF(\n",
    "                           trip_start_timestamp, \n",
    "                           LAG(trip_end_timestamp,1) \n",
    "                               OVER (\n",
    "                                    PARTITION BY taxi_id \n",
    "                                    ORDER BY trip_start_timestamp), \n",
    "                           MINUTE) as prev_break\n",
    "                   FROM `bigquery-public-data.chicago_taxi_trips.taxi_trips`\n",
    "                   WHERE DATE(trip_start_timestamp) = '2013-10-03' \n",
    "                   \"\"\"\n",
    "\n",
    "# Check your answer\n",
    "q_3.check()"
   ]
  },
  {
   "cell_type": "code",
   "execution_count": 8,
   "id": "1021e21c",
   "metadata": {
    "execution": {
     "iopub.execute_input": "2025-06-04T05:07:28.364856Z",
     "iopub.status.busy": "2025-06-04T05:07:28.364252Z",
     "iopub.status.idle": "2025-06-04T05:07:28.370031Z",
     "shell.execute_reply": "2025-06-04T05:07:28.368892Z"
    },
    "papermill": {
     "duration": 0.015847,
     "end_time": "2025-06-04T05:07:28.372402",
     "exception": false,
     "start_time": "2025-06-04T05:07:28.356555",
     "status": "completed"
    },
    "tags": []
   },
   "outputs": [],
   "source": [
    "# Lines below will give you a hint or solution code\n",
    "#q_3.hint()\n",
    "# q_3.solution()"
   ]
  },
  {
   "cell_type": "markdown",
   "id": "91771fc3",
   "metadata": {
    "papermill": {
     "duration": 0.005932,
     "end_time": "2025-06-04T05:07:28.384759",
     "exception": false,
     "start_time": "2025-06-04T05:07:28.378827",
     "status": "completed"
    },
    "tags": []
   },
   "source": [
    "# Keep going\n",
    "\n",
    "Move on to learn how to query **[nested and repeated data](https://www.kaggle.com/alexisbcook/nested-and-repeated-data)**."
   ]
  },
  {
   "cell_type": "markdown",
   "id": "c976f7d2",
   "metadata": {
    "papermill": {
     "duration": 0.006118,
     "end_time": "2025-06-04T05:07:28.397130",
     "exception": false,
     "start_time": "2025-06-04T05:07:28.391012",
     "status": "completed"
    },
    "tags": []
   },
   "source": [
    "---\n",
    "\n",
    "\n",
    "\n",
    "\n",
    "*Have questions or comments? Visit the [course discussion forum](https://www.kaggle.com/learn/advanced-sql/discussion) to chat with other learners.*"
   ]
  }
 ],
 "metadata": {
  "kaggle": {
   "accelerator": "none",
   "dataSources": [
    {
     "datasetId": 22219,
     "sourceId": 28536,
     "sourceType": "datasetVersion"
    }
   ],
   "isGpuEnabled": false,
   "isInternetEnabled": true,
   "language": "python",
   "sourceType": "notebook"
  },
  "kernelspec": {
   "display_name": "Python 3",
   "language": "python",
   "name": "python3"
  },
  "language_info": {
   "codemirror_mode": {
    "name": "ipython",
    "version": 3
   },
   "file_extension": ".py",
   "mimetype": "text/x-python",
   "name": "python",
   "nbconvert_exporter": "python",
   "pygments_lexer": "ipython3",
   "version": "3.11.11"
  },
  "papermill": {
   "default_parameters": {},
   "duration": 86.706555,
   "end_time": "2025-06-04T05:07:31.872515",
   "environment_variables": {},
   "exception": null,
   "input_path": "__notebook__.ipynb",
   "output_path": "__notebook__.ipynb",
   "parameters": {},
   "start_time": "2025-06-04T05:06:05.165960",
   "version": "2.6.0"
  }
 },
 "nbformat": 4,
 "nbformat_minor": 5
}
